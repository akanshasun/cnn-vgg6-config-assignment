{
  "cells": [
    {
      "cell_type": "markdown",
      "metadata": {
        "id": "view-in-github",
        "colab_type": "text"
      },
      "source": [
        "<a href=\"https://colab.research.google.com/github/akanshasun/cnn-vgg6-config-assignment/blob/main/vgg6_akansha.ipynb\" target=\"_parent\"><img src=\"https://colab.research.google.com/assets/colab-badge.svg\" alt=\"Open In Colab\"/></a>"
      ]
    },
    {
      "cell_type": "code",
      "execution_count": null,
      "metadata": {
        "id": "h4zVJuvxbApY",
        "colab": {
          "base_uri": "https://localhost:8080/"
        },
        "outputId": "ba022f3a-2914-43bd-a955-9f3d6b867d7c"
      },
      "outputs": [
        {
          "output_type": "stream",
          "name": "stdout",
          "text": [
            "Device: cuda\n"
          ]
        }
      ],
      "source": [
        "\n",
        "import os, math, time, random\n",
        "import torch\n",
        "import torch.nn as nn\n",
        "import torch.optim as optim\n",
        "from torch.utils.data import DataLoader, random_split\n",
        "from torchvision import datasets, transforms\n",
        "import matplotlib.pyplot as plt\n",
        "import torch.nn.functional as F\n",
        "import torch.nn.init as init\n",
        "import pandas as pd\n",
        "import argparse\n",
        "import wandb\n",
        "\n",
        "SEED = 42\n",
        "random.seed(SEED); torch.manual_seed(SEED); torch.cuda.manual_seed_all(SEED)\n",
        "torch.backends.cudnn.benchmark = True  # OK for CNNs\n",
        "device = torch.device(\"cuda\" if torch.cuda.is_available() else \"cpu\")\n",
        "print(\"Device:\", device)\n"
      ]
    },
    {
      "cell_type": "code",
      "execution_count": null,
      "metadata": {
        "id": "0m4DG18mQVuz"
      },
      "outputs": [],
      "source": [
        "from PIL import Image, ImageEnhance, ImageOps\n",
        "import random\n",
        "import numpy as np\n",
        "import torch\n",
        "\n",
        "\n",
        "class Cutout(object):\n",
        "    \"\"\"Randomly mask out one or more patches from an image.\n",
        "    Args:\n",
        "        n_holes (int): Number of patches to cut out of each image.\n",
        "        length (int): The length (in pixels) of each square patch.\n",
        "    \"\"\"\n",
        "    def __init__(self, n_holes, length):\n",
        "        self.n_holes = n_holes\n",
        "        self.length = length\n",
        "\n",
        "    def __call__(self, img):\n",
        "        \"\"\"\n",
        "        Args:\n",
        "            img (Tensor): Tensor image of size (C, H, W).\n",
        "        Returns:\n",
        "            Tensor: Image with n_holes of dimension length x length cut out of it.\n",
        "        \"\"\"\n",
        "        h = img.size(1)\n",
        "        w = img.size(2)\n",
        "\n",
        "        mask = np.ones((h, w), np.float32)\n",
        "\n",
        "        for n in range(self.n_holes):\n",
        "            y = np.random.randint(h)\n",
        "            x = np.random.randint(w)\n",
        "\n",
        "            y1 = np.clip(y - self.length // 2, 0, h)\n",
        "            y2 = np.clip(y + self.length // 2, 0, h)\n",
        "            x1 = np.clip(x - self.length // 2, 0, w)\n",
        "            x2 = np.clip(x + self.length // 2, 0, w)\n",
        "\n",
        "            mask[y1: y2, x1: x2] = 0.\n",
        "\n",
        "        mask = torch.from_numpy(mask)\n",
        "        mask = mask.expand_as(img)\n",
        "        img = img * mask\n",
        "        return img\n",
        "\n",
        "class SubPolicy(object):\n",
        "    def __init__(self, p1, operation1, magnitude_idx1, p2, operation2, magnitude_idx2, fillcolor=(128, 128, 128)):\n",
        "        self.p1 = p1\n",
        "        self.op1=operation1\n",
        "        self.magnitude_idx1=magnitude_idx1\n",
        "        self.p2 = p2\n",
        "        self.op2=operation2\n",
        "        self.magnitude_idx2=magnitude_idx2\n",
        "        self.fillcolor=fillcolor\n",
        "        self.init = 0\n",
        "\n",
        "    def gen(self, operation1, magnitude_idx1, operation2, magnitude_idx2, fillcolor):\n",
        "        ranges = {\n",
        "            \"shearX\": np.linspace(0, 0.3, 10),\n",
        "            \"shearY\": np.linspace(0, 0.3, 10),\n",
        "            \"translateX\": np.linspace(0, 150 / 331, 10),\n",
        "            \"translateY\": np.linspace(0, 150 / 331, 10),\n",
        "            \"rotate\": np.linspace(0, 30, 10),\n",
        "            \"color\": np.linspace(0.0, 0.9, 10),\n",
        "            \"posterize\": np.round(np.linspace(8, 4, 10), 0).astype(int),\n",
        "            \"solarize\": np.linspace(256, 0, 10),\n",
        "            \"contrast\": np.linspace(0.0, 0.9, 10),\n",
        "            \"sharpness\": np.linspace(0.0, 0.9, 10),\n",
        "            \"brightness\": np.linspace(0.0, 0.9, 10),\n",
        "            \"autocontrast\": [0] * 10,\n",
        "            \"equalize\": [0] * 10,\n",
        "            \"invert\": [0] * 10\n",
        "        }\n",
        "        def rotate_with_fill(img, magnitude):\n",
        "            rot = img.convert(\"RGBA\").rotate(magnitude)\n",
        "            return Image.composite(rot, Image.new(\"RGBA\", rot.size, (128,) * 4), rot).convert(img.mode)\n",
        "\n",
        "        func = {\n",
        "            \"shearX\": lambda img, magnitude: img.transform(\n",
        "                img.size, Image.AFFINE, (1, magnitude *\n",
        "                                         random.choice([-1, 1]), 0, 0, 1, 0),\n",
        "                Image.BICUBIC, fillcolor=fillcolor),\n",
        "            \"shearY\": lambda img, magnitude: img.transform(\n",
        "                img.size, Image.AFFINE, (1, 0, 0, magnitude *\n",
        "                                         random.choice([-1, 1]), 1, 0),\n",
        "                Image.BICUBIC, fillcolor=fillcolor),\n",
        "            \"translateX\": lambda img, magnitude: img.transform(\n",
        "                img.size, Image.AFFINE, (1, 0, magnitude *\n",
        "                                         img.size[0] * random.choice([-1, 1]), 0, 1, 0),\n",
        "                fillcolor=fillcolor),\n",
        "            \"translateY\": lambda img, magnitude: img.transform(\n",
        "                img.size, Image.AFFINE, (1, 0, 0, 0, 1, magnitude *\n",
        "                                         img.size[1] * random.choice([-1, 1])),\n",
        "                fillcolor=fillcolor),\n",
        "            \"rotate\": lambda img, magnitude: rotate_with_fill(img, magnitude),\n",
        "            # \"rotate\": lambda img, magnitude: img.rotate(magnitude * random.choice([-1, 1])),\n",
        "            \"color\": lambda img, magnitude: ImageEnhance.Color(img).enhance(1 + magnitude * random.choice([-1, 1])),\n",
        "            \"posterize\": lambda img, magnitude: ImageOps.posterize(img, magnitude),\n",
        "            \"solarize\": lambda img, magnitude: ImageOps.solarize(img, magnitude),\n",
        "            \"contrast\": lambda img, magnitude: ImageEnhance.Contrast(img).enhance(\n",
        "                1 + magnitude * random.choice([-1, 1])),\n",
        "            \"sharpness\": lambda img, magnitude: ImageEnhance.Sharpness(img).enhance(\n",
        "                1 + magnitude * random.choice([-1, 1])),\n",
        "            \"brightness\": lambda img, magnitude: ImageEnhance.Brightness(img).enhance(\n",
        "                1 + magnitude * random.choice([-1, 1])),\n",
        "            \"autocontrast\": lambda img, magnitude: ImageOps.autocontrast(img),\n",
        "            \"equalize\": lambda img, magnitude: ImageOps.equalize(img),\n",
        "            \"invert\": lambda img, magnitude: ImageOps.invert(img)\n",
        "        }\n",
        "\n",
        "        self.operation1 = func[operation1]\n",
        "        self.magnitude1 = ranges[operation1][magnitude_idx1]\n",
        "        self.operation2 = func[operation2]\n",
        "        self.magnitude2 = ranges[operation2][magnitude_idx2]\n",
        "\n",
        "    def __call__(self, img):\n",
        "        if self.init == 0:\n",
        "            self.gen(self.op1, self.magnitude_idx1, self.op2, self.magnitude_idx2, self.fillcolor)\n",
        "            self.init = 1\n",
        "        if random.random() < self.p1:\n",
        "            img = self.operation1(img, self.magnitude1)\n",
        "        if random.random() < self.p2:\n",
        "            img = self.operation2(img, self.magnitude2)\n",
        "        return img\n",
        "\n",
        "class ImageNetPolicy(object):\n",
        "    \"\"\" Randomly choose one of the best 24 Sub-policies on ImageNet.\n",
        "        Example:\n",
        "        >>> policy = ImageNetPolicy()\n",
        "        >>> transformed = policy(image)\n",
        "        Example as a PyTorch Transform:\n",
        "        >>> transform=transforms.Compose([\n",
        "        >>>     transforms.Resize(256),\n",
        "        >>>     ImageNetPolicy(),\n",
        "        >>>     transforms.ToTensor()])\n",
        "    \"\"\"\n",
        "\n",
        "    def __init__(self, fillcolor=(128, 128, 128)):\n",
        "        self.policies = [\n",
        "            SubPolicy(0.4, \"posterize\", 8, 0.6, \"rotate\", 9, fillcolor),\n",
        "            SubPolicy(0.6, \"solarize\", 5, 0.6, \"autocontrast\", 5, fillcolor),\n",
        "            SubPolicy(0.8, \"equalize\", 8, 0.6, \"equalize\", 3, fillcolor),\n",
        "            SubPolicy(0.6, \"posterize\", 7, 0.6, \"posterize\", 6, fillcolor),\n",
        "            SubPolicy(0.4, \"equalize\", 7, 0.2, \"solarize\", 4, fillcolor),\n",
        "\n",
        "            SubPolicy(0.4, \"equalize\", 4, 0.8, \"rotate\", 8, fillcolor),\n",
        "            SubPolicy(0.6, \"solarize\", 3, 0.6, \"equalize\", 7, fillcolor),\n",
        "            SubPolicy(0.8, \"posterize\", 5, 1.0, \"equalize\", 2, fillcolor),\n",
        "            SubPolicy(0.2, \"rotate\", 3, 0.6, \"solarize\", 8, fillcolor),\n",
        "            SubPolicy(0.6, \"equalize\", 8, 0.4, \"posterize\", 6, fillcolor),\n",
        "\n",
        "            SubPolicy(0.8, \"rotate\", 8, 0.4, \"color\", 0, fillcolor),\n",
        "            SubPolicy(0.4, \"rotate\", 9, 0.6, \"equalize\", 2, fillcolor),\n",
        "            SubPolicy(0.0, \"equalize\", 7, 0.8, \"equalize\", 8, fillcolor),\n",
        "            SubPolicy(0.6, \"invert\", 4, 1.0, \"equalize\", 8, fillcolor),\n",
        "            SubPolicy(0.6, \"color\", 4, 1.0, \"contrast\", 8, fillcolor),\n",
        "\n",
        "            SubPolicy(0.8, \"rotate\", 8, 1.0, \"color\", 2, fillcolor),\n",
        "            SubPolicy(0.8, \"color\", 8, 0.8, \"solarize\", 7, fillcolor),\n",
        "            SubPolicy(0.4, \"sharpness\", 7, 0.6, \"invert\", 8, fillcolor),\n",
        "            SubPolicy(0.6, \"shearX\", 5, 1.0, \"equalize\", 9, fillcolor),\n",
        "            SubPolicy(0.4, \"color\", 0, 0.6, \"equalize\", 3, fillcolor),\n",
        "\n",
        "            SubPolicy(0.4, \"equalize\", 7, 0.2, \"solarize\", 4, fillcolor),\n",
        "            SubPolicy(0.6, \"solarize\", 5, 0.6, \"autocontrast\", 5, fillcolor),\n",
        "            SubPolicy(0.6, \"invert\", 4, 1.0, \"equalize\", 8, fillcolor),\n",
        "            SubPolicy(0.6, \"color\", 4, 1.0, \"contrast\", 8, fillcolor)\n",
        "        ]\n",
        "\n",
        "    def __call__(self, img):\n",
        "        policy_idx = random.randint(0, len(self.policies) - 1)\n",
        "        return self.policies[policy_idx](img)\n",
        "\n",
        "    def __repr__(self):\n",
        "        return \"AutoAugment ImageNet Policy\"\n",
        "\n",
        "class CIFAR10Policy(object):\n",
        "    \"\"\" Randomly choose one of the best 25 Sub-policies on CIFAR10.\n",
        "\n",
        "        Example:\n",
        "        >>> policy = CIFAR10Policy()\n",
        "        >>> transformed = policy(image)\n",
        "\n",
        "        Example as a PyTorch Transform:\n",
        "        >>> transform=transforms.Compose([\n",
        "        >>>     transforms.Resize(256),\n",
        "        >>>     CIFAR10Policy(),\n",
        "        >>>     transforms.ToTensor()])\n",
        "    \"\"\"\n",
        "\n",
        "    def __init__(self, fillcolor=(128, 128, 128)):\n",
        "        self.policies = [\n",
        "            SubPolicy(0.1, \"invert\", 7, 0.2, \"contrast\", 6, fillcolor),\n",
        "            SubPolicy(0.7, \"rotate\", 2, 0.3, \"translateX\", 9, fillcolor),\n",
        "            SubPolicy(0.8, \"sharpness\", 1, 0.9, \"sharpness\", 3, fillcolor),\n",
        "            SubPolicy(0.5, \"shearY\", 8, 0.7, \"translateY\", 9, fillcolor),\n",
        "            SubPolicy(0.5, \"autocontrast\", 8, 0.9, \"equalize\", 2, fillcolor),\n",
        "\n",
        "            SubPolicy(0.2, \"shearY\", 7, 0.3, \"posterize\", 7, fillcolor),\n",
        "            SubPolicy(0.4, \"color\", 3, 0.6, \"brightness\", 7, fillcolor),\n",
        "            SubPolicy(0.3, \"sharpness\", 9, 0.7, \"brightness\", 9, fillcolor),\n",
        "            SubPolicy(0.6, \"equalize\", 5, 0.5, \"equalize\", 1, fillcolor),\n",
        "            SubPolicy(0.6, \"contrast\", 7, 0.6, \"sharpness\", 5, fillcolor),\n",
        "\n",
        "            SubPolicy(0.7, \"color\", 7, 0.5, \"translateX\", 8, fillcolor),\n",
        "            SubPolicy(0.3, \"equalize\", 7, 0.4, \"autocontrast\", 8, fillcolor),\n",
        "            SubPolicy(0.4, \"translateY\", 3, 0.2, \"sharpness\", 6, fillcolor),\n",
        "            SubPolicy(0.9, \"brightness\", 6, 0.2, \"color\", 8, fillcolor),\n",
        "            SubPolicy(0.5, \"solarize\", 2, 0.0, \"invert\", 3, fillcolor),\n",
        "\n",
        "            SubPolicy(0.2, \"equalize\", 0, 0.6, \"autocontrast\", 0, fillcolor),\n",
        "            SubPolicy(0.2, \"equalize\", 8, 0.8, \"equalize\", 4, fillcolor),\n",
        "            SubPolicy(0.9, \"color\", 9, 0.6, \"equalize\", 6, fillcolor),\n",
        "            SubPolicy(0.8, \"autocontrast\", 4, 0.2, \"solarize\", 8, fillcolor),\n",
        "            SubPolicy(0.1, \"brightness\", 3, 0.7, \"color\", 0, fillcolor),\n",
        "\n",
        "            SubPolicy(0.4, \"solarize\", 5, 0.9, \"autocontrast\", 3, fillcolor),\n",
        "            SubPolicy(0.9, \"translateY\", 9, 0.7, \"translateY\", 9, fillcolor),\n",
        "            SubPolicy(0.9, \"autocontrast\", 2, 0.8, \"solarize\", 3, fillcolor),\n",
        "            SubPolicy(0.8, \"equalize\", 8, 0.1, \"invert\", 3, fillcolor),\n",
        "            SubPolicy(0.7, \"translateY\", 9, 0.9, \"autocontrast\", 1, fillcolor)\n",
        "        ]\n",
        "\n",
        "    def __call__(self, img):\n",
        "        policy_idx = random.randint(0, len(self.policies) - 1)\n",
        "        return self.policies[policy_idx](img)\n",
        "\n",
        "    def __repr__(self):\n",
        "        return \"AutoAugment CIFAR10 Policy\"\n"
      ]
    },
    {
      "cell_type": "code",
      "source": [
        "# -----------------------------\n",
        "# CIFAR-10 Normalization\n",
        "# -----------------------------\n",
        "CIFAR10_MEAN = (0.4914, 0.4822, 0.4465)\n",
        "CIFAR10_STD  = (0.2023, 0.1994, 0.2010)"
      ],
      "metadata": {
        "id": "jZDCbvHmRSA2"
      },
      "execution_count": null,
      "outputs": []
    },
    {
      "cell_type": "code",
      "source": [
        "def get_transforms(strong_aug=False):\n",
        "    train_list = [\n",
        "        transforms.RandomCrop(32, padding=4),\n",
        "        transforms.RandomHorizontalFlip(p=0.5),\n",
        "    ]\n",
        "    if strong_aug:\n",
        "        from torchvision.transforms import AutoAugment, AutoAugmentPolicy\n",
        "        train_list.append(AutoAugment(AutoAugmentPolicy.CIFAR10))\n",
        "\n",
        "    train_list += [\n",
        "        transforms.ToTensor(),\n",
        "        transforms.Normalize(CIFAR10_MEAN, CIFAR10_STD),\n",
        "    ]\n",
        "    if strong_aug:\n",
        "        train_list.append(transforms.RandomErasing(p=0.25, scale=(0.02,0.1), ratio=(0.3,3.3)))\n",
        "\n",
        "    train_tfms = transforms.Compose(train_list)\n",
        "    test_tfms  = transforms.Compose([\n",
        "        transforms.ToTensor(),\n",
        "        transforms.Normalize(CIFAR10_MEAN, CIFAR10_STD)\n",
        "    ])\n",
        "    return train_tfms, test_tfms\n",
        "\n",
        "def make_loaders(batch_size=128, val_ratio=0.1, strong_aug=False):\n",
        "    train_tfms, test_tfms = get_transforms(strong_aug)\n",
        "    train_full = datasets.CIFAR10(\"./data\", train=True,  transform=train_tfms, download=True)\n",
        "    test_set   = datasets.CIFAR10(\"./data\", train=False, transform=test_tfms, download=True)\n",
        "\n",
        "    val_size = int(len(train_full)*val_ratio)\n",
        "    train_size = len(train_full)-val_size\n",
        "    train_set, val_set = random_split(train_full, [train_size,val_size],\n",
        "                                      generator=torch.Generator().manual_seed(SEED))\n",
        "    train_loader = DataLoader(train_set, batch_size=batch_size, shuffle=True,  num_workers=2, pin_memory=True)\n",
        "    val_loader   = DataLoader(val_set,   batch_size=256,      shuffle=False, num_workers=2)\n",
        "    test_loader  = DataLoader(test_set,  batch_size=256,      shuffle=False, num_workers=2)\n",
        "    return train_loader, val_loader, test_loader\n"
      ],
      "metadata": {
        "id": "P6diQsWNTVUb"
      },
      "execution_count": null,
      "outputs": []
    },
    {
      "cell_type": "code",
      "source": [
        "def get_activation(name):\n",
        "    n = name.lower()\n",
        "    if n==\"relu\": return nn.ReLU(inplace=True)\n",
        "    if n==\"silu\": return nn.SiLU(inplace=True)\n",
        "    if n==\"gelu\": return nn.GELU()\n",
        "    if n==\"tanh\": return nn.Tanh()\n",
        "    if n==\"sigmoid\": return nn.Sigmoid()\n",
        "    return nn.ReLU(inplace=True)\n",
        "\n",
        "class VGG6(nn.Module):\n",
        "    def __init__(self, num_classes=10, act=\"relu\", use_bn=True, p_drop=0.5):\n",
        "        super().__init__()\n",
        "        Act=lambda: get_activation(act)\n",
        "        def conv_block(i,o):\n",
        "            layers=[nn.Conv2d(i,o,3,padding=1)]\n",
        "            if use_bn: layers.append(nn.BatchNorm2d(o))\n",
        "            layers.append(Act())\n",
        "            return nn.Sequential(*layers)\n",
        "\n",
        "        self.features=nn.Sequential(\n",
        "            conv_block(3,64), conv_block(64,64), nn.MaxPool2d(2),\n",
        "            conv_block(64,128), conv_block(128,128), nn.MaxPool2d(2),\n",
        "            conv_block(128,256), conv_block(256,256), nn.MaxPool2d(2)\n",
        "        )\n",
        "        self.classifier=nn.Sequential(\n",
        "            nn.Flatten(),\n",
        "            nn.Linear(256*4*4,512), Act(), nn.Dropout(p_drop),\n",
        "            nn.Linear(512,num_classes)\n",
        "        )\n",
        "\n",
        "    def forward(self,x):\n",
        "        return self.classifier(self.features(x))\n"
      ],
      "metadata": {
        "id": "P039tqsDTbqK"
      },
      "execution_count": null,
      "outputs": []
    },
    {
      "cell_type": "code",
      "source": [
        "def accuracy(logits, y):\n",
        "    return (logits.argmax(1)==y).float().mean().item()\n",
        "\n",
        "@torch.no_grad()\n",
        "def evaluate(model, loader, crit):\n",
        "    model.eval(); tot_loss=tot_acc=tot=0\n",
        "    for x,y in loader:\n",
        "        x,y=x.to(device),y.to(device)\n",
        "        out=model(x)\n",
        "        loss=crit(out,y)\n",
        "        tot_loss+=loss.item()*x.size(0)\n",
        "        tot_acc+=(out.argmax(1)==y).sum().item()\n",
        "        tot+=x.size(0)\n",
        "    return tot_loss/tot, tot_acc/tot\n"
      ],
      "metadata": {
        "id": "ji4inXdITbhh"
      },
      "execution_count": null,
      "outputs": []
    },
    {
      "cell_type": "code",
      "source": [
        "def train_vgg6(config):\n",
        "    wandb.init(project=\"cifar10-vgg6-assignment\", config=config)\n",
        "    cfg=wandb.config\n",
        "\n",
        "    train_loader,val_loader,test_loader=make_loaders(cfg.batch_size,0.1,cfg.strong_aug)\n",
        "    model=VGG6(act=cfg.act).to(device)\n",
        "    crit=nn.CrossEntropyLoss(label_smoothing=0.1)\n",
        "    opt=optim.SGD(model.parameters(), lr=cfg.lr, momentum=0.9, weight_decay=5e-4)\n",
        "    sch=optim.lr_scheduler.CosineAnnealingLR(opt,T_max=cfg.epochs)\n",
        "\n",
        "    wandb.define_metric(\"global_step\")\n",
        "    wandb.define_metric(\"epoch\")\n",
        "    wandb.define_metric(\"train/*\", step_metric=\"global_step\")\n",
        "    wandb.define_metric(\"val/*\", step_metric=\"epoch\")\n",
        "\n",
        "    global_step=0\n",
        "    best_acc=0\n",
        "\n",
        "    for epoch in range(1,cfg.epochs+1):\n",
        "        model.train()\n",
        "        ep_loss=ep_acc=seen=0\n",
        "        for x,y in train_loader:\n",
        "            x,y=x.to(device),y.to(device)\n",
        "            opt.zero_grad(set_to_none=True)\n",
        "            out=model(x)\n",
        "            loss=crit(out,y)\n",
        "            loss.backward(); opt.step()\n",
        "            acc=accuracy(out,y)\n",
        "            ep_loss+=loss.item()*x.size(0); ep_acc+=acc*x.size(0); seen+=x.size(0)\n",
        "            global_step+=1\n",
        "            wandb.log({\"global_step\":global_step,\"train/loss\":loss.item(),\"train/acc\":acc})\n",
        "        sch.step()\n",
        "        train_loss,train_acc=ep_loss/seen,ep_acc/seen\n",
        "        val_loss,val_acc=evaluate(model,val_loader,crit)\n",
        "        test_loss,test_acc=evaluate(model,test_loader,crit)\n",
        "        wandb.log({\"epoch\":epoch,\n",
        "                   \"train/epoch_loss\":train_loss,\"train/epoch_acc\":train_acc,\n",
        "                   \"val/loss\":val_loss,\"val/acc\":val_acc,\n",
        "                   \"test/loss\":test_loss,\"test/acc\":test_acc})\n",
        "        if test_acc>best_acc: best_acc=test_acc\n",
        "        print(f\"Epoch {epoch:03d}: train_acc={train_acc*100:.2f} val_acc={val_acc*100:.2f} test_acc={test_acc*100:.2f}\")\n",
        "    wandb.summary[\"best_test_acc\"]=best_acc\n",
        "    wandb.finish()\n"
      ],
      "metadata": {
        "id": "QKZowGqpThfb"
      },
      "execution_count": null,
      "outputs": []
    },
    {
      "cell_type": "code",
      "source": [
        "config={\n",
        "    \"act\":\"relu\",          # try: relu, silu, gelu, tanh, sigmoid\n",
        "    \"optimizer\":\"sgd\",\n",
        "    \"lr\":0.1,\n",
        "    \"batch_size\":128,\n",
        "    \"epochs\":20,           # increase to 60 for better acc\n",
        "    \"strong_aug\":False\n",
        "}\n",
        "train_vgg6(config)\n"
      ],
      "metadata": {
        "colab": {
          "base_uri": "https://localhost:8080/",
          "height": 1000
        },
        "id": "D4pD1Sb6TmPr",
        "outputId": "e904f0bf-ef99-4a25-9493-a703915e8296"
      },
      "execution_count": null,
      "outputs": [
        {
          "output_type": "display_data",
          "data": {
            "text/plain": [
              "<IPython.core.display.HTML object>"
            ],
            "text/html": [
              "Finishing previous runs because reinit is set to 'default'."
            ]
          },
          "metadata": {}
        },
        {
          "output_type": "display_data",
          "data": {
            "text/plain": [
              "<IPython.core.display.HTML object>"
            ],
            "text/html": []
          },
          "metadata": {}
        },
        {
          "output_type": "display_data",
          "data": {
            "text/plain": [
              "<IPython.core.display.HTML object>"
            ],
            "text/html": [
              " View run <strong style=\"color:#cdcd00\">vgg6-baseline</strong> at: <a href='https://wandb.ai/ee23m505-iitmaana/cifar10-vgg6-assignment/runs/gn6kn773' target=\"_blank\">https://wandb.ai/ee23m505-iitmaana/cifar10-vgg6-assignment/runs/gn6kn773</a><br> View project at: <a href='https://wandb.ai/ee23m505-iitmaana/cifar10-vgg6-assignment' target=\"_blank\">https://wandb.ai/ee23m505-iitmaana/cifar10-vgg6-assignment</a><br>Synced 5 W&B file(s), 0 media file(s), 0 artifact file(s) and 0 other file(s)"
            ]
          },
          "metadata": {}
        },
        {
          "output_type": "display_data",
          "data": {
            "text/plain": [
              "<IPython.core.display.HTML object>"
            ],
            "text/html": [
              "Find logs at: <code>./wandb/run-20251026_111759-gn6kn773/logs</code>"
            ]
          },
          "metadata": {}
        },
        {
          "output_type": "display_data",
          "data": {
            "text/plain": [
              "<IPython.core.display.HTML object>"
            ],
            "text/html": []
          },
          "metadata": {}
        },
        {
          "output_type": "display_data",
          "data": {
            "text/plain": [
              "<IPython.core.display.HTML object>"
            ],
            "text/html": [
              "Tracking run with wandb version 0.22.2"
            ]
          },
          "metadata": {}
        },
        {
          "output_type": "display_data",
          "data": {
            "text/plain": [
              "<IPython.core.display.HTML object>"
            ],
            "text/html": [
              "Run data is saved locally in <code>/content/wandb/run-20251026_113640-uuad8c8n</code>"
            ]
          },
          "metadata": {}
        },
        {
          "output_type": "display_data",
          "data": {
            "text/plain": [
              "<IPython.core.display.HTML object>"
            ],
            "text/html": [
              "Syncing run <strong><a href='https://wandb.ai/ee23m505-iitmaana/cifar10-vgg6-assignment/runs/uuad8c8n' target=\"_blank\">crimson-sound-2</a></strong> to <a href='https://wandb.ai/ee23m505-iitmaana/cifar10-vgg6-assignment' target=\"_blank\">Weights & Biases</a> (<a href='https://wandb.me/developer-guide' target=\"_blank\">docs</a>)<br>"
            ]
          },
          "metadata": {}
        },
        {
          "output_type": "display_data",
          "data": {
            "text/plain": [
              "<IPython.core.display.HTML object>"
            ],
            "text/html": [
              " View project at <a href='https://wandb.ai/ee23m505-iitmaana/cifar10-vgg6-assignment' target=\"_blank\">https://wandb.ai/ee23m505-iitmaana/cifar10-vgg6-assignment</a>"
            ]
          },
          "metadata": {}
        },
        {
          "output_type": "display_data",
          "data": {
            "text/plain": [
              "<IPython.core.display.HTML object>"
            ],
            "text/html": [
              " View run at <a href='https://wandb.ai/ee23m505-iitmaana/cifar10-vgg6-assignment/runs/uuad8c8n' target=\"_blank\">https://wandb.ai/ee23m505-iitmaana/cifar10-vgg6-assignment/runs/uuad8c8n</a>"
            ]
          },
          "metadata": {}
        },
        {
          "output_type": "stream",
          "name": "stdout",
          "text": [
            "Epoch 001: train_acc=15.11 val_acc=19.00 test_acc=19.03\n",
            "Epoch 002: train_acc=22.13 val_acc=31.42 test_acc=33.16\n",
            "Epoch 003: train_acc=33.13 val_acc=42.64 test_acc=43.03\n",
            "Epoch 004: train_acc=46.04 val_acc=51.60 test_acc=52.52\n",
            "Epoch 005: train_acc=56.86 val_acc=51.68 test_acc=53.83\n",
            "Epoch 006: train_acc=64.11 val_acc=59.88 test_acc=61.76\n",
            "Epoch 007: train_acc=69.94 val_acc=66.02 test_acc=68.98\n",
            "Epoch 008: train_acc=74.00 val_acc=71.30 test_acc=73.96\n",
            "Epoch 009: train_acc=77.14 val_acc=72.50 test_acc=73.73\n",
            "Epoch 010: train_acc=79.49 val_acc=76.14 test_acc=76.92\n",
            "Epoch 011: train_acc=81.36 val_acc=77.50 test_acc=79.11\n",
            "Epoch 012: train_acc=83.03 val_acc=79.28 test_acc=80.10\n",
            "Epoch 013: train_acc=84.64 val_acc=82.32 test_acc=81.79\n",
            "Epoch 014: train_acc=86.20 val_acc=83.04 test_acc=83.03\n",
            "Epoch 015: train_acc=87.67 val_acc=83.70 test_acc=83.87\n",
            "Epoch 016: train_acc=89.08 val_acc=87.02 test_acc=87.37\n",
            "Epoch 017: train_acc=90.75 val_acc=88.14 test_acc=87.92\n",
            "Epoch 018: train_acc=91.72 val_acc=88.68 test_acc=88.14\n",
            "Epoch 019: train_acc=92.54 val_acc=89.28 test_acc=89.12\n",
            "Epoch 020: train_acc=93.13 val_acc=89.46 test_acc=89.26\n"
          ]
        },
        {
          "output_type": "display_data",
          "data": {
            "text/plain": [
              "<IPython.core.display.HTML object>"
            ],
            "text/html": []
          },
          "metadata": {}
        },
        {
          "output_type": "display_data",
          "data": {
            "text/plain": [
              "<IPython.core.display.HTML object>"
            ],
            "text/html": [
              "<br>    <style><br>        .wandb-row {<br>            display: flex;<br>            flex-direction: row;<br>            flex-wrap: wrap;<br>            justify-content: flex-start;<br>            width: 100%;<br>        }<br>        .wandb-col {<br>            display: flex;<br>            flex-direction: column;<br>            flex-basis: 100%;<br>            flex: 1;<br>            padding: 10px;<br>        }<br>    </style><br><div class=\"wandb-row\"><div class=\"wandb-col\"><h3>Run history:</h3><br/><table class=\"wandb\"><tr><td>epoch</td><td>▁▁▂▂▂▃▃▄▄▄▅▅▅▆▆▇▇▇██</td></tr><tr><td>global_step</td><td>▁▁▁▁▁▂▂▂▂▂▂▃▃▃▃▃▃▃▃▄▅▅▅▅▅▅▅▅▆▆▇▇▇▇▇▇████</td></tr><tr><td>test/acc</td><td>▁▂▃▄▄▅▆▆▆▇▇▇▇▇▇█████</td></tr><tr><td>test/loss</td><td>█▇▆▅▅▄▄▃▃▂▂▂▂▂▂▁▁▁▁▁</td></tr><tr><td>train/acc</td><td>▁▂▁▂▂▃▃▃▄▄▄▅▆▅▆▆▇▇▇▇▇▇▇▇▇▇▇▇█▇▇▇████████</td></tr><tr><td>train/epoch_acc</td><td>▁▂▃▄▅▅▆▆▇▇▇▇▇▇██████</td></tr><tr><td>train/epoch_loss</td><td>█▇▆▅▅▄▃▃▃▂▂▂▂▂▂▁▁▁▁▁</td></tr><tr><td>train/loss</td><td>█▇▇▇▇▆▆▇▆▅▅▅▅▃▄▄▄▃▄▃▃▃▂▂▂▂▂▂▂▂▂▁▂▂▁▁▂▂▁▁</td></tr><tr><td>val/acc</td><td>▁▂▃▄▄▅▆▆▆▇▇▇▇▇▇█████</td></tr><tr><td>val/loss</td><td>█▇▆▅▅▄▄▃▃▂▂▂▂▂▂▁▁▁▁▁</td></tr></table><br/></div><div class=\"wandb-col\"><h3>Run summary:</h3><br/><table class=\"wandb\"><tr><td>best_test_acc</td><td>0.8926</td></tr><tr><td>epoch</td><td>20</td></tr><tr><td>global_step</td><td>7040</td></tr><tr><td>test/acc</td><td>0.8926</td></tr><tr><td>test/loss</td><td>0.76613</td></tr><tr><td>train/acc</td><td>0.94444</td></tr><tr><td>train/epoch_acc</td><td>0.93131</td></tr><tr><td>train/epoch_loss</td><td>0.73237</td></tr><tr><td>train/loss</td><td>0.70119</td></tr><tr><td>val/acc</td><td>0.8946</td></tr><tr><td>+1</td><td>...</td></tr></table><br/></div></div>"
            ]
          },
          "metadata": {}
        },
        {
          "output_type": "display_data",
          "data": {
            "text/plain": [
              "<IPython.core.display.HTML object>"
            ],
            "text/html": [
              " View run <strong style=\"color:#cdcd00\">crimson-sound-2</strong> at: <a href='https://wandb.ai/ee23m505-iitmaana/cifar10-vgg6-assignment/runs/uuad8c8n' target=\"_blank\">https://wandb.ai/ee23m505-iitmaana/cifar10-vgg6-assignment/runs/uuad8c8n</a><br> View project at: <a href='https://wandb.ai/ee23m505-iitmaana/cifar10-vgg6-assignment' target=\"_blank\">https://wandb.ai/ee23m505-iitmaana/cifar10-vgg6-assignment</a><br>Synced 5 W&B file(s), 0 media file(s), 0 artifact file(s) and 0 other file(s)"
            ]
          },
          "metadata": {}
        },
        {
          "output_type": "display_data",
          "data": {
            "text/plain": [
              "<IPython.core.display.HTML object>"
            ],
            "text/html": [
              "Find logs at: <code>./wandb/run-20251026_113640-uuad8c8n/logs</code>"
            ]
          },
          "metadata": {}
        }
      ]
    },
    {
      "cell_type": "code",
      "source": [
        "import wandb\n",
        "\n",
        "# Wrapper so W&B can call your trainer without args\n",
        "def sweep_train_vgg6():\n",
        "    with wandb.init(project=\"cifar10-vgg6-assignment\") as run:\n",
        "        cfg = dict(wandb.config)\n",
        "        # hand off to your existing trainer that expects a dict-like config\n",
        "        train_vgg6(cfg)\n",
        "\n",
        "# Safer ranges: work across SGD-like & Adam-like optimizers\n",
        "sweep_config = {\n",
        "    \"method\": \"random\",  # or \"bayes\" / \"grid\"\n",
        "    \"metric\": {\"name\": \"val/acc\", \"goal\": \"maximize\"},\n",
        "    \"parameters\": {\n",
        "        # 10 activations\n",
        "        \"act\": {\n",
        "            \"values\": [\n",
        "                \"relu\", \"silu\", \"gelu\", \"tanh\", \"sigmoid\",\n",
        "                \"leakyrelu\", \"elu\", \"selu\", \"softplus\", \"hardtanh\"\n",
        "            ]\n",
        "        },\n",
        "        # 10 optimizers\n",
        "        \"optimizer\": {\n",
        "            \"values\": [\n",
        "                \"sgd\", \"nesterov-sgd\", \"adam\", \"adamw\", \"nadam\",\n",
        "                \"rmsprop\", \"adagrad\", \"adamax\", \"asgd\", \"lbfgs\"\n",
        "            ]\n",
        "        },\n",
        "        \"lr\": {\"values\": [0.1, 0.05, 0.01, 0.005, 0.001]},\n",
        "        \"batch_size\": {\"values\": [64, 128, 256, 512]},\n",
        "        \"epochs\": {\"values\": [10, 20, 40, 60]},\n",
        "        \"strong_aug\": {\"values\": [False]}\n",
        "    }\n",
        "}\n",
        "\n",
        "sweep_id = wandb.sweep(sweep_config, project=\"cifar10-vgg6-assignment\")\n",
        "print(\"Sweep ID:\", sweep_id)\n",
        "\n",
        "# Launch N trials (each will call sweep_train_vgg6 -> train_vgg6(config))\n",
        "wandb.agent(sweep_id, function=sweep_train_vgg6, count=6)\n"
      ],
      "metadata": {
        "colab": {
          "base_uri": "https://localhost:8080/",
          "height": 1000
        },
        "id": "o7vgM_BwcyIV",
        "outputId": "8ccfcd9f-e0f4-4fa8-b026-b114a30170ac"
      },
      "execution_count": null,
      "outputs": [
        {
          "output_type": "stream",
          "name": "stdout",
          "text": [
            "Create sweep with ID: 7vvpjt7v\n",
            "Sweep URL: https://wandb.ai/ee23m505-iitmaana/cifar10-vgg6-assignment/sweeps/7vvpjt7v\n",
            "Sweep ID: 7vvpjt7v\n"
          ]
        },
        {
          "output_type": "stream",
          "name": "stderr",
          "text": [
            "\u001b[34m\u001b[1mwandb\u001b[0m: Agent Starting Run: emxh1xjz with config:\n",
            "\u001b[34m\u001b[1mwandb\u001b[0m: \tact: tanh\n",
            "\u001b[34m\u001b[1mwandb\u001b[0m: \tbatch_size: 128\n",
            "\u001b[34m\u001b[1mwandb\u001b[0m: \tepochs: 60\n",
            "\u001b[34m\u001b[1mwandb\u001b[0m: \tlr: 0.005\n",
            "\u001b[34m\u001b[1mwandb\u001b[0m: \toptimizer: rmsprop\n",
            "\u001b[34m\u001b[1mwandb\u001b[0m: \tstrong_aug: False\n"
          ]
        },
        {
          "output_type": "display_data",
          "data": {
            "text/plain": [
              "<IPython.core.display.HTML object>"
            ],
            "text/html": [
              "Ignoring project 'cifar10-vgg6-assignment' when running a sweep."
            ]
          },
          "metadata": {}
        },
        {
          "output_type": "display_data",
          "data": {
            "text/plain": [
              "<IPython.core.display.HTML object>"
            ],
            "text/html": []
          },
          "metadata": {}
        },
        {
          "output_type": "display_data",
          "data": {
            "text/plain": [
              "<IPython.core.display.HTML object>"
            ],
            "text/html": [
              "Tracking run with wandb version 0.22.2"
            ]
          },
          "metadata": {}
        },
        {
          "output_type": "display_data",
          "data": {
            "text/plain": [
              "<IPython.core.display.HTML object>"
            ],
            "text/html": [
              "Run data is saved locally in <code>/content/wandb/run-20251026_121653-emxh1xjz</code>"
            ]
          },
          "metadata": {}
        },
        {
          "output_type": "display_data",
          "data": {
            "text/plain": [
              "<IPython.core.display.HTML object>"
            ],
            "text/html": [
              "Syncing run <strong><a href='https://wandb.ai/ee23m505-iitmaana/cifar10-vgg6-assignment/runs/emxh1xjz' target=\"_blank\">ethereal-sweep-1</a></strong> to <a href='https://wandb.ai/ee23m505-iitmaana/cifar10-vgg6-assignment' target=\"_blank\">Weights & Biases</a> (<a href='https://wandb.me/developer-guide' target=\"_blank\">docs</a>)<br>Sweep page: <a href='https://wandb.ai/ee23m505-iitmaana/cifar10-vgg6-assignment/sweeps/7vvpjt7v' target=\"_blank\">https://wandb.ai/ee23m505-iitmaana/cifar10-vgg6-assignment/sweeps/7vvpjt7v</a>"
            ]
          },
          "metadata": {}
        },
        {
          "output_type": "display_data",
          "data": {
            "text/plain": [
              "<IPython.core.display.HTML object>"
            ],
            "text/html": [
              " View project at <a href='https://wandb.ai/ee23m505-iitmaana/cifar10-vgg6-assignment' target=\"_blank\">https://wandb.ai/ee23m505-iitmaana/cifar10-vgg6-assignment</a>"
            ]
          },
          "metadata": {}
        },
        {
          "output_type": "display_data",
          "data": {
            "text/plain": [
              "<IPython.core.display.HTML object>"
            ],
            "text/html": [
              " View sweep at <a href='https://wandb.ai/ee23m505-iitmaana/cifar10-vgg6-assignment/sweeps/7vvpjt7v' target=\"_blank\">https://wandb.ai/ee23m505-iitmaana/cifar10-vgg6-assignment/sweeps/7vvpjt7v</a>"
            ]
          },
          "metadata": {}
        },
        {
          "output_type": "display_data",
          "data": {
            "text/plain": [
              "<IPython.core.display.HTML object>"
            ],
            "text/html": [
              " View run at <a href='https://wandb.ai/ee23m505-iitmaana/cifar10-vgg6-assignment/runs/emxh1xjz' target=\"_blank\">https://wandb.ai/ee23m505-iitmaana/cifar10-vgg6-assignment/runs/emxh1xjz</a>"
            ]
          },
          "metadata": {}
        },
        {
          "output_type": "display_data",
          "data": {
            "text/plain": [
              "<IPython.core.display.HTML object>"
            ],
            "text/html": [
              "Ignoring project 'cifar10-vgg6-assignment' when running a sweep."
            ]
          },
          "metadata": {}
        },
        {
          "output_type": "display_data",
          "data": {
            "text/plain": [
              "<IPython.core.display.HTML object>"
            ],
            "text/html": [
              "Finishing previous runs because reinit is set to 'default'."
            ]
          },
          "metadata": {}
        },
        {
          "output_type": "display_data",
          "data": {
            "text/plain": [
              "<IPython.core.display.HTML object>"
            ],
            "text/html": []
          },
          "metadata": {}
        },
        {
          "output_type": "display_data",
          "data": {
            "text/plain": [
              "<IPython.core.display.HTML object>"
            ],
            "text/html": [
              " View run <strong style=\"color:#cdcd00\">ethereal-sweep-1</strong> at: <a href='https://wandb.ai/ee23m505-iitmaana/cifar10-vgg6-assignment/runs/emxh1xjz' target=\"_blank\">https://wandb.ai/ee23m505-iitmaana/cifar10-vgg6-assignment/runs/emxh1xjz</a><br> View project at: <a href='https://wandb.ai/ee23m505-iitmaana/cifar10-vgg6-assignment' target=\"_blank\">https://wandb.ai/ee23m505-iitmaana/cifar10-vgg6-assignment</a><br>Synced 5 W&B file(s), 0 media file(s), 0 artifact file(s) and 0 other file(s)"
            ]
          },
          "metadata": {}
        },
        {
          "output_type": "display_data",
          "data": {
            "text/plain": [
              "<IPython.core.display.HTML object>"
            ],
            "text/html": [
              "Find logs at: <code>./wandb/run-20251026_121653-emxh1xjz/logs</code>"
            ]
          },
          "metadata": {}
        },
        {
          "output_type": "display_data",
          "data": {
            "text/plain": [
              "<IPython.core.display.HTML object>"
            ],
            "text/html": []
          },
          "metadata": {}
        },
        {
          "output_type": "display_data",
          "data": {
            "text/plain": [
              "<IPython.core.display.HTML object>"
            ],
            "text/html": [
              "Tracking run with wandb version 0.22.2"
            ]
          },
          "metadata": {}
        },
        {
          "output_type": "display_data",
          "data": {
            "text/plain": [
              "<IPython.core.display.HTML object>"
            ],
            "text/html": [
              "Run data is saved locally in <code>/content/wandb/run-20251026_121654-emxh1xjz</code>"
            ]
          },
          "metadata": {}
        },
        {
          "output_type": "display_data",
          "data": {
            "text/plain": [
              "<IPython.core.display.HTML object>"
            ],
            "text/html": [
              "Syncing run <strong><a href='https://wandb.ai/ee23m505-iitmaana/cifar10-vgg6-assignment/runs/emxh1xjz' target=\"_blank\">ethereal-sweep-1</a></strong> to <a href='https://wandb.ai/ee23m505-iitmaana/cifar10-vgg6-assignment' target=\"_blank\">Weights & Biases</a> (<a href='https://wandb.me/developer-guide' target=\"_blank\">docs</a>)<br>Sweep page: <a href='https://wandb.ai/ee23m505-iitmaana/cifar10-vgg6-assignment/sweeps/7vvpjt7v' target=\"_blank\">https://wandb.ai/ee23m505-iitmaana/cifar10-vgg6-assignment/sweeps/7vvpjt7v</a>"
            ]
          },
          "metadata": {}
        },
        {
          "output_type": "display_data",
          "data": {
            "text/plain": [
              "<IPython.core.display.HTML object>"
            ],
            "text/html": [
              " View project at <a href='https://wandb.ai/ee23m505-iitmaana/cifar10-vgg6-assignment' target=\"_blank\">https://wandb.ai/ee23m505-iitmaana/cifar10-vgg6-assignment</a>"
            ]
          },
          "metadata": {}
        },
        {
          "output_type": "display_data",
          "data": {
            "text/plain": [
              "<IPython.core.display.HTML object>"
            ],
            "text/html": [
              " View sweep at <a href='https://wandb.ai/ee23m505-iitmaana/cifar10-vgg6-assignment/sweeps/7vvpjt7v' target=\"_blank\">https://wandb.ai/ee23m505-iitmaana/cifar10-vgg6-assignment/sweeps/7vvpjt7v</a>"
            ]
          },
          "metadata": {}
        },
        {
          "output_type": "display_data",
          "data": {
            "text/plain": [
              "<IPython.core.display.HTML object>"
            ],
            "text/html": [
              " View run at <a href='https://wandb.ai/ee23m505-iitmaana/cifar10-vgg6-assignment/runs/emxh1xjz' target=\"_blank\">https://wandb.ai/ee23m505-iitmaana/cifar10-vgg6-assignment/runs/emxh1xjz</a>"
            ]
          },
          "metadata": {}
        },
        {
          "output_type": "stream",
          "name": "stdout",
          "text": [
            "Epoch 001: train_acc=42.74 val_acc=51.76 test_acc=53.16\n",
            "Epoch 002: train_acc=56.45 val_acc=60.50 test_acc=64.34\n",
            "Epoch 003: train_acc=62.18 val_acc=66.14 test_acc=67.08\n",
            "Epoch 004: train_acc=66.04 val_acc=68.14 test_acc=69.65\n",
            "Epoch 005: train_acc=68.52 val_acc=67.10 test_acc=69.45\n",
            "Epoch 006: train_acc=70.22 val_acc=70.38 test_acc=71.25\n",
            "Epoch 007: train_acc=71.57 val_acc=71.68 test_acc=74.31\n",
            "Epoch 008: train_acc=72.63 val_acc=72.50 test_acc=74.75\n",
            "Epoch 009: train_acc=73.67 val_acc=71.18 test_acc=72.36\n",
            "Epoch 010: train_acc=74.73 val_acc=73.22 test_acc=75.83\n",
            "Epoch 011: train_acc=75.88 val_acc=74.38 test_acc=76.84\n",
            "Epoch 012: train_acc=76.66 val_acc=73.76 test_acc=76.12\n",
            "Epoch 013: train_acc=77.11 val_acc=74.56 test_acc=76.61\n",
            "Epoch 014: train_acc=77.85 val_acc=75.86 test_acc=77.66\n",
            "Epoch 015: train_acc=78.58 val_acc=77.20 test_acc=78.91\n",
            "Epoch 016: train_acc=79.11 val_acc=78.44 test_acc=79.78\n",
            "Epoch 017: train_acc=79.73 val_acc=77.58 test_acc=79.63\n",
            "Epoch 018: train_acc=80.10 val_acc=78.54 test_acc=79.79\n",
            "Epoch 019: train_acc=80.58 val_acc=77.92 test_acc=79.99\n",
            "Epoch 020: train_acc=81.12 val_acc=78.80 test_acc=80.35\n",
            "Epoch 021: train_acc=81.57 val_acc=79.62 test_acc=81.17\n",
            "Epoch 022: train_acc=82.08 val_acc=79.08 test_acc=80.74\n",
            "Epoch 023: train_acc=82.55 val_acc=78.80 test_acc=80.10\n",
            "Epoch 024: train_acc=82.64 val_acc=80.66 test_acc=81.21\n",
            "Epoch 025: train_acc=83.31 val_acc=80.96 test_acc=82.75\n",
            "Epoch 026: train_acc=83.63 val_acc=81.10 test_acc=82.04\n",
            "Epoch 027: train_acc=84.01 val_acc=81.36 test_acc=82.19\n",
            "Epoch 028: train_acc=84.44 val_acc=81.52 test_acc=82.71\n",
            "Epoch 029: train_acc=84.67 val_acc=81.28 test_acc=82.60\n",
            "Epoch 030: train_acc=85.08 val_acc=80.82 test_acc=82.17\n",
            "Epoch 031: train_acc=85.41 val_acc=82.70 test_acc=82.93\n",
            "Epoch 032: train_acc=85.80 val_acc=82.84 test_acc=83.37\n",
            "Epoch 033: train_acc=85.88 val_acc=83.26 test_acc=83.11\n",
            "Epoch 034: train_acc=86.45 val_acc=82.44 test_acc=84.09\n",
            "Epoch 035: train_acc=86.50 val_acc=83.28 test_acc=83.81\n",
            "Epoch 036: train_acc=86.93 val_acc=83.06 test_acc=83.39\n",
            "Epoch 037: train_acc=87.27 val_acc=83.86 test_acc=84.31\n",
            "Epoch 038: train_acc=87.46 val_acc=83.16 test_acc=84.90\n",
            "Epoch 039: train_acc=87.87 val_acc=83.16 test_acc=84.36\n",
            "Epoch 040: train_acc=87.96 val_acc=84.10 test_acc=84.97\n",
            "Epoch 041: train_acc=88.44 val_acc=84.44 test_acc=84.85\n",
            "Epoch 042: train_acc=88.72 val_acc=84.48 test_acc=85.12\n",
            "Epoch 043: train_acc=89.03 val_acc=83.92 test_acc=84.85\n",
            "Epoch 044: train_acc=89.38 val_acc=84.78 test_acc=85.18\n",
            "Epoch 045: train_acc=89.34 val_acc=84.94 test_acc=85.63\n",
            "Epoch 046: train_acc=89.74 val_acc=83.72 test_acc=85.43\n",
            "Epoch 047: train_acc=89.90 val_acc=84.18 test_acc=85.79\n",
            "Epoch 048: train_acc=90.19 val_acc=85.30 test_acc=85.76\n",
            "Epoch 049: train_acc=90.61 val_acc=84.96 test_acc=86.01\n",
            "Epoch 050: train_acc=90.38 val_acc=85.50 test_acc=86.04\n",
            "Epoch 051: train_acc=90.67 val_acc=85.24 test_acc=86.16\n",
            "Epoch 052: train_acc=90.80 val_acc=85.24 test_acc=86.26\n",
            "Epoch 053: train_acc=91.02 val_acc=85.52 test_acc=86.44\n",
            "Epoch 054: train_acc=91.13 val_acc=85.42 test_acc=86.34\n",
            "Epoch 055: train_acc=91.33 val_acc=85.56 test_acc=86.37\n",
            "Epoch 056: train_acc=91.26 val_acc=85.36 test_acc=86.43\n",
            "Epoch 057: train_acc=91.36 val_acc=85.38 test_acc=86.50\n",
            "Epoch 058: train_acc=91.36 val_acc=85.64 test_acc=86.39\n",
            "Epoch 059: train_acc=91.39 val_acc=85.22 test_acc=86.41\n",
            "Epoch 060: train_acc=91.53 val_acc=85.90 test_acc=86.39\n"
          ]
        },
        {
          "output_type": "display_data",
          "data": {
            "text/plain": [
              "<IPython.core.display.HTML object>"
            ],
            "text/html": []
          },
          "metadata": {}
        },
        {
          "output_type": "display_data",
          "data": {
            "text/plain": [
              "<IPython.core.display.HTML object>"
            ],
            "text/html": [
              "<br>    <style><br>        .wandb-row {<br>            display: flex;<br>            flex-direction: row;<br>            flex-wrap: wrap;<br>            justify-content: flex-start;<br>            width: 100%;<br>        }<br>        .wandb-col {<br>            display: flex;<br>            flex-direction: column;<br>            flex-basis: 100%;<br>            flex: 1;<br>            padding: 10px;<br>        }<br>    </style><br><div class=\"wandb-row\"><div class=\"wandb-col\"><h3>Run history:</h3><br/><table class=\"wandb\"><tr><td>epoch</td><td>▁▁▁▁▁▂▂▂▂▂▃▃▃▃▃▃▄▄▄▅▅▅▅▅▅▅▆▆▆▆▆▇▇▇▇▇▇███</td></tr><tr><td>global_step</td><td>▁▁▁▁▁▂▂▂▂▃▃▃▃▄▄▄▄▄▄▄▅▅▅▅▅▅▅▅▅▆▆▆▆▆▇▇▇▇▇█</td></tr><tr><td>test/acc</td><td>▁▃▄▄▄▅▆▅▆▆▇▇▇▇▇▇▇▇▇▇▇▇▇▇▇▇██████████████</td></tr><tr><td>test/loss</td><td>█▆▅▅▄▄▃▃▃▃▃▃▃▂▂▂▂▂▂▂▂▂▂▂▂▂▁▁▁▁▁▁▁▁▁▁▁▁▁▁</td></tr><tr><td>train/acc</td><td>▁▃▅▄▃▅▅▅▄▆▆▅▆▆▆▇▇▆▆▇▅▆▆▇▇▇▇█▇▇▇▇█▇▇███▇▇</td></tr><tr><td>train/epoch_acc</td><td>▁▃▄▅▅▅▅▆▆▆▆▆▆▆▇▇▇▇▇▇▇▇▇▇▇▇██████████████</td></tr><tr><td>train/epoch_loss</td><td>█▅▅▄▄▃▃▃▃▃▃▃▃▃▂▂▂▂▂▂▂▂▂▂▂▂▁▁▁▁▁▁▁▁▁▁▁▁▁▁</td></tr><tr><td>train/loss</td><td>█▆▇▇▆▄▄▅▄▄▂▃▃▂▂▁▂▃▃▂▂▂▃▂▂▂▁▂▁▁▂▂▂▁▁▁▂▂▁▁</td></tr><tr><td>val/acc</td><td>▁▃▄▄▄▅▅▅▆▆▆▇▆▇▆▇▇▇▇▇▇██▇████████████████</td></tr><tr><td>val/loss</td><td>█▇▆▆▅▄▄▄▄▄▃▃▃▃▃▃▃▂▂▂▂▂▂▂▂▂▂▂▂▂▁▂▁▁▁▁▁▁▁▁</td></tr></table><br/></div><div class=\"wandb-col\"><h3>Run summary:</h3><br/><table class=\"wandb\"><tr><td>best_test_acc</td><td>0.865</td></tr><tr><td>epoch</td><td>60</td></tr><tr><td>global_step</td><td>21120</td></tr><tr><td>test/acc</td><td>0.8639</td></tr><tr><td>test/loss</td><td>0.852</td></tr><tr><td>train/acc</td><td>0.91667</td></tr><tr><td>train/epoch_acc</td><td>0.91527</td></tr><tr><td>train/epoch_loss</td><td>0.76448</td></tr><tr><td>train/loss</td><td>0.68445</td></tr><tr><td>val/acc</td><td>0.859</td></tr><tr><td>+1</td><td>...</td></tr></table><br/></div></div>"
            ]
          },
          "metadata": {}
        },
        {
          "output_type": "display_data",
          "data": {
            "text/plain": [
              "<IPython.core.display.HTML object>"
            ],
            "text/html": [
              " View run <strong style=\"color:#cdcd00\">ethereal-sweep-1</strong> at: <a href='https://wandb.ai/ee23m505-iitmaana/cifar10-vgg6-assignment/runs/emxh1xjz' target=\"_blank\">https://wandb.ai/ee23m505-iitmaana/cifar10-vgg6-assignment/runs/emxh1xjz</a><br> View project at: <a href='https://wandb.ai/ee23m505-iitmaana/cifar10-vgg6-assignment' target=\"_blank\">https://wandb.ai/ee23m505-iitmaana/cifar10-vgg6-assignment</a><br>Synced 5 W&B file(s), 0 media file(s), 0 artifact file(s) and 0 other file(s)"
            ]
          },
          "metadata": {}
        },
        {
          "output_type": "display_data",
          "data": {
            "text/plain": [
              "<IPython.core.display.HTML object>"
            ],
            "text/html": [
              "Find logs at: <code>./wandb/run-20251026_121654-emxh1xjz/logs</code>"
            ]
          },
          "metadata": {}
        },
        {
          "output_type": "stream",
          "name": "stderr",
          "text": [
            "\u001b[34m\u001b[1mwandb\u001b[0m: Agent Starting Run: daixhlq8 with config:\n",
            "\u001b[34m\u001b[1mwandb\u001b[0m: \tact: elu\n",
            "\u001b[34m\u001b[1mwandb\u001b[0m: \tbatch_size: 128\n",
            "\u001b[34m\u001b[1mwandb\u001b[0m: \tepochs: 10\n",
            "\u001b[34m\u001b[1mwandb\u001b[0m: \tlr: 0.05\n",
            "\u001b[34m\u001b[1mwandb\u001b[0m: \toptimizer: nadam\n",
            "\u001b[34m\u001b[1mwandb\u001b[0m: \tstrong_aug: False\n"
          ]
        },
        {
          "output_type": "display_data",
          "data": {
            "text/plain": [
              "<IPython.core.display.HTML object>"
            ],
            "text/html": [
              "Ignoring project 'cifar10-vgg6-assignment' when running a sweep."
            ]
          },
          "metadata": {}
        },
        {
          "output_type": "display_data",
          "data": {
            "text/plain": [
              "<IPython.core.display.HTML object>"
            ],
            "text/html": []
          },
          "metadata": {}
        },
        {
          "output_type": "display_data",
          "data": {
            "text/plain": [
              "<IPython.core.display.HTML object>"
            ],
            "text/html": [
              "Tracking run with wandb version 0.22.2"
            ]
          },
          "metadata": {}
        },
        {
          "output_type": "display_data",
          "data": {
            "text/plain": [
              "<IPython.core.display.HTML object>"
            ],
            "text/html": [
              "Run data is saved locally in <code>/content/wandb/run-20251026_123844-daixhlq8</code>"
            ]
          },
          "metadata": {}
        },
        {
          "output_type": "display_data",
          "data": {
            "text/plain": [
              "<IPython.core.display.HTML object>"
            ],
            "text/html": [
              "Syncing run <strong><a href='https://wandb.ai/ee23m505-iitmaana/cifar10-vgg6-assignment/runs/daixhlq8' target=\"_blank\">grateful-sweep-2</a></strong> to <a href='https://wandb.ai/ee23m505-iitmaana/cifar10-vgg6-assignment' target=\"_blank\">Weights & Biases</a> (<a href='https://wandb.me/developer-guide' target=\"_blank\">docs</a>)<br>Sweep page: <a href='https://wandb.ai/ee23m505-iitmaana/cifar10-vgg6-assignment/sweeps/7vvpjt7v' target=\"_blank\">https://wandb.ai/ee23m505-iitmaana/cifar10-vgg6-assignment/sweeps/7vvpjt7v</a>"
            ]
          },
          "metadata": {}
        },
        {
          "output_type": "display_data",
          "data": {
            "text/plain": [
              "<IPython.core.display.HTML object>"
            ],
            "text/html": [
              " View project at <a href='https://wandb.ai/ee23m505-iitmaana/cifar10-vgg6-assignment' target=\"_blank\">https://wandb.ai/ee23m505-iitmaana/cifar10-vgg6-assignment</a>"
            ]
          },
          "metadata": {}
        },
        {
          "output_type": "display_data",
          "data": {
            "text/plain": [
              "<IPython.core.display.HTML object>"
            ],
            "text/html": [
              " View sweep at <a href='https://wandb.ai/ee23m505-iitmaana/cifar10-vgg6-assignment/sweeps/7vvpjt7v' target=\"_blank\">https://wandb.ai/ee23m505-iitmaana/cifar10-vgg6-assignment/sweeps/7vvpjt7v</a>"
            ]
          },
          "metadata": {}
        },
        {
          "output_type": "display_data",
          "data": {
            "text/plain": [
              "<IPython.core.display.HTML object>"
            ],
            "text/html": [
              " View run at <a href='https://wandb.ai/ee23m505-iitmaana/cifar10-vgg6-assignment/runs/daixhlq8' target=\"_blank\">https://wandb.ai/ee23m505-iitmaana/cifar10-vgg6-assignment/runs/daixhlq8</a>"
            ]
          },
          "metadata": {}
        },
        {
          "output_type": "display_data",
          "data": {
            "text/plain": [
              "<IPython.core.display.HTML object>"
            ],
            "text/html": [
              "Ignoring project 'cifar10-vgg6-assignment' when running a sweep."
            ]
          },
          "metadata": {}
        },
        {
          "output_type": "display_data",
          "data": {
            "text/plain": [
              "<IPython.core.display.HTML object>"
            ],
            "text/html": [
              "Finishing previous runs because reinit is set to 'default'."
            ]
          },
          "metadata": {}
        },
        {
          "output_type": "display_data",
          "data": {
            "text/plain": [
              "<IPython.core.display.HTML object>"
            ],
            "text/html": []
          },
          "metadata": {}
        },
        {
          "output_type": "display_data",
          "data": {
            "text/plain": [
              "<IPython.core.display.HTML object>"
            ],
            "text/html": [
              " View run <strong style=\"color:#cdcd00\">grateful-sweep-2</strong> at: <a href='https://wandb.ai/ee23m505-iitmaana/cifar10-vgg6-assignment/runs/daixhlq8' target=\"_blank\">https://wandb.ai/ee23m505-iitmaana/cifar10-vgg6-assignment/runs/daixhlq8</a><br> View project at: <a href='https://wandb.ai/ee23m505-iitmaana/cifar10-vgg6-assignment' target=\"_blank\">https://wandb.ai/ee23m505-iitmaana/cifar10-vgg6-assignment</a><br>Synced 5 W&B file(s), 0 media file(s), 0 artifact file(s) and 0 other file(s)"
            ]
          },
          "metadata": {}
        },
        {
          "output_type": "display_data",
          "data": {
            "text/plain": [
              "<IPython.core.display.HTML object>"
            ],
            "text/html": [
              "Find logs at: <code>./wandb/run-20251026_123844-daixhlq8/logs</code>"
            ]
          },
          "metadata": {}
        },
        {
          "output_type": "display_data",
          "data": {
            "text/plain": [
              "<IPython.core.display.HTML object>"
            ],
            "text/html": []
          },
          "metadata": {}
        },
        {
          "output_type": "display_data",
          "data": {
            "text/plain": [
              "<IPython.core.display.HTML object>"
            ],
            "text/html": [
              "Tracking run with wandb version 0.22.2"
            ]
          },
          "metadata": {}
        },
        {
          "output_type": "display_data",
          "data": {
            "text/plain": [
              "<IPython.core.display.HTML object>"
            ],
            "text/html": [
              "Run data is saved locally in <code>/content/wandb/run-20251026_123845-daixhlq8</code>"
            ]
          },
          "metadata": {}
        },
        {
          "output_type": "display_data",
          "data": {
            "text/plain": [
              "<IPython.core.display.HTML object>"
            ],
            "text/html": [
              "Syncing run <strong><a href='https://wandb.ai/ee23m505-iitmaana/cifar10-vgg6-assignment/runs/daixhlq8' target=\"_blank\">grateful-sweep-2</a></strong> to <a href='https://wandb.ai/ee23m505-iitmaana/cifar10-vgg6-assignment' target=\"_blank\">Weights & Biases</a> (<a href='https://wandb.me/developer-guide' target=\"_blank\">docs</a>)<br>Sweep page: <a href='https://wandb.ai/ee23m505-iitmaana/cifar10-vgg6-assignment/sweeps/7vvpjt7v' target=\"_blank\">https://wandb.ai/ee23m505-iitmaana/cifar10-vgg6-assignment/sweeps/7vvpjt7v</a>"
            ]
          },
          "metadata": {}
        },
        {
          "output_type": "display_data",
          "data": {
            "text/plain": [
              "<IPython.core.display.HTML object>"
            ],
            "text/html": [
              " View project at <a href='https://wandb.ai/ee23m505-iitmaana/cifar10-vgg6-assignment' target=\"_blank\">https://wandb.ai/ee23m505-iitmaana/cifar10-vgg6-assignment</a>"
            ]
          },
          "metadata": {}
        },
        {
          "output_type": "display_data",
          "data": {
            "text/plain": [
              "<IPython.core.display.HTML object>"
            ],
            "text/html": [
              " View sweep at <a href='https://wandb.ai/ee23m505-iitmaana/cifar10-vgg6-assignment/sweeps/7vvpjt7v' target=\"_blank\">https://wandb.ai/ee23m505-iitmaana/cifar10-vgg6-assignment/sweeps/7vvpjt7v</a>"
            ]
          },
          "metadata": {}
        },
        {
          "output_type": "display_data",
          "data": {
            "text/plain": [
              "<IPython.core.display.HTML object>"
            ],
            "text/html": [
              " View run at <a href='https://wandb.ai/ee23m505-iitmaana/cifar10-vgg6-assignment/runs/daixhlq8' target=\"_blank\">https://wandb.ai/ee23m505-iitmaana/cifar10-vgg6-assignment/runs/daixhlq8</a>"
            ]
          },
          "metadata": {}
        },
        {
          "output_type": "stream",
          "name": "stdout",
          "text": [
            "Epoch 001: train_acc=26.69 val_acc=34.04 test_acc=33.57\n",
            "Epoch 002: train_acc=41.98 val_acc=53.00 test_acc=54.65\n",
            "Epoch 003: train_acc=57.53 val_acc=63.50 test_acc=64.02\n",
            "Epoch 004: train_acc=66.14 val_acc=67.90 test_acc=70.74\n",
            "Epoch 005: train_acc=71.86 val_acc=72.48 test_acc=74.92\n",
            "Epoch 006: train_acc=76.55 val_acc=73.30 test_acc=74.74\n",
            "Epoch 007: train_acc=79.60 val_acc=79.90 test_acc=81.27\n",
            "Epoch 008: train_acc=82.51 val_acc=82.16 test_acc=83.26\n",
            "Epoch 009: train_acc=84.90 val_acc=82.94 test_acc=83.81\n",
            "Epoch 010: train_acc=85.93 val_acc=84.76 test_acc=85.36\n"
          ]
        },
        {
          "output_type": "display_data",
          "data": {
            "text/plain": [
              "<IPython.core.display.HTML object>"
            ],
            "text/html": []
          },
          "metadata": {}
        },
        {
          "output_type": "display_data",
          "data": {
            "text/plain": [
              "<IPython.core.display.HTML object>"
            ],
            "text/html": [
              "<br>    <style><br>        .wandb-row {<br>            display: flex;<br>            flex-direction: row;<br>            flex-wrap: wrap;<br>            justify-content: flex-start;<br>            width: 100%;<br>        }<br>        .wandb-col {<br>            display: flex;<br>            flex-direction: column;<br>            flex-basis: 100%;<br>            flex: 1;<br>            padding: 10px;<br>        }<br>    </style><br><div class=\"wandb-row\"><div class=\"wandb-col\"><h3>Run history:</h3><br/><table class=\"wandb\"><tr><td>epoch</td><td>▁▂▃▃▄▅▆▆▇█</td></tr><tr><td>global_step</td><td>▁▁▁▁▂▂▂▂▂▂▂▂▂▂▂▃▃▃▃▃▃▄▄▄▄▄▄▄▅▅▆▆▆▇▇▇████</td></tr><tr><td>test/acc</td><td>▁▄▅▆▇▇▇███</td></tr><tr><td>test/loss</td><td>█▅▄▃▂▃▂▁▁▁</td></tr><tr><td>train/acc</td><td>▂▂▁▂▃▂▄▃▄▄▅▅▇▅▆▅▆▆▆▆▇▇▇▇▆▆▇▇▇▇█▇▇██▇██▇█</td></tr><tr><td>train/epoch_acc</td><td>▁▃▅▆▆▇▇███</td></tr><tr><td>train/epoch_loss</td><td>█▆▅▄▃▂▂▁▁▁</td></tr><tr><td>train/loss</td><td>██▇█▇▇▅▆▅▄▅▃▃▃▃▃▃▃▃▃▂▂▂▃▂▂▂▂▂▁▂▂▁▁▂▁▂▁▁▁</td></tr><tr><td>val/acc</td><td>▁▄▅▆▆▆▇███</td></tr><tr><td>val/loss</td><td>█▅▄▃▃▃▂▁▁▁</td></tr></table><br/></div><div class=\"wandb-col\"><h3>Run summary:</h3><br/><table class=\"wandb\"><tr><td>best_test_acc</td><td>0.8536</td></tr><tr><td>epoch</td><td>10</td></tr><tr><td>global_step</td><td>3520</td></tr><tr><td>test/acc</td><td>0.8536</td></tr><tr><td>test/loss</td><td>0.86231</td></tr><tr><td>train/acc</td><td>0.875</td></tr><tr><td>train/epoch_acc</td><td>0.85927</td></tr><tr><td>train/epoch_loss</td><td>0.88389</td></tr><tr><td>train/loss</td><td>0.87392</td></tr><tr><td>val/acc</td><td>0.8476</td></tr><tr><td>+1</td><td>...</td></tr></table><br/></div></div>"
            ]
          },
          "metadata": {}
        },
        {
          "output_type": "display_data",
          "data": {
            "text/plain": [
              "<IPython.core.display.HTML object>"
            ],
            "text/html": [
              " View run <strong style=\"color:#cdcd00\">grateful-sweep-2</strong> at: <a href='https://wandb.ai/ee23m505-iitmaana/cifar10-vgg6-assignment/runs/daixhlq8' target=\"_blank\">https://wandb.ai/ee23m505-iitmaana/cifar10-vgg6-assignment/runs/daixhlq8</a><br> View project at: <a href='https://wandb.ai/ee23m505-iitmaana/cifar10-vgg6-assignment' target=\"_blank\">https://wandb.ai/ee23m505-iitmaana/cifar10-vgg6-assignment</a><br>Synced 5 W&B file(s), 0 media file(s), 0 artifact file(s) and 0 other file(s)"
            ]
          },
          "metadata": {}
        },
        {
          "output_type": "display_data",
          "data": {
            "text/plain": [
              "<IPython.core.display.HTML object>"
            ],
            "text/html": [
              "Find logs at: <code>./wandb/run-20251026_123845-daixhlq8/logs</code>"
            ]
          },
          "metadata": {}
        },
        {
          "output_type": "stream",
          "name": "stderr",
          "text": [
            "\u001b[34m\u001b[1mwandb\u001b[0m: Agent Starting Run: b0e2cfiq with config:\n",
            "\u001b[34m\u001b[1mwandb\u001b[0m: \tact: hardtanh\n",
            "\u001b[34m\u001b[1mwandb\u001b[0m: \tbatch_size: 256\n",
            "\u001b[34m\u001b[1mwandb\u001b[0m: \tepochs: 60\n",
            "\u001b[34m\u001b[1mwandb\u001b[0m: \tlr: 0.005\n",
            "\u001b[34m\u001b[1mwandb\u001b[0m: \toptimizer: nesterov-sgd\n",
            "\u001b[34m\u001b[1mwandb\u001b[0m: \tstrong_aug: False\n"
          ]
        },
        {
          "output_type": "display_data",
          "data": {
            "text/plain": [
              "<IPython.core.display.HTML object>"
            ],
            "text/html": [
              "Ignoring project 'cifar10-vgg6-assignment' when running a sweep."
            ]
          },
          "metadata": {}
        },
        {
          "output_type": "display_data",
          "data": {
            "text/plain": [
              "<IPython.core.display.HTML object>"
            ],
            "text/html": []
          },
          "metadata": {}
        },
        {
          "output_type": "display_data",
          "data": {
            "text/plain": [
              "<IPython.core.display.HTML object>"
            ],
            "text/html": [
              "Tracking run with wandb version 0.22.2"
            ]
          },
          "metadata": {}
        },
        {
          "output_type": "display_data",
          "data": {
            "text/plain": [
              "<IPython.core.display.HTML object>"
            ],
            "text/html": [
              "Run data is saved locally in <code>/content/wandb/run-20251026_124232-b0e2cfiq</code>"
            ]
          },
          "metadata": {}
        },
        {
          "output_type": "display_data",
          "data": {
            "text/plain": [
              "<IPython.core.display.HTML object>"
            ],
            "text/html": [
              "Syncing run <strong><a href='https://wandb.ai/ee23m505-iitmaana/cifar10-vgg6-assignment/runs/b0e2cfiq' target=\"_blank\">cool-sweep-3</a></strong> to <a href='https://wandb.ai/ee23m505-iitmaana/cifar10-vgg6-assignment' target=\"_blank\">Weights & Biases</a> (<a href='https://wandb.me/developer-guide' target=\"_blank\">docs</a>)<br>Sweep page: <a href='https://wandb.ai/ee23m505-iitmaana/cifar10-vgg6-assignment/sweeps/7vvpjt7v' target=\"_blank\">https://wandb.ai/ee23m505-iitmaana/cifar10-vgg6-assignment/sweeps/7vvpjt7v</a>"
            ]
          },
          "metadata": {}
        },
        {
          "output_type": "display_data",
          "data": {
            "text/plain": [
              "<IPython.core.display.HTML object>"
            ],
            "text/html": [
              " View project at <a href='https://wandb.ai/ee23m505-iitmaana/cifar10-vgg6-assignment' target=\"_blank\">https://wandb.ai/ee23m505-iitmaana/cifar10-vgg6-assignment</a>"
            ]
          },
          "metadata": {}
        },
        {
          "output_type": "display_data",
          "data": {
            "text/plain": [
              "<IPython.core.display.HTML object>"
            ],
            "text/html": [
              " View sweep at <a href='https://wandb.ai/ee23m505-iitmaana/cifar10-vgg6-assignment/sweeps/7vvpjt7v' target=\"_blank\">https://wandb.ai/ee23m505-iitmaana/cifar10-vgg6-assignment/sweeps/7vvpjt7v</a>"
            ]
          },
          "metadata": {}
        },
        {
          "output_type": "display_data",
          "data": {
            "text/plain": [
              "<IPython.core.display.HTML object>"
            ],
            "text/html": [
              " View run at <a href='https://wandb.ai/ee23m505-iitmaana/cifar10-vgg6-assignment/runs/b0e2cfiq' target=\"_blank\">https://wandb.ai/ee23m505-iitmaana/cifar10-vgg6-assignment/runs/b0e2cfiq</a>"
            ]
          },
          "metadata": {}
        },
        {
          "output_type": "display_data",
          "data": {
            "text/plain": [
              "<IPython.core.display.HTML object>"
            ],
            "text/html": [
              "Ignoring project 'cifar10-vgg6-assignment' when running a sweep."
            ]
          },
          "metadata": {}
        },
        {
          "output_type": "display_data",
          "data": {
            "text/plain": [
              "<IPython.core.display.HTML object>"
            ],
            "text/html": [
              "Finishing previous runs because reinit is set to 'default'."
            ]
          },
          "metadata": {}
        },
        {
          "output_type": "display_data",
          "data": {
            "text/plain": [
              "<IPython.core.display.HTML object>"
            ],
            "text/html": []
          },
          "metadata": {}
        },
        {
          "output_type": "display_data",
          "data": {
            "text/plain": [
              "<IPython.core.display.HTML object>"
            ],
            "text/html": [
              " View run <strong style=\"color:#cdcd00\">cool-sweep-3</strong> at: <a href='https://wandb.ai/ee23m505-iitmaana/cifar10-vgg6-assignment/runs/b0e2cfiq' target=\"_blank\">https://wandb.ai/ee23m505-iitmaana/cifar10-vgg6-assignment/runs/b0e2cfiq</a><br> View project at: <a href='https://wandb.ai/ee23m505-iitmaana/cifar10-vgg6-assignment' target=\"_blank\">https://wandb.ai/ee23m505-iitmaana/cifar10-vgg6-assignment</a><br>Synced 5 W&B file(s), 0 media file(s), 0 artifact file(s) and 0 other file(s)"
            ]
          },
          "metadata": {}
        },
        {
          "output_type": "display_data",
          "data": {
            "text/plain": [
              "<IPython.core.display.HTML object>"
            ],
            "text/html": [
              "Find logs at: <code>./wandb/run-20251026_124232-b0e2cfiq/logs</code>"
            ]
          },
          "metadata": {}
        },
        {
          "output_type": "display_data",
          "data": {
            "text/plain": [
              "<IPython.core.display.HTML object>"
            ],
            "text/html": []
          },
          "metadata": {}
        },
        {
          "output_type": "display_data",
          "data": {
            "text/plain": [
              "<IPython.core.display.HTML object>"
            ],
            "text/html": [
              "Tracking run with wandb version 0.22.2"
            ]
          },
          "metadata": {}
        },
        {
          "output_type": "display_data",
          "data": {
            "text/plain": [
              "<IPython.core.display.HTML object>"
            ],
            "text/html": [
              "Run data is saved locally in <code>/content/wandb/run-20251026_124233-b0e2cfiq</code>"
            ]
          },
          "metadata": {}
        },
        {
          "output_type": "display_data",
          "data": {
            "text/plain": [
              "<IPython.core.display.HTML object>"
            ],
            "text/html": [
              "Syncing run <strong><a href='https://wandb.ai/ee23m505-iitmaana/cifar10-vgg6-assignment/runs/b0e2cfiq' target=\"_blank\">cool-sweep-3</a></strong> to <a href='https://wandb.ai/ee23m505-iitmaana/cifar10-vgg6-assignment' target=\"_blank\">Weights & Biases</a> (<a href='https://wandb.me/developer-guide' target=\"_blank\">docs</a>)<br>Sweep page: <a href='https://wandb.ai/ee23m505-iitmaana/cifar10-vgg6-assignment/sweeps/7vvpjt7v' target=\"_blank\">https://wandb.ai/ee23m505-iitmaana/cifar10-vgg6-assignment/sweeps/7vvpjt7v</a>"
            ]
          },
          "metadata": {}
        },
        {
          "output_type": "display_data",
          "data": {
            "text/plain": [
              "<IPython.core.display.HTML object>"
            ],
            "text/html": [
              " View project at <a href='https://wandb.ai/ee23m505-iitmaana/cifar10-vgg6-assignment' target=\"_blank\">https://wandb.ai/ee23m505-iitmaana/cifar10-vgg6-assignment</a>"
            ]
          },
          "metadata": {}
        },
        {
          "output_type": "display_data",
          "data": {
            "text/plain": [
              "<IPython.core.display.HTML object>"
            ],
            "text/html": [
              " View sweep at <a href='https://wandb.ai/ee23m505-iitmaana/cifar10-vgg6-assignment/sweeps/7vvpjt7v' target=\"_blank\">https://wandb.ai/ee23m505-iitmaana/cifar10-vgg6-assignment/sweeps/7vvpjt7v</a>"
            ]
          },
          "metadata": {}
        },
        {
          "output_type": "display_data",
          "data": {
            "text/plain": [
              "<IPython.core.display.HTML object>"
            ],
            "text/html": [
              " View run at <a href='https://wandb.ai/ee23m505-iitmaana/cifar10-vgg6-assignment/runs/b0e2cfiq' target=\"_blank\">https://wandb.ai/ee23m505-iitmaana/cifar10-vgg6-assignment/runs/b0e2cfiq</a>"
            ]
          },
          "metadata": {}
        },
        {
          "output_type": "stream",
          "name": "stdout",
          "text": [
            "Epoch 001: train_acc=40.38 val_acc=50.74 test_acc=54.16\n",
            "Epoch 002: train_acc=56.57 val_acc=62.52 test_acc=64.89\n",
            "Epoch 003: train_acc=64.20 val_acc=66.92 test_acc=67.94\n",
            "Epoch 004: train_acc=69.12 val_acc=69.22 test_acc=72.74\n",
            "Epoch 005: train_acc=72.33 val_acc=72.48 test_acc=74.13\n",
            "Epoch 006: train_acc=74.57 val_acc=74.24 test_acc=76.45\n",
            "Epoch 007: train_acc=77.08 val_acc=74.52 test_acc=74.25\n",
            "Epoch 008: train_acc=78.48 val_acc=75.80 test_acc=75.92\n",
            "Epoch 009: train_acc=79.96 val_acc=76.96 test_acc=79.08\n",
            "Epoch 010: train_acc=81.13 val_acc=77.94 test_acc=79.15\n",
            "Epoch 011: train_acc=81.59 val_acc=75.46 test_acc=77.39\n",
            "Epoch 012: train_acc=82.99 val_acc=81.32 test_acc=81.83\n",
            "Epoch 013: train_acc=83.67 val_acc=82.16 test_acc=82.60\n",
            "Epoch 014: train_acc=84.30 val_acc=79.24 test_acc=80.23\n",
            "Epoch 015: train_acc=85.15 val_acc=82.42 test_acc=83.08\n",
            "Epoch 016: train_acc=85.64 val_acc=82.66 test_acc=83.68\n",
            "Epoch 017: train_acc=86.35 val_acc=84.18 test_acc=84.92\n",
            "Epoch 018: train_acc=86.91 val_acc=83.18 test_acc=83.77\n",
            "Epoch 019: train_acc=87.39 val_acc=81.42 test_acc=83.30\n",
            "Epoch 020: train_acc=87.80 val_acc=83.78 test_acc=84.52\n",
            "Epoch 021: train_acc=88.41 val_acc=83.14 test_acc=84.15\n",
            "Epoch 022: train_acc=88.83 val_acc=83.76 test_acc=83.68\n",
            "Epoch 023: train_acc=89.13 val_acc=84.36 test_acc=84.72\n",
            "Epoch 024: train_acc=89.53 val_acc=84.82 test_acc=85.25\n",
            "Epoch 025: train_acc=89.74 val_acc=85.00 test_acc=86.27\n",
            "Epoch 026: train_acc=90.33 val_acc=85.08 test_acc=86.24\n",
            "Epoch 027: train_acc=90.64 val_acc=84.96 test_acc=84.70\n",
            "Epoch 028: train_acc=90.93 val_acc=85.96 test_acc=86.87\n",
            "Epoch 029: train_acc=91.43 val_acc=86.52 test_acc=86.36\n",
            "Epoch 030: train_acc=91.55 val_acc=85.34 test_acc=86.56\n",
            "Epoch 031: train_acc=91.88 val_acc=85.80 test_acc=86.40\n",
            "Epoch 032: train_acc=92.14 val_acc=86.98 test_acc=87.02\n",
            "Epoch 033: train_acc=92.30 val_acc=86.90 test_acc=86.66\n",
            "Epoch 034: train_acc=92.89 val_acc=86.64 test_acc=87.51\n",
            "Epoch 035: train_acc=93.21 val_acc=86.90 test_acc=87.93\n",
            "Epoch 036: train_acc=93.37 val_acc=87.68 test_acc=87.94\n",
            "Epoch 037: train_acc=93.48 val_acc=87.54 test_acc=87.55\n",
            "Epoch 038: train_acc=93.65 val_acc=87.68 test_acc=88.56\n",
            "Epoch 039: train_acc=93.73 val_acc=87.62 test_acc=87.86\n",
            "Epoch 040: train_acc=94.04 val_acc=87.68 test_acc=88.47\n",
            "Epoch 041: train_acc=94.33 val_acc=88.34 test_acc=88.59\n",
            "Epoch 042: train_acc=94.41 val_acc=88.34 test_acc=88.37\n",
            "Epoch 043: train_acc=94.75 val_acc=88.20 test_acc=88.59\n",
            "Epoch 044: train_acc=94.95 val_acc=88.08 test_acc=88.49\n",
            "Epoch 045: train_acc=95.13 val_acc=88.22 test_acc=88.79\n",
            "Epoch 046: train_acc=95.18 val_acc=88.52 test_acc=88.72\n",
            "Epoch 047: train_acc=95.30 val_acc=88.84 test_acc=88.94\n",
            "Epoch 048: train_acc=95.39 val_acc=89.06 test_acc=88.86\n",
            "Epoch 049: train_acc=95.46 val_acc=89.12 test_acc=89.34\n",
            "Epoch 050: train_acc=95.60 val_acc=89.12 test_acc=89.39\n",
            "Epoch 051: train_acc=95.51 val_acc=89.10 test_acc=89.25\n",
            "Epoch 052: train_acc=95.80 val_acc=89.14 test_acc=89.02\n",
            "Epoch 053: train_acc=95.95 val_acc=88.80 test_acc=89.45\n",
            "Epoch 054: train_acc=95.94 val_acc=89.40 test_acc=89.44\n",
            "Epoch 055: train_acc=96.08 val_acc=88.70 test_acc=89.35\n",
            "Epoch 056: train_acc=95.88 val_acc=89.40 test_acc=89.33\n",
            "Epoch 057: train_acc=96.08 val_acc=88.94 test_acc=89.53\n",
            "Epoch 058: train_acc=96.04 val_acc=89.40 test_acc=89.40\n",
            "Epoch 059: train_acc=96.14 val_acc=88.76 test_acc=89.45\n",
            "Epoch 060: train_acc=96.08 val_acc=88.92 test_acc=89.45\n"
          ]
        },
        {
          "output_type": "display_data",
          "data": {
            "text/plain": [
              "<IPython.core.display.HTML object>"
            ],
            "text/html": []
          },
          "metadata": {}
        },
        {
          "output_type": "display_data",
          "data": {
            "text/plain": [
              "<IPython.core.display.HTML object>"
            ],
            "text/html": [
              "<br>    <style><br>        .wandb-row {<br>            display: flex;<br>            flex-direction: row;<br>            flex-wrap: wrap;<br>            justify-content: flex-start;<br>            width: 100%;<br>        }<br>        .wandb-col {<br>            display: flex;<br>            flex-direction: column;<br>            flex-basis: 100%;<br>            flex: 1;<br>            padding: 10px;<br>        }<br>    </style><br><div class=\"wandb-row\"><div class=\"wandb-col\"><h3>Run history:</h3><br/><table class=\"wandb\"><tr><td>epoch</td><td>▁▁▁▁▁▂▂▂▂▂▃▃▃▄▄▄▄▄▄▅▅▅▅▅▆▆▆▆▆▆▇▇▇▇▇▇████</td></tr><tr><td>global_step</td><td>▁▁▁▁▁▂▂▂▂▂▂▃▃▃▃▄▄▄▄▄▅▅▅▅▅▅▅▆▆▆▆▇▇▇▇▇▇▇██</td></tr><tr><td>test/acc</td><td>▁▃▅▅▅▆▆▆▆▇▇▇▇▇▇▇▇▇▇▇▇███████████████████</td></tr><tr><td>test/loss</td><td>█▆▅▄▄▃▄▃▂▃▂▂▂▂▂▂▂▂▂▂▂▂▂▁▂▁▁▁▁▁▁▁▁▁▁▁▁▁▁▁</td></tr><tr><td>train/acc</td><td>▁▃▁▂▂▄▄▃▅▅▅▆▆▅▆▆▆▇▆▇▇▆▇▇▇█▇▇▇██▇████▇█▇█</td></tr><tr><td>train/epoch_acc</td><td>▁▃▄▅▆▆▆▆▆▇▇▇▇▇▇▇▇▇▇▇▇███████████████████</td></tr><tr><td>train/epoch_loss</td><td>█▅▄▄▄▃▃▃▂▂▂▂▂▂▂▂▂▂▂▂▁▁▁▁▁▁▁▁▁▁▁▁▁▁▁▁▁▁▁▁</td></tr><tr><td>train/loss</td><td>█▇█▅▆▄▄▄▄▃▂▄▄▃▃▃▃▃▂▂▂▂▂▂▂▂▂▂▂▂▂▁▂▁▁▁▂▁▂▁</td></tr><tr><td>val/acc</td><td>▁▃▄▄▅▆▆▅▇▆▇▇▇▇▇▇▇▇▇█████████████████████</td></tr><tr><td>val/loss</td><td>█▆▅▅▄▄▃▃▃▂▂▂▂▂▂▂▂▂▂▂▂▂▂▂▁▁▁▁▁▁▁▁▁▁▁▁▁▁▁▁</td></tr></table><br/></div><div class=\"wandb-col\"><h3>Run summary:</h3><br/><table class=\"wandb\"><tr><td>best_test_acc</td><td>0.8953</td></tr><tr><td>epoch</td><td>60</td></tr><tr><td>global_step</td><td>10560</td></tr><tr><td>test/acc</td><td>0.8945</td></tr><tr><td>test/loss</td><td>0.77779</td></tr><tr><td>train/acc</td><td>0.97</td></tr><tr><td>train/epoch_acc</td><td>0.96078</td></tr><tr><td>train/epoch_loss</td><td>0.65958</td></tr><tr><td>train/loss</td><td>0.66219</td></tr><tr><td>val/acc</td><td>0.8892</td></tr><tr><td>+1</td><td>...</td></tr></table><br/></div></div>"
            ]
          },
          "metadata": {}
        },
        {
          "output_type": "display_data",
          "data": {
            "text/plain": [
              "<IPython.core.display.HTML object>"
            ],
            "text/html": [
              " View run <strong style=\"color:#cdcd00\">cool-sweep-3</strong> at: <a href='https://wandb.ai/ee23m505-iitmaana/cifar10-vgg6-assignment/runs/b0e2cfiq' target=\"_blank\">https://wandb.ai/ee23m505-iitmaana/cifar10-vgg6-assignment/runs/b0e2cfiq</a><br> View project at: <a href='https://wandb.ai/ee23m505-iitmaana/cifar10-vgg6-assignment' target=\"_blank\">https://wandb.ai/ee23m505-iitmaana/cifar10-vgg6-assignment</a><br>Synced 5 W&B file(s), 0 media file(s), 0 artifact file(s) and 0 other file(s)"
            ]
          },
          "metadata": {}
        },
        {
          "output_type": "display_data",
          "data": {
            "text/plain": [
              "<IPython.core.display.HTML object>"
            ],
            "text/html": [
              "Find logs at: <code>./wandb/run-20251026_124233-b0e2cfiq/logs</code>"
            ]
          },
          "metadata": {}
        },
        {
          "output_type": "stream",
          "name": "stderr",
          "text": [
            "\u001b[34m\u001b[1mwandb\u001b[0m: Agent Starting Run: s2bcs0x1 with config:\n",
            "\u001b[34m\u001b[1mwandb\u001b[0m: \tact: relu\n",
            "\u001b[34m\u001b[1mwandb\u001b[0m: \tbatch_size: 64\n",
            "\u001b[34m\u001b[1mwandb\u001b[0m: \tepochs: 40\n",
            "\u001b[34m\u001b[1mwandb\u001b[0m: \tlr: 0.1\n",
            "\u001b[34m\u001b[1mwandb\u001b[0m: \toptimizer: lbfgs\n",
            "\u001b[34m\u001b[1mwandb\u001b[0m: \tstrong_aug: False\n"
          ]
        },
        {
          "output_type": "display_data",
          "data": {
            "text/plain": [
              "<IPython.core.display.HTML object>"
            ],
            "text/html": [
              "Ignoring project 'cifar10-vgg6-assignment' when running a sweep."
            ]
          },
          "metadata": {}
        },
        {
          "output_type": "display_data",
          "data": {
            "text/plain": [
              "<IPython.core.display.HTML object>"
            ],
            "text/html": []
          },
          "metadata": {}
        },
        {
          "output_type": "display_data",
          "data": {
            "text/plain": [
              "<IPython.core.display.HTML object>"
            ],
            "text/html": [
              "Tracking run with wandb version 0.22.2"
            ]
          },
          "metadata": {}
        },
        {
          "output_type": "display_data",
          "data": {
            "text/plain": [
              "<IPython.core.display.HTML object>"
            ],
            "text/html": [
              "Run data is saved locally in <code>/content/wandb/run-20251026_130417-s2bcs0x1</code>"
            ]
          },
          "metadata": {}
        },
        {
          "output_type": "display_data",
          "data": {
            "text/plain": [
              "<IPython.core.display.HTML object>"
            ],
            "text/html": [
              "Syncing run <strong><a href='https://wandb.ai/ee23m505-iitmaana/cifar10-vgg6-assignment/runs/s2bcs0x1' target=\"_blank\">summer-sweep-4</a></strong> to <a href='https://wandb.ai/ee23m505-iitmaana/cifar10-vgg6-assignment' target=\"_blank\">Weights & Biases</a> (<a href='https://wandb.me/developer-guide' target=\"_blank\">docs</a>)<br>Sweep page: <a href='https://wandb.ai/ee23m505-iitmaana/cifar10-vgg6-assignment/sweeps/7vvpjt7v' target=\"_blank\">https://wandb.ai/ee23m505-iitmaana/cifar10-vgg6-assignment/sweeps/7vvpjt7v</a>"
            ]
          },
          "metadata": {}
        },
        {
          "output_type": "display_data",
          "data": {
            "text/plain": [
              "<IPython.core.display.HTML object>"
            ],
            "text/html": [
              " View project at <a href='https://wandb.ai/ee23m505-iitmaana/cifar10-vgg6-assignment' target=\"_blank\">https://wandb.ai/ee23m505-iitmaana/cifar10-vgg6-assignment</a>"
            ]
          },
          "metadata": {}
        },
        {
          "output_type": "display_data",
          "data": {
            "text/plain": [
              "<IPython.core.display.HTML object>"
            ],
            "text/html": [
              " View sweep at <a href='https://wandb.ai/ee23m505-iitmaana/cifar10-vgg6-assignment/sweeps/7vvpjt7v' target=\"_blank\">https://wandb.ai/ee23m505-iitmaana/cifar10-vgg6-assignment/sweeps/7vvpjt7v</a>"
            ]
          },
          "metadata": {}
        },
        {
          "output_type": "display_data",
          "data": {
            "text/plain": [
              "<IPython.core.display.HTML object>"
            ],
            "text/html": [
              " View run at <a href='https://wandb.ai/ee23m505-iitmaana/cifar10-vgg6-assignment/runs/s2bcs0x1' target=\"_blank\">https://wandb.ai/ee23m505-iitmaana/cifar10-vgg6-assignment/runs/s2bcs0x1</a>"
            ]
          },
          "metadata": {}
        },
        {
          "output_type": "display_data",
          "data": {
            "text/plain": [
              "<IPython.core.display.HTML object>"
            ],
            "text/html": [
              "Ignoring project 'cifar10-vgg6-assignment' when running a sweep."
            ]
          },
          "metadata": {}
        },
        {
          "output_type": "display_data",
          "data": {
            "text/plain": [
              "<IPython.core.display.HTML object>"
            ],
            "text/html": [
              "Finishing previous runs because reinit is set to 'default'."
            ]
          },
          "metadata": {}
        },
        {
          "output_type": "display_data",
          "data": {
            "text/plain": [
              "<IPython.core.display.HTML object>"
            ],
            "text/html": []
          },
          "metadata": {}
        },
        {
          "output_type": "display_data",
          "data": {
            "text/plain": [
              "<IPython.core.display.HTML object>"
            ],
            "text/html": [
              " View run <strong style=\"color:#cdcd00\">summer-sweep-4</strong> at: <a href='https://wandb.ai/ee23m505-iitmaana/cifar10-vgg6-assignment/runs/s2bcs0x1' target=\"_blank\">https://wandb.ai/ee23m505-iitmaana/cifar10-vgg6-assignment/runs/s2bcs0x1</a><br> View project at: <a href='https://wandb.ai/ee23m505-iitmaana/cifar10-vgg6-assignment' target=\"_blank\">https://wandb.ai/ee23m505-iitmaana/cifar10-vgg6-assignment</a><br>Synced 5 W&B file(s), 0 media file(s), 0 artifact file(s) and 0 other file(s)"
            ]
          },
          "metadata": {}
        },
        {
          "output_type": "display_data",
          "data": {
            "text/plain": [
              "<IPython.core.display.HTML object>"
            ],
            "text/html": [
              "Find logs at: <code>./wandb/run-20251026_130417-s2bcs0x1/logs</code>"
            ]
          },
          "metadata": {}
        },
        {
          "output_type": "display_data",
          "data": {
            "text/plain": [
              "<IPython.core.display.HTML object>"
            ],
            "text/html": []
          },
          "metadata": {}
        },
        {
          "output_type": "display_data",
          "data": {
            "text/plain": [
              "<IPython.core.display.HTML object>"
            ],
            "text/html": [
              "Tracking run with wandb version 0.22.2"
            ]
          },
          "metadata": {}
        },
        {
          "output_type": "display_data",
          "data": {
            "text/plain": [
              "<IPython.core.display.HTML object>"
            ],
            "text/html": [
              "Run data is saved locally in <code>/content/wandb/run-20251026_130419-s2bcs0x1</code>"
            ]
          },
          "metadata": {}
        },
        {
          "output_type": "display_data",
          "data": {
            "text/plain": [
              "<IPython.core.display.HTML object>"
            ],
            "text/html": [
              "Syncing run <strong><a href='https://wandb.ai/ee23m505-iitmaana/cifar10-vgg6-assignment/runs/s2bcs0x1' target=\"_blank\">summer-sweep-4</a></strong> to <a href='https://wandb.ai/ee23m505-iitmaana/cifar10-vgg6-assignment' target=\"_blank\">Weights & Biases</a> (<a href='https://wandb.me/developer-guide' target=\"_blank\">docs</a>)<br>Sweep page: <a href='https://wandb.ai/ee23m505-iitmaana/cifar10-vgg6-assignment/sweeps/7vvpjt7v' target=\"_blank\">https://wandb.ai/ee23m505-iitmaana/cifar10-vgg6-assignment/sweeps/7vvpjt7v</a>"
            ]
          },
          "metadata": {}
        },
        {
          "output_type": "display_data",
          "data": {
            "text/plain": [
              "<IPython.core.display.HTML object>"
            ],
            "text/html": [
              " View project at <a href='https://wandb.ai/ee23m505-iitmaana/cifar10-vgg6-assignment' target=\"_blank\">https://wandb.ai/ee23m505-iitmaana/cifar10-vgg6-assignment</a>"
            ]
          },
          "metadata": {}
        },
        {
          "output_type": "display_data",
          "data": {
            "text/plain": [
              "<IPython.core.display.HTML object>"
            ],
            "text/html": [
              " View sweep at <a href='https://wandb.ai/ee23m505-iitmaana/cifar10-vgg6-assignment/sweeps/7vvpjt7v' target=\"_blank\">https://wandb.ai/ee23m505-iitmaana/cifar10-vgg6-assignment/sweeps/7vvpjt7v</a>"
            ]
          },
          "metadata": {}
        },
        {
          "output_type": "display_data",
          "data": {
            "text/plain": [
              "<IPython.core.display.HTML object>"
            ],
            "text/html": [
              " View run at <a href='https://wandb.ai/ee23m505-iitmaana/cifar10-vgg6-assignment/runs/s2bcs0x1' target=\"_blank\">https://wandb.ai/ee23m505-iitmaana/cifar10-vgg6-assignment/runs/s2bcs0x1</a>"
            ]
          },
          "metadata": {}
        },
        {
          "output_type": "stream",
          "name": "stdout",
          "text": [
            "Epoch 001: train_acc=10.07 val_acc=9.42 test_acc=10.00\n",
            "Epoch 002: train_acc=10.11 val_acc=10.14 test_acc=10.00\n",
            "Epoch 003: train_acc=10.13 val_acc=10.64 test_acc=10.00\n",
            "Epoch 004: train_acc=9.84 val_acc=10.02 test_acc=10.00\n",
            "Epoch 005: train_acc=9.84 val_acc=9.42 test_acc=10.00\n",
            "Epoch 006: train_acc=10.06 val_acc=10.64 test_acc=10.00\n",
            "Epoch 007: train_acc=10.07 val_acc=10.28 test_acc=10.00\n",
            "Epoch 008: train_acc=10.20 val_acc=10.14 test_acc=10.00\n",
            "Epoch 009: train_acc=9.73 val_acc=9.76 test_acc=10.00\n",
            "Epoch 010: train_acc=10.00 val_acc=10.02 test_acc=10.00\n",
            "Epoch 011: train_acc=11.88 val_acc=17.94 test_acc=18.66\n",
            "Epoch 012: train_acc=16.73 val_acc=22.14 test_acc=21.63\n",
            "Epoch 013: train_acc=21.47 val_acc=25.10 test_acc=26.35\n",
            "Epoch 014: train_acc=29.98 val_acc=37.72 test_acc=38.33\n",
            "Epoch 015: train_acc=37.75 val_acc=33.26 test_acc=33.05\n",
            "Epoch 016: train_acc=50.58 val_acc=54.18 test_acc=56.00\n",
            "Epoch 017: train_acc=59.73 val_acc=59.60 test_acc=60.33\n",
            "Epoch 018: train_acc=65.30 val_acc=61.32 test_acc=62.84\n",
            "Epoch 019: train_acc=69.53 val_acc=62.40 test_acc=63.78\n",
            "Epoch 020: train_acc=72.55 val_acc=66.52 test_acc=67.94\n",
            "Epoch 021: train_acc=74.79 val_acc=76.28 test_acc=77.96\n",
            "Epoch 022: train_acc=76.94 val_acc=76.56 test_acc=78.17\n",
            "Epoch 023: train_acc=78.54 val_acc=78.12 test_acc=79.12\n",
            "Epoch 024: train_acc=79.82 val_acc=75.16 test_acc=77.82\n",
            "Epoch 025: train_acc=81.10 val_acc=77.10 test_acc=78.03\n",
            "Epoch 026: train_acc=82.31 val_acc=80.48 test_acc=80.98\n",
            "Epoch 027: train_acc=83.52 val_acc=81.86 test_acc=82.76\n",
            "Epoch 028: train_acc=84.63 val_acc=82.76 test_acc=83.84\n",
            "Epoch 029: train_acc=85.91 val_acc=83.40 test_acc=83.81\n",
            "Epoch 030: train_acc=87.07 val_acc=85.06 test_acc=85.73\n",
            "Epoch 031: train_acc=88.03 val_acc=86.22 test_acc=87.09\n",
            "Epoch 032: train_acc=88.85 val_acc=86.82 test_acc=86.45\n",
            "Epoch 033: train_acc=90.04 val_acc=86.98 test_acc=87.23\n",
            "Epoch 034: train_acc=91.20 val_acc=88.16 test_acc=88.02\n",
            "Epoch 035: train_acc=91.87 val_acc=88.36 test_acc=88.69\n",
            "Epoch 036: train_acc=92.95 val_acc=88.80 test_acc=89.39\n"
          ]
        }
      ]
    }
  ],
  "metadata": {
    "accelerator": "GPU",
    "colab": {
      "gpuType": "T4",
      "provenance": [],
      "authorship_tag": "ABX9TyNiA1DLb9q4QdHkme1/eE7z",
      "include_colab_link": true
    },
    "kernelspec": {
      "display_name": "Python 3",
      "name": "python3"
    },
    "language_info": {
      "name": "python"
    }
  },
  "nbformat": 4,
  "nbformat_minor": 0
}