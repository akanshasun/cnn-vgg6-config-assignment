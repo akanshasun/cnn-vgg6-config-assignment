{
  "cells": [
    {
      "cell_type": "markdown",
      "metadata": {
        "id": "view-in-github",
        "colab_type": "text"
      },
      "source": [
        "<a href=\"https://colab.research.google.com/github/akanshasun/cnn-vgg6-config-assignment/blob/main/vgg6_akansha.ipynb\" target=\"_parent\"><img src=\"https://colab.research.google.com/assets/colab-badge.svg\" alt=\"Open In Colab\"/></a>"
      ]
    },
    {
      "cell_type": "code",
      "execution_count": 1,
      "metadata": {
        "id": "h4zVJuvxbApY",
        "colab": {
          "base_uri": "https://localhost:8080/"
        },
        "outputId": "2c3ba5d1-7bc1-4aea-d82f-0f007e1e9d74"
      },
      "outputs": [
        {
          "output_type": "stream",
          "name": "stdout",
          "text": [
            "Device: cuda\n"
          ]
        }
      ],
      "source": [
        "\n",
        "import os, math, time, random\n",
        "import torch\n",
        "import torch.nn as nn\n",
        "import torch.optim as optim\n",
        "from torch.utils.data import DataLoader, random_split\n",
        "from torchvision import datasets, transforms\n",
        "import matplotlib.pyplot as plt\n",
        "import torch.nn.functional as F\n",
        "import torch.nn.init as init\n",
        "import pandas as pd\n",
        "import argparse\n",
        "import wandb\n",
        "\n",
        "SEED = 42\n",
        "random.seed(SEED); torch.manual_seed(SEED); torch.cuda.manual_seed_all(SEED)\n",
        "torch.backends.cudnn.benchmark = True  # OK for CNNs\n",
        "device = torch.device(\"cuda\" if torch.cuda.is_available() else \"cpu\")\n",
        "print(\"Device:\", device)\n"
      ]
    },
    {
      "cell_type": "code",
      "execution_count": 2,
      "metadata": {
        "id": "0m4DG18mQVuz"
      },
      "outputs": [],
      "source": [
        "from PIL import Image, ImageEnhance, ImageOps\n",
        "import random\n",
        "import numpy as np\n",
        "import torch\n",
        "\n",
        "\n",
        "class Cutout(object):\n",
        "    \"\"\"Randomly mask out one or more patches from an image.\n",
        "    Args:\n",
        "        n_holes (int): Number of patches to cut out of each image.\n",
        "        length (int): The length (in pixels) of each square patch.\n",
        "    \"\"\"\n",
        "    def __init__(self, n_holes, length):\n",
        "        self.n_holes = n_holes\n",
        "        self.length = length\n",
        "\n",
        "    def __call__(self, img):\n",
        "        \"\"\"\n",
        "        Args:\n",
        "            img (Tensor): Tensor image of size (C, H, W).\n",
        "        Returns:\n",
        "            Tensor: Image with n_holes of dimension length x length cut out of it.\n",
        "        \"\"\"\n",
        "        h = img.size(1)\n",
        "        w = img.size(2)\n",
        "\n",
        "        mask = np.ones((h, w), np.float32)\n",
        "\n",
        "        for n in range(self.n_holes):\n",
        "            y = np.random.randint(h)\n",
        "            x = np.random.randint(w)\n",
        "\n",
        "            y1 = np.clip(y - self.length // 2, 0, h)\n",
        "            y2 = np.clip(y + self.length // 2, 0, h)\n",
        "            x1 = np.clip(x - self.length // 2, 0, w)\n",
        "            x2 = np.clip(x + self.length // 2, 0, w)\n",
        "\n",
        "            mask[y1: y2, x1: x2] = 0.\n",
        "\n",
        "        mask = torch.from_numpy(mask)\n",
        "        mask = mask.expand_as(img)\n",
        "        img = img * mask\n",
        "        return img\n",
        "\n",
        "class SubPolicy(object):\n",
        "    def __init__(self, p1, operation1, magnitude_idx1, p2, operation2, magnitude_idx2, fillcolor=(128, 128, 128)):\n",
        "        self.p1 = p1\n",
        "        self.op1=operation1\n",
        "        self.magnitude_idx1=magnitude_idx1\n",
        "        self.p2 = p2\n",
        "        self.op2=operation2\n",
        "        self.magnitude_idx2=magnitude_idx2\n",
        "        self.fillcolor=fillcolor\n",
        "        self.init = 0\n",
        "\n",
        "    def gen(self, operation1, magnitude_idx1, operation2, magnitude_idx2, fillcolor):\n",
        "        ranges = {\n",
        "            \"shearX\": np.linspace(0, 0.3, 10),\n",
        "            \"shearY\": np.linspace(0, 0.3, 10),\n",
        "            \"translateX\": np.linspace(0, 150 / 331, 10),\n",
        "            \"translateY\": np.linspace(0, 150 / 331, 10),\n",
        "            \"rotate\": np.linspace(0, 30, 10),\n",
        "            \"color\": np.linspace(0.0, 0.9, 10),\n",
        "            \"posterize\": np.round(np.linspace(8, 4, 10), 0).astype(int),\n",
        "            \"solarize\": np.linspace(256, 0, 10),\n",
        "            \"contrast\": np.linspace(0.0, 0.9, 10),\n",
        "            \"sharpness\": np.linspace(0.0, 0.9, 10),\n",
        "            \"brightness\": np.linspace(0.0, 0.9, 10),\n",
        "            \"autocontrast\": [0] * 10,\n",
        "            \"equalize\": [0] * 10,\n",
        "            \"invert\": [0] * 10\n",
        "        }\n",
        "        def rotate_with_fill(img, magnitude):\n",
        "            rot = img.convert(\"RGBA\").rotate(magnitude)\n",
        "            return Image.composite(rot, Image.new(\"RGBA\", rot.size, (128,) * 4), rot).convert(img.mode)\n",
        "\n",
        "        func = {\n",
        "            \"shearX\": lambda img, magnitude: img.transform(\n",
        "                img.size, Image.AFFINE, (1, magnitude *\n",
        "                                         random.choice([-1, 1]), 0, 0, 1, 0),\n",
        "                Image.BICUBIC, fillcolor=fillcolor),\n",
        "            \"shearY\": lambda img, magnitude: img.transform(\n",
        "                img.size, Image.AFFINE, (1, 0, 0, magnitude *\n",
        "                                         random.choice([-1, 1]), 1, 0),\n",
        "                Image.BICUBIC, fillcolor=fillcolor),\n",
        "            \"translateX\": lambda img, magnitude: img.transform(\n",
        "                img.size, Image.AFFINE, (1, 0, magnitude *\n",
        "                                         img.size[0] * random.choice([-1, 1]), 0, 1, 0),\n",
        "                fillcolor=fillcolor),\n",
        "            \"translateY\": lambda img, magnitude: img.transform(\n",
        "                img.size, Image.AFFINE, (1, 0, 0, 0, 1, magnitude *\n",
        "                                         img.size[1] * random.choice([-1, 1])),\n",
        "                fillcolor=fillcolor),\n",
        "            \"rotate\": lambda img, magnitude: rotate_with_fill(img, magnitude),\n",
        "            # \"rotate\": lambda img, magnitude: img.rotate(magnitude * random.choice([-1, 1])),\n",
        "            \"color\": lambda img, magnitude: ImageEnhance.Color(img).enhance(1 + magnitude * random.choice([-1, 1])),\n",
        "            \"posterize\": lambda img, magnitude: ImageOps.posterize(img, magnitude),\n",
        "            \"solarize\": lambda img, magnitude: ImageOps.solarize(img, magnitude),\n",
        "            \"contrast\": lambda img, magnitude: ImageEnhance.Contrast(img).enhance(\n",
        "                1 + magnitude * random.choice([-1, 1])),\n",
        "            \"sharpness\": lambda img, magnitude: ImageEnhance.Sharpness(img).enhance(\n",
        "                1 + magnitude * random.choice([-1, 1])),\n",
        "            \"brightness\": lambda img, magnitude: ImageEnhance.Brightness(img).enhance(\n",
        "                1 + magnitude * random.choice([-1, 1])),\n",
        "            \"autocontrast\": lambda img, magnitude: ImageOps.autocontrast(img),\n",
        "            \"equalize\": lambda img, magnitude: ImageOps.equalize(img),\n",
        "            \"invert\": lambda img, magnitude: ImageOps.invert(img)\n",
        "        }\n",
        "\n",
        "        self.operation1 = func[operation1]\n",
        "        self.magnitude1 = ranges[operation1][magnitude_idx1]\n",
        "        self.operation2 = func[operation2]\n",
        "        self.magnitude2 = ranges[operation2][magnitude_idx2]\n",
        "\n",
        "    def __call__(self, img):\n",
        "        if self.init == 0:\n",
        "            self.gen(self.op1, self.magnitude_idx1, self.op2, self.magnitude_idx2, self.fillcolor)\n",
        "            self.init = 1\n",
        "        if random.random() < self.p1:\n",
        "            img = self.operation1(img, self.magnitude1)\n",
        "        if random.random() < self.p2:\n",
        "            img = self.operation2(img, self.magnitude2)\n",
        "        return img\n",
        "\n",
        "class ImageNetPolicy(object):\n",
        "    \"\"\" Randomly choose one of the best 24 Sub-policies on ImageNet.\n",
        "        Example:\n",
        "        >>> policy = ImageNetPolicy()\n",
        "        >>> transformed = policy(image)\n",
        "        Example as a PyTorch Transform:\n",
        "        >>> transform=transforms.Compose([\n",
        "        >>>     transforms.Resize(256),\n",
        "        >>>     ImageNetPolicy(),\n",
        "        >>>     transforms.ToTensor()])\n",
        "    \"\"\"\n",
        "\n",
        "    def __init__(self, fillcolor=(128, 128, 128)):\n",
        "        self.policies = [\n",
        "            SubPolicy(0.4, \"posterize\", 8, 0.6, \"rotate\", 9, fillcolor),\n",
        "            SubPolicy(0.6, \"solarize\", 5, 0.6, \"autocontrast\", 5, fillcolor),\n",
        "            SubPolicy(0.8, \"equalize\", 8, 0.6, \"equalize\", 3, fillcolor),\n",
        "            SubPolicy(0.6, \"posterize\", 7, 0.6, \"posterize\", 6, fillcolor),\n",
        "            SubPolicy(0.4, \"equalize\", 7, 0.2, \"solarize\", 4, fillcolor),\n",
        "\n",
        "            SubPolicy(0.4, \"equalize\", 4, 0.8, \"rotate\", 8, fillcolor),\n",
        "            SubPolicy(0.6, \"solarize\", 3, 0.6, \"equalize\", 7, fillcolor),\n",
        "            SubPolicy(0.8, \"posterize\", 5, 1.0, \"equalize\", 2, fillcolor),\n",
        "            SubPolicy(0.2, \"rotate\", 3, 0.6, \"solarize\", 8, fillcolor),\n",
        "            SubPolicy(0.6, \"equalize\", 8, 0.4, \"posterize\", 6, fillcolor),\n",
        "\n",
        "            SubPolicy(0.8, \"rotate\", 8, 0.4, \"color\", 0, fillcolor),\n",
        "            SubPolicy(0.4, \"rotate\", 9, 0.6, \"equalize\", 2, fillcolor),\n",
        "            SubPolicy(0.0, \"equalize\", 7, 0.8, \"equalize\", 8, fillcolor),\n",
        "            SubPolicy(0.6, \"invert\", 4, 1.0, \"equalize\", 8, fillcolor),\n",
        "            SubPolicy(0.6, \"color\", 4, 1.0, \"contrast\", 8, fillcolor),\n",
        "\n",
        "            SubPolicy(0.8, \"rotate\", 8, 1.0, \"color\", 2, fillcolor),\n",
        "            SubPolicy(0.8, \"color\", 8, 0.8, \"solarize\", 7, fillcolor),\n",
        "            SubPolicy(0.4, \"sharpness\", 7, 0.6, \"invert\", 8, fillcolor),\n",
        "            SubPolicy(0.6, \"shearX\", 5, 1.0, \"equalize\", 9, fillcolor),\n",
        "            SubPolicy(0.4, \"color\", 0, 0.6, \"equalize\", 3, fillcolor),\n",
        "\n",
        "            SubPolicy(0.4, \"equalize\", 7, 0.2, \"solarize\", 4, fillcolor),\n",
        "            SubPolicy(0.6, \"solarize\", 5, 0.6, \"autocontrast\", 5, fillcolor),\n",
        "            SubPolicy(0.6, \"invert\", 4, 1.0, \"equalize\", 8, fillcolor),\n",
        "            SubPolicy(0.6, \"color\", 4, 1.0, \"contrast\", 8, fillcolor)\n",
        "        ]\n",
        "\n",
        "    def __call__(self, img):\n",
        "        policy_idx = random.randint(0, len(self.policies) - 1)\n",
        "        return self.policies[policy_idx](img)\n",
        "\n",
        "    def __repr__(self):\n",
        "        return \"AutoAugment ImageNet Policy\"\n",
        "\n",
        "class CIFAR10Policy(object):\n",
        "    \"\"\" Randomly choose one of the best 25 Sub-policies on CIFAR10.\n",
        "\n",
        "        Example:\n",
        "        >>> policy = CIFAR10Policy()\n",
        "        >>> transformed = policy(image)\n",
        "\n",
        "        Example as a PyTorch Transform:\n",
        "        >>> transform=transforms.Compose([\n",
        "        >>>     transforms.Resize(256),\n",
        "        >>>     CIFAR10Policy(),\n",
        "        >>>     transforms.ToTensor()])\n",
        "    \"\"\"\n",
        "\n",
        "    def __init__(self, fillcolor=(128, 128, 128)):\n",
        "        self.policies = [\n",
        "            SubPolicy(0.1, \"invert\", 7, 0.2, \"contrast\", 6, fillcolor),\n",
        "            SubPolicy(0.7, \"rotate\", 2, 0.3, \"translateX\", 9, fillcolor),\n",
        "            SubPolicy(0.8, \"sharpness\", 1, 0.9, \"sharpness\", 3, fillcolor),\n",
        "            SubPolicy(0.5, \"shearY\", 8, 0.7, \"translateY\", 9, fillcolor),\n",
        "            SubPolicy(0.5, \"autocontrast\", 8, 0.9, \"equalize\", 2, fillcolor),\n",
        "\n",
        "            SubPolicy(0.2, \"shearY\", 7, 0.3, \"posterize\", 7, fillcolor),\n",
        "            SubPolicy(0.4, \"color\", 3, 0.6, \"brightness\", 7, fillcolor),\n",
        "            SubPolicy(0.3, \"sharpness\", 9, 0.7, \"brightness\", 9, fillcolor),\n",
        "            SubPolicy(0.6, \"equalize\", 5, 0.5, \"equalize\", 1, fillcolor),\n",
        "            SubPolicy(0.6, \"contrast\", 7, 0.6, \"sharpness\", 5, fillcolor),\n",
        "\n",
        "            SubPolicy(0.7, \"color\", 7, 0.5, \"translateX\", 8, fillcolor),\n",
        "            SubPolicy(0.3, \"equalize\", 7, 0.4, \"autocontrast\", 8, fillcolor),\n",
        "            SubPolicy(0.4, \"translateY\", 3, 0.2, \"sharpness\", 6, fillcolor),\n",
        "            SubPolicy(0.9, \"brightness\", 6, 0.2, \"color\", 8, fillcolor),\n",
        "            SubPolicy(0.5, \"solarize\", 2, 0.0, \"invert\", 3, fillcolor),\n",
        "\n",
        "            SubPolicy(0.2, \"equalize\", 0, 0.6, \"autocontrast\", 0, fillcolor),\n",
        "            SubPolicy(0.2, \"equalize\", 8, 0.8, \"equalize\", 4, fillcolor),\n",
        "            SubPolicy(0.9, \"color\", 9, 0.6, \"equalize\", 6, fillcolor),\n",
        "            SubPolicy(0.8, \"autocontrast\", 4, 0.2, \"solarize\", 8, fillcolor),\n",
        "            SubPolicy(0.1, \"brightness\", 3, 0.7, \"color\", 0, fillcolor),\n",
        "\n",
        "            SubPolicy(0.4, \"solarize\", 5, 0.9, \"autocontrast\", 3, fillcolor),\n",
        "            SubPolicy(0.9, \"translateY\", 9, 0.7, \"translateY\", 9, fillcolor),\n",
        "            SubPolicy(0.9, \"autocontrast\", 2, 0.8, \"solarize\", 3, fillcolor),\n",
        "            SubPolicy(0.8, \"equalize\", 8, 0.1, \"invert\", 3, fillcolor),\n",
        "            SubPolicy(0.7, \"translateY\", 9, 0.9, \"autocontrast\", 1, fillcolor)\n",
        "        ]\n",
        "\n",
        "    def __call__(self, img):\n",
        "        policy_idx = random.randint(0, len(self.policies) - 1)\n",
        "        return self.policies[policy_idx](img)\n",
        "\n",
        "    def __repr__(self):\n",
        "        return \"AutoAugment CIFAR10 Policy\"\n"
      ]
    },
    {
      "cell_type": "code",
      "source": [
        "# -----------------------------\n",
        "# CIFAR-10 Normalization\n",
        "# -----------------------------\n",
        "CIFAR10_MEAN = (0.4914, 0.4822, 0.4465)\n",
        "CIFAR10_STD  = (0.2023, 0.1994, 0.2010)"
      ],
      "metadata": {
        "id": "jZDCbvHmRSA2"
      },
      "execution_count": 3,
      "outputs": []
    },
    {
      "cell_type": "code",
      "source": [
        "def get_transforms(strong_aug=False):\n",
        "    train_list = [\n",
        "        transforms.RandomCrop(32, padding=4),\n",
        "        transforms.RandomHorizontalFlip(p=0.5),\n",
        "    ]\n",
        "    if strong_aug:\n",
        "        from torchvision.transforms import AutoAugment, AutoAugmentPolicy\n",
        "        train_list.append(AutoAugment(AutoAugmentPolicy.CIFAR10))\n",
        "\n",
        "    train_list += [\n",
        "        transforms.ToTensor(),\n",
        "        transforms.Normalize(CIFAR10_MEAN, CIFAR10_STD),\n",
        "    ]\n",
        "    if strong_aug:\n",
        "        train_list.append(transforms.RandomErasing(p=0.25, scale=(0.02,0.1), ratio=(0.3,3.3)))\n",
        "\n",
        "    train_tfms = transforms.Compose(train_list)\n",
        "    test_tfms  = transforms.Compose([\n",
        "        transforms.ToTensor(),\n",
        "        transforms.Normalize(CIFAR10_MEAN, CIFAR10_STD)\n",
        "    ])\n",
        "    return train_tfms, test_tfms\n",
        "\n",
        "def make_loaders(batch_size=128, val_ratio=0.1, strong_aug=False):\n",
        "    train_tfms, test_tfms = get_transforms(strong_aug)\n",
        "    train_full = datasets.CIFAR10(\"./data\", train=True,  transform=train_tfms, download=True)\n",
        "    test_set   = datasets.CIFAR10(\"./data\", train=False, transform=test_tfms, download=True)\n",
        "\n",
        "    val_size = int(len(train_full)*val_ratio)\n",
        "    train_size = len(train_full)-val_size\n",
        "    train_set, val_set = random_split(train_full, [train_size,val_size],\n",
        "                                      generator=torch.Generator().manual_seed(SEED))\n",
        "    train_loader = DataLoader(train_set, batch_size=batch_size, shuffle=True,  num_workers=2, pin_memory=True)\n",
        "    val_loader   = DataLoader(val_set,   batch_size=256,      shuffle=False, num_workers=2)\n",
        "    test_loader  = DataLoader(test_set,  batch_size=256,      shuffle=False, num_workers=2)\n",
        "    return train_loader, val_loader, test_loader\n"
      ],
      "metadata": {
        "id": "P6diQsWNTVUb"
      },
      "execution_count": 4,
      "outputs": []
    },
    {
      "cell_type": "code",
      "source": [
        "def get_activation(name):\n",
        "    n = name.lower()\n",
        "    if n==\"relu\": return nn.ReLU(inplace=True)\n",
        "    if n==\"silu\": return nn.SiLU(inplace=True)\n",
        "    if n==\"gelu\": return nn.GELU()\n",
        "    if n==\"tanh\": return nn.Tanh()\n",
        "    if n==\"sigmoid\": return nn.Sigmoid()\n",
        "    return nn.ReLU(inplace=True)\n",
        "\n",
        "class VGG6(nn.Module):\n",
        "    def __init__(self, num_classes=10, act=\"relu\", use_bn=True, p_drop=0.5):\n",
        "        super().__init__()\n",
        "        Act=lambda: get_activation(act)\n",
        "        def conv_block(i,o):\n",
        "            layers=[nn.Conv2d(i,o,3,padding=1)]\n",
        "            if use_bn: layers.append(nn.BatchNorm2d(o))\n",
        "            layers.append(Act())\n",
        "            return nn.Sequential(*layers)\n",
        "\n",
        "        self.features=nn.Sequential(\n",
        "            conv_block(3,64), conv_block(64,64), nn.MaxPool2d(2),\n",
        "            conv_block(64,128), conv_block(128,128), nn.MaxPool2d(2),\n",
        "            conv_block(128,256), conv_block(256,256), nn.MaxPool2d(2)\n",
        "        )\n",
        "        self.classifier=nn.Sequential(\n",
        "            nn.Flatten(),\n",
        "            nn.Linear(256*4*4,512), Act(), nn.Dropout(p_drop),\n",
        "            nn.Linear(512,num_classes)\n",
        "        )\n",
        "\n",
        "    def forward(self,x):\n",
        "        return self.classifier(self.features(x))\n"
      ],
      "metadata": {
        "id": "P039tqsDTbqK"
      },
      "execution_count": 5,
      "outputs": []
    },
    {
      "cell_type": "code",
      "source": [
        "def accuracy(logits, y):\n",
        "    return (logits.argmax(1)==y).float().mean().item()\n",
        "\n",
        "@torch.no_grad()\n",
        "def evaluate(model, loader, crit):\n",
        "    model.eval(); tot_loss=tot_acc=tot=0\n",
        "    for x,y in loader:\n",
        "        x,y=x.to(device),y.to(device)\n",
        "        out=model(x)\n",
        "        loss=crit(out,y)\n",
        "        tot_loss+=loss.item()*x.size(0)\n",
        "        tot_acc+=(out.argmax(1)==y).sum().item()\n",
        "        tot+=x.size(0)\n",
        "    return tot_loss/tot, tot_acc/tot\n"
      ],
      "metadata": {
        "id": "ji4inXdITbhh"
      },
      "execution_count": 6,
      "outputs": []
    },
    {
      "cell_type": "code",
      "source": [
        "def train_vgg6(config):\n",
        "    wandb.init(project=\"cifar10-vgg6-assignment\", config=config)\n",
        "    cfg=wandb.config\n",
        "\n",
        "    train_loader,val_loader,test_loader=make_loaders(cfg.batch_size,0.1,cfg.strong_aug)\n",
        "    model=VGG6(act=cfg.act).to(device)\n",
        "    crit=nn.CrossEntropyLoss(label_smoothing=0.1)\n",
        "    opt=optim.SGD(model.parameters(), lr=cfg.lr, momentum=0.9, weight_decay=5e-4)\n",
        "    sch=optim.lr_scheduler.CosineAnnealingLR(opt,T_max=cfg.epochs)\n",
        "\n",
        "    wandb.define_metric(\"global_step\")\n",
        "    wandb.define_metric(\"epoch\")\n",
        "    wandb.define_metric(\"train/*\", step_metric=\"global_step\")\n",
        "    wandb.define_metric(\"val/*\", step_metric=\"epoch\")\n",
        "\n",
        "    global_step=0\n",
        "    best_acc=0\n",
        "\n",
        "    for epoch in range(1,cfg.epochs+1):\n",
        "        model.train()\n",
        "        ep_loss=ep_acc=seen=0\n",
        "        for x,y in train_loader:\n",
        "            x,y=x.to(device),y.to(device)\n",
        "            opt.zero_grad(set_to_none=True)\n",
        "            out=model(x)\n",
        "            loss=crit(out,y)\n",
        "            loss.backward(); opt.step()\n",
        "            acc=accuracy(out,y)\n",
        "            ep_loss+=loss.item()*x.size(0); ep_acc+=acc*x.size(0); seen+=x.size(0)\n",
        "            global_step+=1\n",
        "            wandb.log({\"global_step\":global_step,\"train/loss\":loss.item(),\"train/acc\":acc})\n",
        "        sch.step()\n",
        "        train_loss,train_acc=ep_loss/seen,ep_acc/seen\n",
        "        val_loss,val_acc=evaluate(model,val_loader,crit)\n",
        "        test_loss,test_acc=evaluate(model,test_loader,crit)\n",
        "        wandb.log({\"epoch\":epoch,\n",
        "                   \"train/epoch_loss\":train_loss,\"train/epoch_acc\":train_acc,\n",
        "                   \"val/loss\":val_loss,\"val/acc\":val_acc,\n",
        "                   \"test/loss\":test_loss,\"test/acc\":test_acc})\n",
        "        if test_acc>best_acc: best_acc=test_acc\n",
        "        print(f\"Epoch {epoch:03d}: train_acc={train_acc*100:.2f} val_acc={val_acc*100:.2f} test_acc={test_acc*100:.2f}\")\n",
        "    wandb.summary[\"best_test_acc\"]=best_acc\n",
        "    wandb.finish()\n"
      ],
      "metadata": {
        "id": "QKZowGqpThfb"
      },
      "execution_count": 7,
      "outputs": []
    },
    {
      "cell_type": "code",
      "source": [
        "config={\n",
        "    \"act\":\"relu\",          # try: relu, silu, gelu, tanh, sigmoid\n",
        "    \"optimizer\":\"sgd\",\n",
        "    \"lr\":0.1,\n",
        "    \"batch_size\":128,\n",
        "    \"epochs\":5,           # increase to 60 for better acc\n",
        "    \"strong_aug\":False\n",
        "}\n",
        "train_vgg6(config)\n"
      ],
      "metadata": {
        "colab": {
          "base_uri": "https://localhost:8080/",
          "height": 1000
        },
        "id": "D4pD1Sb6TmPr",
        "outputId": "4a32fe73-62d4-41cb-feda-e90bd901a47d"
      },
      "execution_count": 9,
      "outputs": [
        {
          "output_type": "display_data",
          "data": {
            "text/plain": [
              "<IPython.core.display.HTML object>"
            ],
            "text/html": [
              "Finishing previous runs because reinit is set to 'default'."
            ]
          },
          "metadata": {}
        },
        {
          "output_type": "display_data",
          "data": {
            "text/plain": [
              "<IPython.core.display.HTML object>"
            ],
            "text/html": []
          },
          "metadata": {}
        },
        {
          "output_type": "display_data",
          "data": {
            "text/plain": [
              "<IPython.core.display.HTML object>"
            ],
            "text/html": [
              "<br>    <style><br>        .wandb-row {<br>            display: flex;<br>            flex-direction: row;<br>            flex-wrap: wrap;<br>            justify-content: flex-start;<br>            width: 100%;<br>        }<br>        .wandb-col {<br>            display: flex;<br>            flex-direction: column;<br>            flex-basis: 100%;<br>            flex: 1;<br>            padding: 10px;<br>        }<br>    </style><br><div class=\"wandb-row\"><div class=\"wandb-col\"><h3>Run history:</h3><br/><table class=\"wandb\"><tr><td>epoch</td><td>▁</td></tr><tr><td>global_step</td><td>▁▁▁▁▁▁▂▂▂▂▂▃▃▃▃▃▄▄▄▄▄▄▅▅▅▅▅▅▅▅▆▆▆▆▆▇▇███</td></tr><tr><td>test/acc</td><td>▁</td></tr><tr><td>test/loss</td><td>▁</td></tr><tr><td>train/acc</td><td>▁▁▁▁▁▄▂▃▄▄▃▅▃▃▂▃▆▅▄▂▇▅▅▄▄▃▇▆▅▃▄█▃▅▅▅▅▅▇▇</td></tr><tr><td>train/epoch_acc</td><td>▁</td></tr><tr><td>train/epoch_loss</td><td>▁</td></tr><tr><td>train/loss</td><td>██▇▇▇▅▇▅▆▅▆▅▄▆▄▅▄▅▄▂▃▃▂▃▁▁▃▁▅▁▂▂▃▂▃▁▃▂▁▃</td></tr><tr><td>val/acc</td><td>▁</td></tr><tr><td>val/loss</td><td>▁</td></tr></table><br/></div><div class=\"wandb-col\"><h3>Run summary:</h3><br/><table class=\"wandb\"><tr><td>epoch</td><td>1</td></tr><tr><td>global_step</td><td>523</td></tr><tr><td>test/acc</td><td>0.2129</td></tr><tr><td>test/loss</td><td>2.0386</td></tr><tr><td>train/acc</td><td>0.30469</td></tr><tr><td>train/epoch_acc</td><td>0.16653</td></tr><tr><td>train/epoch_loss</td><td>2.19586</td></tr><tr><td>train/loss</td><td>2.06074</td></tr><tr><td>val/acc</td><td>0.2076</td></tr><tr><td>val/loss</td><td>2.04809</td></tr></table><br/></div></div>"
            ]
          },
          "metadata": {}
        },
        {
          "output_type": "display_data",
          "data": {
            "text/plain": [
              "<IPython.core.display.HTML object>"
            ],
            "text/html": [
              " View run <strong style=\"color:#cdcd00\">woven-snow-5</strong> at: <a href='https://wandb.ai/ee23m505-iitmaana/cifar10-vgg6-assignment/runs/di68l29y' target=\"_blank\">https://wandb.ai/ee23m505-iitmaana/cifar10-vgg6-assignment/runs/di68l29y</a><br> View project at: <a href='https://wandb.ai/ee23m505-iitmaana/cifar10-vgg6-assignment' target=\"_blank\">https://wandb.ai/ee23m505-iitmaana/cifar10-vgg6-assignment</a><br>Synced 5 W&B file(s), 0 media file(s), 0 artifact file(s) and 0 other file(s)"
            ]
          },
          "metadata": {}
        },
        {
          "output_type": "display_data",
          "data": {
            "text/plain": [
              "<IPython.core.display.HTML object>"
            ],
            "text/html": [
              "Find logs at: <code>./wandb/run-20251026_161901-di68l29y/logs</code>"
            ]
          },
          "metadata": {}
        },
        {
          "output_type": "display_data",
          "data": {
            "text/plain": [
              "<IPython.core.display.HTML object>"
            ],
            "text/html": []
          },
          "metadata": {}
        },
        {
          "output_type": "display_data",
          "data": {
            "text/plain": [
              "<IPython.core.display.HTML object>"
            ],
            "text/html": [
              "Tracking run with wandb version 0.22.2"
            ]
          },
          "metadata": {}
        },
        {
          "output_type": "display_data",
          "data": {
            "text/plain": [
              "<IPython.core.display.HTML object>"
            ],
            "text/html": [
              "Run data is saved locally in <code>/content/wandb/run-20251026_162027-v5xhetno</code>"
            ]
          },
          "metadata": {}
        },
        {
          "output_type": "display_data",
          "data": {
            "text/plain": [
              "<IPython.core.display.HTML object>"
            ],
            "text/html": [
              "Syncing run <strong><a href='https://wandb.ai/ee23m505-iitmaana/cifar10-vgg6-assignment/runs/v5xhetno' target=\"_blank\">earnest-lake-6</a></strong> to <a href='https://wandb.ai/ee23m505-iitmaana/cifar10-vgg6-assignment' target=\"_blank\">Weights & Biases</a> (<a href='https://wandb.me/developer-guide' target=\"_blank\">docs</a>)<br>"
            ]
          },
          "metadata": {}
        },
        {
          "output_type": "display_data",
          "data": {
            "text/plain": [
              "<IPython.core.display.HTML object>"
            ],
            "text/html": [
              " View project at <a href='https://wandb.ai/ee23m505-iitmaana/cifar10-vgg6-assignment' target=\"_blank\">https://wandb.ai/ee23m505-iitmaana/cifar10-vgg6-assignment</a>"
            ]
          },
          "metadata": {}
        },
        {
          "output_type": "display_data",
          "data": {
            "text/plain": [
              "<IPython.core.display.HTML object>"
            ],
            "text/html": [
              " View run at <a href='https://wandb.ai/ee23m505-iitmaana/cifar10-vgg6-assignment/runs/v5xhetno' target=\"_blank\">https://wandb.ai/ee23m505-iitmaana/cifar10-vgg6-assignment/runs/v5xhetno</a>"
            ]
          },
          "metadata": {}
        },
        {
          "output_type": "stream",
          "name": "stdout",
          "text": [
            "Epoch 001: train_acc=17.08 val_acc=24.24 test_acc=25.44\n",
            "Epoch 002: train_acc=30.03 val_acc=37.50 test_acc=39.26\n",
            "Epoch 003: train_acc=45.56 val_acc=41.76 test_acc=43.85\n",
            "Epoch 004: train_acc=57.98 val_acc=60.28 test_acc=61.15\n",
            "Epoch 005: train_acc=66.16 val_acc=68.38 test_acc=68.97\n"
          ]
        },
        {
          "output_type": "display_data",
          "data": {
            "text/plain": [
              "<IPython.core.display.HTML object>"
            ],
            "text/html": []
          },
          "metadata": {}
        },
        {
          "output_type": "display_data",
          "data": {
            "text/plain": [
              "<IPython.core.display.HTML object>"
            ],
            "text/html": [
              "<br>    <style><br>        .wandb-row {<br>            display: flex;<br>            flex-direction: row;<br>            flex-wrap: wrap;<br>            justify-content: flex-start;<br>            width: 100%;<br>        }<br>        .wandb-col {<br>            display: flex;<br>            flex-direction: column;<br>            flex-basis: 100%;<br>            flex: 1;<br>            padding: 10px;<br>        }<br>    </style><br><div class=\"wandb-row\"><div class=\"wandb-col\"><h3>Run history:</h3><br/><table class=\"wandb\"><tr><td>epoch</td><td>▁▃▅▆█</td></tr><tr><td>global_step</td><td>▁▁▁▂▂▂▂▂▃▃▃▃▄▄▄▄▄▄▅▅▅▅▆▆▆▆▆▆▆▇▇▇▇▇▇█████</td></tr><tr><td>test/acc</td><td>▁▃▄▇█</td></tr><tr><td>test/loss</td><td>█▆▆▂▁</td></tr><tr><td>train/acc</td><td>▁▁▁▁▁▂▂▂▂▂▂▃▃▃▃▃▃▃▄▄▄▅▄▅▄▆▄▅▇▇▆█▇▇▇▇▇▇█▆</td></tr><tr><td>train/epoch_acc</td><td>▁▃▅▇█</td></tr><tr><td>train/epoch_loss</td><td>█▆▄▂▁</td></tr><tr><td>train/loss</td><td>█▄▄▄▄▄▄▄▃▃▄▄▃▃▃▃▃▃▃▃▃▂▂▂▂▂▂▂▂▁▁▁▁▁▁▁▁▁▁▁</td></tr><tr><td>val/acc</td><td>▁▃▄▇█</td></tr><tr><td>val/loss</td><td>█▆▆▃▁</td></tr></table><br/></div><div class=\"wandb-col\"><h3>Run summary:</h3><br/><table class=\"wandb\"><tr><td>best_test_acc</td><td>0.6897</td></tr><tr><td>epoch</td><td>5</td></tr><tr><td>global_step</td><td>1760</td></tr><tr><td>test/acc</td><td>0.6897</td></tr><tr><td>test/loss</td><td>1.20129</td></tr><tr><td>train/acc</td><td>0.61111</td></tr><tr><td>train/epoch_acc</td><td>0.66156</td></tr><tr><td>train/epoch_loss</td><td>1.30194</td></tr><tr><td>train/loss</td><td>1.28831</td></tr><tr><td>val/acc</td><td>0.6838</td></tr><tr><td>+1</td><td>...</td></tr></table><br/></div></div>"
            ]
          },
          "metadata": {}
        },
        {
          "output_type": "display_data",
          "data": {
            "text/plain": [
              "<IPython.core.display.HTML object>"
            ],
            "text/html": [
              " View run <strong style=\"color:#cdcd00\">earnest-lake-6</strong> at: <a href='https://wandb.ai/ee23m505-iitmaana/cifar10-vgg6-assignment/runs/v5xhetno' target=\"_blank\">https://wandb.ai/ee23m505-iitmaana/cifar10-vgg6-assignment/runs/v5xhetno</a><br> View project at: <a href='https://wandb.ai/ee23m505-iitmaana/cifar10-vgg6-assignment' target=\"_blank\">https://wandb.ai/ee23m505-iitmaana/cifar10-vgg6-assignment</a><br>Synced 5 W&B file(s), 0 media file(s), 0 artifact file(s) and 0 other file(s)"
            ]
          },
          "metadata": {}
        },
        {
          "output_type": "display_data",
          "data": {
            "text/plain": [
              "<IPython.core.display.HTML object>"
            ],
            "text/html": [
              "Find logs at: <code>./wandb/run-20251026_162027-v5xhetno/logs</code>"
            ]
          },
          "metadata": {}
        }
      ]
    },
    {
      "cell_type": "code",
      "source": [
        "import wandb\n",
        "\n",
        "# Wrapper so W&B can call your trainer without args\n",
        "def sweep_train_vgg6():\n",
        "    with wandb.init(project=\"cifar10-vgg6-assignment\") as run:\n",
        "        cfg = dict(wandb.config)\n",
        "        # hand off to your existing trainer that expects a dict-like config\n",
        "        train_vgg6(cfg)\n",
        "\n",
        "# Safer ranges: work across SGD-like & Adam-like optimizers\n",
        "sweep_config = {\n",
        "    \"method\": \"random\",  # or \"bayes\" / \"grid\"\n",
        "    \"metric\": {\"name\": \"val/acc\", \"goal\": \"maximize\"},\n",
        "    \"parameters\": {\n",
        "        # 10 activations\n",
        "        \"act\": {\n",
        "            \"values\": [\n",
        "                \"relu\", \"silu\", \"gelu\", \"tanh\", \"sigmoid\",\n",
        "                \"leakyrelu\", \"elu\", \"selu\", \"softplus\", \"hardtanh\"\n",
        "            ]\n",
        "        },\n",
        "        # 10 optimizers\n",
        "        \"optimizer\": {\n",
        "            \"values\": [\n",
        "                \"sgd\", \"nesterov-sgd\", \"adam\", \"adamw\", \"nadam\",\n",
        "                \"rmsprop\", \"adagrad\", \"adamax\", \"asgd\", \"lbfgs\"\n",
        "            ]\n",
        "        },\n",
        "        \"lr\": {\"values\": [0.1, 0.05, 0.01, 0.005, 0.001]},\n",
        "        \"batch_size\": {\"values\": [64, 128, 256, 512]},\n",
        "        \"epochs\": {\"values\": [10, 20, 40, 60]},\n",
        "        \"strong_aug\": {\"values\": [False]}\n",
        "    }\n",
        "}\n",
        "\n",
        "sweep_id = wandb.sweep(sweep_config, project=\"cifar10-vgg6-assignment\")\n",
        "print(\"Sweep ID:\", sweep_id)\n",
        "\n",
        "# Launch N trials (each will call sweep_train_vgg6 -> train_vgg6(config))\n",
        "wandb.agent(sweep_id, function=sweep_train_vgg6, count=6)\n"
      ],
      "metadata": {
        "colab": {
          "base_uri": "https://localhost:8080/",
          "height": 1000
        },
        "id": "o7vgM_BwcyIV",
        "outputId": "99ecc7e2-d21b-4d5b-94b8-214f5cc59efd"
      },
      "execution_count": 10,
      "outputs": [
        {
          "output_type": "stream",
          "name": "stdout",
          "text": [
            "Create sweep with ID: g9ou8anb\n",
            "Sweep URL: https://wandb.ai/ee23m505-iitmaana/cifar10-vgg6-assignment/sweeps/g9ou8anb\n",
            "Sweep ID: g9ou8anb\n"
          ]
        },
        {
          "output_type": "stream",
          "name": "stderr",
          "text": [
            "\u001b[34m\u001b[1mwandb\u001b[0m: Agent Starting Run: 35fhivby with config:\n",
            "\u001b[34m\u001b[1mwandb\u001b[0m: \tact: silu\n",
            "\u001b[34m\u001b[1mwandb\u001b[0m: \tbatch_size: 256\n",
            "\u001b[34m\u001b[1mwandb\u001b[0m: \tepochs: 10\n",
            "\u001b[34m\u001b[1mwandb\u001b[0m: \tlr: 0.001\n",
            "\u001b[34m\u001b[1mwandb\u001b[0m: \toptimizer: nadam\n",
            "\u001b[34m\u001b[1mwandb\u001b[0m: \tstrong_aug: False\n"
          ]
        },
        {
          "output_type": "display_data",
          "data": {
            "text/plain": [
              "<IPython.core.display.HTML object>"
            ],
            "text/html": [
              "Ignoring project 'cifar10-vgg6-assignment' when running a sweep."
            ]
          },
          "metadata": {}
        },
        {
          "output_type": "display_data",
          "data": {
            "text/plain": [
              "<IPython.core.display.HTML object>"
            ],
            "text/html": []
          },
          "metadata": {}
        },
        {
          "output_type": "display_data",
          "data": {
            "text/plain": [
              "<IPython.core.display.HTML object>"
            ],
            "text/html": [
              "Tracking run with wandb version 0.22.2"
            ]
          },
          "metadata": {}
        },
        {
          "output_type": "display_data",
          "data": {
            "text/plain": [
              "<IPython.core.display.HTML object>"
            ],
            "text/html": [
              "Run data is saved locally in <code>/content/wandb/run-20251026_162132-35fhivby</code>"
            ]
          },
          "metadata": {}
        },
        {
          "output_type": "display_data",
          "data": {
            "text/plain": [
              "<IPython.core.display.HTML object>"
            ],
            "text/html": [
              "Syncing run <strong><a href='https://wandb.ai/ee23m505-iitmaana/cifar10-vgg6-assignment/runs/35fhivby' target=\"_blank\">brisk-sweep-1</a></strong> to <a href='https://wandb.ai/ee23m505-iitmaana/cifar10-vgg6-assignment' target=\"_blank\">Weights & Biases</a> (<a href='https://wandb.me/developer-guide' target=\"_blank\">docs</a>)<br>Sweep page: <a href='https://wandb.ai/ee23m505-iitmaana/cifar10-vgg6-assignment/sweeps/g9ou8anb' target=\"_blank\">https://wandb.ai/ee23m505-iitmaana/cifar10-vgg6-assignment/sweeps/g9ou8anb</a>"
            ]
          },
          "metadata": {}
        },
        {
          "output_type": "display_data",
          "data": {
            "text/plain": [
              "<IPython.core.display.HTML object>"
            ],
            "text/html": [
              " View project at <a href='https://wandb.ai/ee23m505-iitmaana/cifar10-vgg6-assignment' target=\"_blank\">https://wandb.ai/ee23m505-iitmaana/cifar10-vgg6-assignment</a>"
            ]
          },
          "metadata": {}
        },
        {
          "output_type": "display_data",
          "data": {
            "text/plain": [
              "<IPython.core.display.HTML object>"
            ],
            "text/html": [
              " View sweep at <a href='https://wandb.ai/ee23m505-iitmaana/cifar10-vgg6-assignment/sweeps/g9ou8anb' target=\"_blank\">https://wandb.ai/ee23m505-iitmaana/cifar10-vgg6-assignment/sweeps/g9ou8anb</a>"
            ]
          },
          "metadata": {}
        },
        {
          "output_type": "display_data",
          "data": {
            "text/plain": [
              "<IPython.core.display.HTML object>"
            ],
            "text/html": [
              " View run at <a href='https://wandb.ai/ee23m505-iitmaana/cifar10-vgg6-assignment/runs/35fhivby' target=\"_blank\">https://wandb.ai/ee23m505-iitmaana/cifar10-vgg6-assignment/runs/35fhivby</a>"
            ]
          },
          "metadata": {}
        },
        {
          "output_type": "display_data",
          "data": {
            "text/plain": [
              "<IPython.core.display.HTML object>"
            ],
            "text/html": [
              "Ignoring project 'cifar10-vgg6-assignment' when running a sweep."
            ]
          },
          "metadata": {}
        },
        {
          "output_type": "display_data",
          "data": {
            "text/plain": [
              "<IPython.core.display.HTML object>"
            ],
            "text/html": [
              "Finishing previous runs because reinit is set to 'default'."
            ]
          },
          "metadata": {}
        },
        {
          "output_type": "display_data",
          "data": {
            "text/plain": [
              "<IPython.core.display.HTML object>"
            ],
            "text/html": []
          },
          "metadata": {}
        },
        {
          "output_type": "display_data",
          "data": {
            "text/plain": [
              "<IPython.core.display.HTML object>"
            ],
            "text/html": [
              " View run <strong style=\"color:#cdcd00\">brisk-sweep-1</strong> at: <a href='https://wandb.ai/ee23m505-iitmaana/cifar10-vgg6-assignment/runs/35fhivby' target=\"_blank\">https://wandb.ai/ee23m505-iitmaana/cifar10-vgg6-assignment/runs/35fhivby</a><br> View project at: <a href='https://wandb.ai/ee23m505-iitmaana/cifar10-vgg6-assignment' target=\"_blank\">https://wandb.ai/ee23m505-iitmaana/cifar10-vgg6-assignment</a><br>Synced 5 W&B file(s), 0 media file(s), 0 artifact file(s) and 0 other file(s)"
            ]
          },
          "metadata": {}
        },
        {
          "output_type": "display_data",
          "data": {
            "text/plain": [
              "<IPython.core.display.HTML object>"
            ],
            "text/html": [
              "Find logs at: <code>./wandb/run-20251026_162132-35fhivby/logs</code>"
            ]
          },
          "metadata": {}
        },
        {
          "output_type": "display_data",
          "data": {
            "text/plain": [
              "<IPython.core.display.HTML object>"
            ],
            "text/html": []
          },
          "metadata": {}
        },
        {
          "output_type": "display_data",
          "data": {
            "text/plain": [
              "<IPython.core.display.HTML object>"
            ],
            "text/html": [
              "Tracking run with wandb version 0.22.2"
            ]
          },
          "metadata": {}
        },
        {
          "output_type": "display_data",
          "data": {
            "text/plain": [
              "<IPython.core.display.HTML object>"
            ],
            "text/html": [
              "Run data is saved locally in <code>/content/wandb/run-20251026_162134-35fhivby</code>"
            ]
          },
          "metadata": {}
        },
        {
          "output_type": "display_data",
          "data": {
            "text/plain": [
              "<IPython.core.display.HTML object>"
            ],
            "text/html": [
              "Syncing run <strong><a href='https://wandb.ai/ee23m505-iitmaana/cifar10-vgg6-assignment/runs/35fhivby' target=\"_blank\">brisk-sweep-1</a></strong> to <a href='https://wandb.ai/ee23m505-iitmaana/cifar10-vgg6-assignment' target=\"_blank\">Weights & Biases</a> (<a href='https://wandb.me/developer-guide' target=\"_blank\">docs</a>)<br>Sweep page: <a href='https://wandb.ai/ee23m505-iitmaana/cifar10-vgg6-assignment/sweeps/g9ou8anb' target=\"_blank\">https://wandb.ai/ee23m505-iitmaana/cifar10-vgg6-assignment/sweeps/g9ou8anb</a>"
            ]
          },
          "metadata": {}
        },
        {
          "output_type": "display_data",
          "data": {
            "text/plain": [
              "<IPython.core.display.HTML object>"
            ],
            "text/html": [
              " View project at <a href='https://wandb.ai/ee23m505-iitmaana/cifar10-vgg6-assignment' target=\"_blank\">https://wandb.ai/ee23m505-iitmaana/cifar10-vgg6-assignment</a>"
            ]
          },
          "metadata": {}
        },
        {
          "output_type": "display_data",
          "data": {
            "text/plain": [
              "<IPython.core.display.HTML object>"
            ],
            "text/html": [
              " View sweep at <a href='https://wandb.ai/ee23m505-iitmaana/cifar10-vgg6-assignment/sweeps/g9ou8anb' target=\"_blank\">https://wandb.ai/ee23m505-iitmaana/cifar10-vgg6-assignment/sweeps/g9ou8anb</a>"
            ]
          },
          "metadata": {}
        },
        {
          "output_type": "display_data",
          "data": {
            "text/plain": [
              "<IPython.core.display.HTML object>"
            ],
            "text/html": [
              " View run at <a href='https://wandb.ai/ee23m505-iitmaana/cifar10-vgg6-assignment/runs/35fhivby' target=\"_blank\">https://wandb.ai/ee23m505-iitmaana/cifar10-vgg6-assignment/runs/35fhivby</a>"
            ]
          },
          "metadata": {}
        },
        {
          "output_type": "stream",
          "name": "stdout",
          "text": [
            "Epoch 001: train_acc=31.70 val_acc=43.18 test_acc=45.14\n",
            "Epoch 002: train_acc=46.23 val_acc=51.46 test_acc=54.04\n",
            "Epoch 003: train_acc=53.19 val_acc=57.02 test_acc=58.40\n",
            "Epoch 004: train_acc=58.20 val_acc=61.64 test_acc=63.08\n",
            "Epoch 005: train_acc=61.17 val_acc=63.40 test_acc=65.49\n",
            "Epoch 006: train_acc=63.54 val_acc=65.38 test_acc=67.23\n",
            "Epoch 007: train_acc=64.90 val_acc=65.58 test_acc=68.32\n",
            "Epoch 008: train_acc=65.89 val_acc=66.50 test_acc=69.00\n",
            "Epoch 009: train_acc=66.40 val_acc=67.14 test_acc=68.92\n",
            "Epoch 010: train_acc=66.81 val_acc=67.72 test_acc=69.51\n"
          ]
        },
        {
          "output_type": "display_data",
          "data": {
            "text/plain": [
              "<IPython.core.display.HTML object>"
            ],
            "text/html": []
          },
          "metadata": {}
        },
        {
          "output_type": "display_data",
          "data": {
            "text/plain": [
              "<IPython.core.display.HTML object>"
            ],
            "text/html": [
              "<br>    <style><br>        .wandb-row {<br>            display: flex;<br>            flex-direction: row;<br>            flex-wrap: wrap;<br>            justify-content: flex-start;<br>            width: 100%;<br>        }<br>        .wandb-col {<br>            display: flex;<br>            flex-direction: column;<br>            flex-basis: 100%;<br>            flex: 1;<br>            padding: 10px;<br>        }<br>    </style><br><div class=\"wandb-row\"><div class=\"wandb-col\"><h3>Run history:</h3><br/><table class=\"wandb\"><tr><td>epoch</td><td>▁▂▃▃▄▅▆▆▇█</td></tr><tr><td>global_step</td><td>▁▁▁▁▁▂▂▂▂▂▃▃▃▃▃▃▃▃▄▄▄▄▄▅▅▅▆▆▆▆▆▆▇▇▇▇▇▇██</td></tr><tr><td>test/acc</td><td>▁▄▅▆▇▇████</td></tr><tr><td>test/loss</td><td>█▆▄▃▂▂▁▁▁▁</td></tr><tr><td>train/acc</td><td>▁▁▂▂▂▃▄▄▄▅▄▅▅▅▆▅▆▆▆▇▇▆▆▆▇▇▆▇▇▇▇▇█▇▇▇▇█▇▇</td></tr><tr><td>train/epoch_acc</td><td>▁▄▅▆▇▇████</td></tr><tr><td>train/epoch_loss</td><td>█▅▄▃▂▂▁▁▁▁</td></tr><tr><td>train/loss</td><td>█▇▆▆▆▅▅▅▄▅▄▄▃▃▄▃▂▃▃▃▂▂▂▂▃▂▂▃▁▂▂▂▁▂▂▂▃▂▂▂</td></tr><tr><td>val/acc</td><td>▁▃▅▆▇▇▇███</td></tr><tr><td>val/loss</td><td>█▆▄▃▂▂▂▁▁▁</td></tr></table><br/></div><div class=\"wandb-col\"><h3>Run summary:</h3><br/><table class=\"wandb\"><tr><td>best_test_acc</td><td>0.6951</td></tr><tr><td>epoch</td><td>10</td></tr><tr><td>global_step</td><td>1760</td></tr><tr><td>test/acc</td><td>0.6951</td></tr><tr><td>test/loss</td><td>1.21114</td></tr><tr><td>train/acc</td><td>0.66</td></tr><tr><td>train/epoch_acc</td><td>0.66807</td></tr><tr><td>train/epoch_loss</td><td>1.26796</td></tr><tr><td>train/loss</td><td>1.2902</td></tr><tr><td>val/acc</td><td>0.6772</td></tr><tr><td>+1</td><td>...</td></tr></table><br/></div></div>"
            ]
          },
          "metadata": {}
        },
        {
          "output_type": "display_data",
          "data": {
            "text/plain": [
              "<IPython.core.display.HTML object>"
            ],
            "text/html": [
              " View run <strong style=\"color:#cdcd00\">brisk-sweep-1</strong> at: <a href='https://wandb.ai/ee23m505-iitmaana/cifar10-vgg6-assignment/runs/35fhivby' target=\"_blank\">https://wandb.ai/ee23m505-iitmaana/cifar10-vgg6-assignment/runs/35fhivby</a><br> View project at: <a href='https://wandb.ai/ee23m505-iitmaana/cifar10-vgg6-assignment' target=\"_blank\">https://wandb.ai/ee23m505-iitmaana/cifar10-vgg6-assignment</a><br>Synced 5 W&B file(s), 0 media file(s), 0 artifact file(s) and 0 other file(s)"
            ]
          },
          "metadata": {}
        },
        {
          "output_type": "display_data",
          "data": {
            "text/plain": [
              "<IPython.core.display.HTML object>"
            ],
            "text/html": [
              "Find logs at: <code>./wandb/run-20251026_162134-35fhivby/logs</code>"
            ]
          },
          "metadata": {}
        },
        {
          "output_type": "stream",
          "name": "stderr",
          "text": [
            "\u001b[34m\u001b[1mwandb\u001b[0m: Agent Starting Run: 96eenjrd with config:\n",
            "\u001b[34m\u001b[1mwandb\u001b[0m: \tact: softplus\n",
            "\u001b[34m\u001b[1mwandb\u001b[0m: \tbatch_size: 128\n",
            "\u001b[34m\u001b[1mwandb\u001b[0m: \tepochs: 20\n",
            "\u001b[34m\u001b[1mwandb\u001b[0m: \tlr: 0.1\n",
            "\u001b[34m\u001b[1mwandb\u001b[0m: \toptimizer: adagrad\n",
            "\u001b[34m\u001b[1mwandb\u001b[0m: \tstrong_aug: False\n"
          ]
        },
        {
          "output_type": "display_data",
          "data": {
            "text/plain": [
              "<IPython.core.display.HTML object>"
            ],
            "text/html": [
              "Ignoring project 'cifar10-vgg6-assignment' when running a sweep."
            ]
          },
          "metadata": {}
        },
        {
          "output_type": "display_data",
          "data": {
            "text/plain": [
              "<IPython.core.display.HTML object>"
            ],
            "text/html": []
          },
          "metadata": {}
        },
        {
          "output_type": "display_data",
          "data": {
            "text/plain": [
              "<IPython.core.display.HTML object>"
            ],
            "text/html": [
              "Tracking run with wandb version 0.22.2"
            ]
          },
          "metadata": {}
        },
        {
          "output_type": "display_data",
          "data": {
            "text/plain": [
              "<IPython.core.display.HTML object>"
            ],
            "text/html": [
              "Run data is saved locally in <code>/content/wandb/run-20251026_162333-96eenjrd</code>"
            ]
          },
          "metadata": {}
        },
        {
          "output_type": "display_data",
          "data": {
            "text/plain": [
              "<IPython.core.display.HTML object>"
            ],
            "text/html": [
              "Syncing run <strong><a href='https://wandb.ai/ee23m505-iitmaana/cifar10-vgg6-assignment/runs/96eenjrd' target=\"_blank\">true-sweep-2</a></strong> to <a href='https://wandb.ai/ee23m505-iitmaana/cifar10-vgg6-assignment' target=\"_blank\">Weights & Biases</a> (<a href='https://wandb.me/developer-guide' target=\"_blank\">docs</a>)<br>Sweep page: <a href='https://wandb.ai/ee23m505-iitmaana/cifar10-vgg6-assignment/sweeps/g9ou8anb' target=\"_blank\">https://wandb.ai/ee23m505-iitmaana/cifar10-vgg6-assignment/sweeps/g9ou8anb</a>"
            ]
          },
          "metadata": {}
        },
        {
          "output_type": "display_data",
          "data": {
            "text/plain": [
              "<IPython.core.display.HTML object>"
            ],
            "text/html": [
              " View project at <a href='https://wandb.ai/ee23m505-iitmaana/cifar10-vgg6-assignment' target=\"_blank\">https://wandb.ai/ee23m505-iitmaana/cifar10-vgg6-assignment</a>"
            ]
          },
          "metadata": {}
        },
        {
          "output_type": "display_data",
          "data": {
            "text/plain": [
              "<IPython.core.display.HTML object>"
            ],
            "text/html": [
              " View sweep at <a href='https://wandb.ai/ee23m505-iitmaana/cifar10-vgg6-assignment/sweeps/g9ou8anb' target=\"_blank\">https://wandb.ai/ee23m505-iitmaana/cifar10-vgg6-assignment/sweeps/g9ou8anb</a>"
            ]
          },
          "metadata": {}
        },
        {
          "output_type": "display_data",
          "data": {
            "text/plain": [
              "<IPython.core.display.HTML object>"
            ],
            "text/html": [
              " View run at <a href='https://wandb.ai/ee23m505-iitmaana/cifar10-vgg6-assignment/runs/96eenjrd' target=\"_blank\">https://wandb.ai/ee23m505-iitmaana/cifar10-vgg6-assignment/runs/96eenjrd</a>"
            ]
          },
          "metadata": {}
        },
        {
          "output_type": "display_data",
          "data": {
            "text/plain": [
              "<IPython.core.display.HTML object>"
            ],
            "text/html": [
              "Ignoring project 'cifar10-vgg6-assignment' when running a sweep."
            ]
          },
          "metadata": {}
        },
        {
          "output_type": "display_data",
          "data": {
            "text/plain": [
              "<IPython.core.display.HTML object>"
            ],
            "text/html": [
              "Finishing previous runs because reinit is set to 'default'."
            ]
          },
          "metadata": {}
        },
        {
          "output_type": "display_data",
          "data": {
            "text/plain": [
              "<IPython.core.display.HTML object>"
            ],
            "text/html": []
          },
          "metadata": {}
        },
        {
          "output_type": "display_data",
          "data": {
            "text/plain": [
              "<IPython.core.display.HTML object>"
            ],
            "text/html": [
              " View run <strong style=\"color:#cdcd00\">true-sweep-2</strong> at: <a href='https://wandb.ai/ee23m505-iitmaana/cifar10-vgg6-assignment/runs/96eenjrd' target=\"_blank\">https://wandb.ai/ee23m505-iitmaana/cifar10-vgg6-assignment/runs/96eenjrd</a><br> View project at: <a href='https://wandb.ai/ee23m505-iitmaana/cifar10-vgg6-assignment' target=\"_blank\">https://wandb.ai/ee23m505-iitmaana/cifar10-vgg6-assignment</a><br>Synced 5 W&B file(s), 0 media file(s), 0 artifact file(s) and 0 other file(s)"
            ]
          },
          "metadata": {}
        },
        {
          "output_type": "display_data",
          "data": {
            "text/plain": [
              "<IPython.core.display.HTML object>"
            ],
            "text/html": [
              "Find logs at: <code>./wandb/run-20251026_162333-96eenjrd/logs</code>"
            ]
          },
          "metadata": {}
        },
        {
          "output_type": "display_data",
          "data": {
            "text/plain": [
              "<IPython.core.display.HTML object>"
            ],
            "text/html": []
          },
          "metadata": {}
        },
        {
          "output_type": "display_data",
          "data": {
            "text/plain": [
              "<IPython.core.display.HTML object>"
            ],
            "text/html": [
              "Tracking run with wandb version 0.22.2"
            ]
          },
          "metadata": {}
        },
        {
          "output_type": "display_data",
          "data": {
            "text/plain": [
              "<IPython.core.display.HTML object>"
            ],
            "text/html": [
              "Run data is saved locally in <code>/content/wandb/run-20251026_162334-96eenjrd</code>"
            ]
          },
          "metadata": {}
        },
        {
          "output_type": "display_data",
          "data": {
            "text/plain": [
              "<IPython.core.display.HTML object>"
            ],
            "text/html": [
              "Syncing run <strong><a href='https://wandb.ai/ee23m505-iitmaana/cifar10-vgg6-assignment/runs/96eenjrd' target=\"_blank\">true-sweep-2</a></strong> to <a href='https://wandb.ai/ee23m505-iitmaana/cifar10-vgg6-assignment' target=\"_blank\">Weights & Biases</a> (<a href='https://wandb.me/developer-guide' target=\"_blank\">docs</a>)<br>Sweep page: <a href='https://wandb.ai/ee23m505-iitmaana/cifar10-vgg6-assignment/sweeps/g9ou8anb' target=\"_blank\">https://wandb.ai/ee23m505-iitmaana/cifar10-vgg6-assignment/sweeps/g9ou8anb</a>"
            ]
          },
          "metadata": {}
        },
        {
          "output_type": "display_data",
          "data": {
            "text/plain": [
              "<IPython.core.display.HTML object>"
            ],
            "text/html": [
              " View project at <a href='https://wandb.ai/ee23m505-iitmaana/cifar10-vgg6-assignment' target=\"_blank\">https://wandb.ai/ee23m505-iitmaana/cifar10-vgg6-assignment</a>"
            ]
          },
          "metadata": {}
        },
        {
          "output_type": "display_data",
          "data": {
            "text/plain": [
              "<IPython.core.display.HTML object>"
            ],
            "text/html": [
              " View sweep at <a href='https://wandb.ai/ee23m505-iitmaana/cifar10-vgg6-assignment/sweeps/g9ou8anb' target=\"_blank\">https://wandb.ai/ee23m505-iitmaana/cifar10-vgg6-assignment/sweeps/g9ou8anb</a>"
            ]
          },
          "metadata": {}
        },
        {
          "output_type": "display_data",
          "data": {
            "text/plain": [
              "<IPython.core.display.HTML object>"
            ],
            "text/html": [
              " View run at <a href='https://wandb.ai/ee23m505-iitmaana/cifar10-vgg6-assignment/runs/96eenjrd' target=\"_blank\">https://wandb.ai/ee23m505-iitmaana/cifar10-vgg6-assignment/runs/96eenjrd</a>"
            ]
          },
          "metadata": {}
        },
        {
          "output_type": "stream",
          "name": "stdout",
          "text": [
            "Epoch 001: train_acc=13.80 val_acc=15.92 test_acc=15.89\n",
            "Epoch 002: train_acc=19.16 val_acc=28.72 test_acc=30.43\n",
            "Epoch 003: train_acc=35.29 val_acc=48.74 test_acc=50.12\n",
            "Epoch 004: train_acc=52.12 val_acc=54.66 test_acc=54.72\n",
            "Epoch 005: train_acc=62.49 val_acc=63.08 test_acc=63.54\n",
            "Epoch 006: train_acc=69.48 val_acc=58.98 test_acc=57.59\n",
            "Epoch 007: train_acc=74.38 val_acc=70.08 test_acc=70.75\n",
            "Epoch 008: train_acc=77.48 val_acc=74.72 test_acc=74.78\n",
            "Epoch 009: train_acc=79.46 val_acc=75.70 test_acc=76.88\n",
            "Epoch 010: train_acc=81.46 val_acc=78.28 test_acc=78.51\n",
            "Epoch 011: train_acc=83.43 val_acc=80.26 test_acc=82.36\n",
            "Epoch 012: train_acc=85.18 val_acc=80.82 test_acc=81.51\n",
            "Epoch 013: train_acc=86.64 val_acc=83.20 test_acc=83.90\n",
            "Epoch 014: train_acc=88.06 val_acc=85.78 test_acc=86.16\n",
            "Epoch 015: train_acc=89.61 val_acc=85.78 test_acc=86.57\n",
            "Epoch 016: train_acc=91.05 val_acc=87.14 test_acc=87.57\n",
            "Epoch 017: train_acc=92.27 val_acc=88.34 test_acc=89.44\n",
            "Epoch 018: train_acc=93.38 val_acc=88.70 test_acc=89.55\n",
            "Epoch 019: train_acc=94.21 val_acc=90.08 test_acc=90.56\n",
            "Epoch 020: train_acc=94.45 val_acc=90.30 test_acc=90.58\n"
          ]
        },
        {
          "output_type": "display_data",
          "data": {
            "text/plain": [
              "<IPython.core.display.HTML object>"
            ],
            "text/html": []
          },
          "metadata": {}
        },
        {
          "output_type": "display_data",
          "data": {
            "text/plain": [
              "<IPython.core.display.HTML object>"
            ],
            "text/html": [
              "<br>    <style><br>        .wandb-row {<br>            display: flex;<br>            flex-direction: row;<br>            flex-wrap: wrap;<br>            justify-content: flex-start;<br>            width: 100%;<br>        }<br>        .wandb-col {<br>            display: flex;<br>            flex-direction: column;<br>            flex-basis: 100%;<br>            flex: 1;<br>            padding: 10px;<br>        }<br>    </style><br><div class=\"wandb-row\"><div class=\"wandb-col\"><h3>Run history:</h3><br/><table class=\"wandb\"><tr><td>epoch</td><td>▁▁▂▂▂▃▃▄▄▄▅▅▅▆▆▇▇▇██</td></tr><tr><td>global_step</td><td>▁▁▁▁▁▂▂▂▂▂▂▃▃▃▃▄▄▄▄▄▄▄▄▅▅▆▆▆▆▆▆▆▇▇▇▇████</td></tr><tr><td>test/acc</td><td>▁▂▄▅▅▅▆▇▇▇▇▇▇███████</td></tr><tr><td>test/loss</td><td>█▇▅▅▄▅▃▃▃▂▂▂▂▂▁▁▁▁▁▁</td></tr><tr><td>train/acc</td><td>▁▁▁▁▂▄▃▄▅▅▅▆▆▆▆▆▆▆▇▇▇▆▇▇▇▇▇▇▇███▇▇▇█████</td></tr><tr><td>train/epoch_acc</td><td>▁▁▃▄▅▆▆▇▇▇▇▇▇▇██████</td></tr><tr><td>train/epoch_loss</td><td>█▇▆▅▄▃▃▃▂▂▂▂▂▂▁▁▁▁▁▁</td></tr><tr><td>train/loss</td><td>██▇▆▅▄▄▄▃▃▃▄▃▂▃▂▂▂▂▃▂▂▂▂▂▂▁▂▂▂▂▂▁▁▁▁▁▁▁▁</td></tr><tr><td>val/acc</td><td>▁▂▄▅▅▅▆▇▇▇▇▇▇███████</td></tr><tr><td>val/loss</td><td>█▇▅▅▄▅▃▃▃▂▂▂▂▂▁▁▁▁▁▁</td></tr></table><br/></div><div class=\"wandb-col\"><h3>Run summary:</h3><br/><table class=\"wandb\"><tr><td>best_test_acc</td><td>0.9058</td></tr><tr><td>epoch</td><td>20</td></tr><tr><td>global_step</td><td>7040</td></tr><tr><td>test/acc</td><td>0.9058</td></tr><tr><td>test/loss</td><td>0.74414</td></tr><tr><td>train/acc</td><td>0.95833</td></tr><tr><td>train/epoch_acc</td><td>0.94451</td></tr><tr><td>train/epoch_loss</td><td>0.70264</td></tr><tr><td>train/loss</td><td>0.66037</td></tr><tr><td>val/acc</td><td>0.903</td></tr><tr><td>+1</td><td>...</td></tr></table><br/></div></div>"
            ]
          },
          "metadata": {}
        },
        {
          "output_type": "display_data",
          "data": {
            "text/plain": [
              "<IPython.core.display.HTML object>"
            ],
            "text/html": [
              " View run <strong style=\"color:#cdcd00\">true-sweep-2</strong> at: <a href='https://wandb.ai/ee23m505-iitmaana/cifar10-vgg6-assignment/runs/96eenjrd' target=\"_blank\">https://wandb.ai/ee23m505-iitmaana/cifar10-vgg6-assignment/runs/96eenjrd</a><br> View project at: <a href='https://wandb.ai/ee23m505-iitmaana/cifar10-vgg6-assignment' target=\"_blank\">https://wandb.ai/ee23m505-iitmaana/cifar10-vgg6-assignment</a><br>Synced 5 W&B file(s), 0 media file(s), 0 artifact file(s) and 0 other file(s)"
            ]
          },
          "metadata": {}
        },
        {
          "output_type": "display_data",
          "data": {
            "text/plain": [
              "<IPython.core.display.HTML object>"
            ],
            "text/html": [
              "Find logs at: <code>./wandb/run-20251026_162334-96eenjrd/logs</code>"
            ]
          },
          "metadata": {}
        },
        {
          "output_type": "stream",
          "name": "stderr",
          "text": [
            "\u001b[34m\u001b[1mwandb\u001b[0m: Agent Starting Run: k5xufcgk with config:\n",
            "\u001b[34m\u001b[1mwandb\u001b[0m: \tact: silu\n",
            "\u001b[34m\u001b[1mwandb\u001b[0m: \tbatch_size: 512\n",
            "\u001b[34m\u001b[1mwandb\u001b[0m: \tepochs: 60\n",
            "\u001b[34m\u001b[1mwandb\u001b[0m: \tlr: 0.005\n",
            "\u001b[34m\u001b[1mwandb\u001b[0m: \toptimizer: adamax\n",
            "\u001b[34m\u001b[1mwandb\u001b[0m: \tstrong_aug: False\n"
          ]
        },
        {
          "output_type": "display_data",
          "data": {
            "text/plain": [
              "<IPython.core.display.HTML object>"
            ],
            "text/html": [
              "Ignoring project 'cifar10-vgg6-assignment' when running a sweep."
            ]
          },
          "metadata": {}
        },
        {
          "output_type": "display_data",
          "data": {
            "text/plain": [
              "<IPython.core.display.HTML object>"
            ],
            "text/html": []
          },
          "metadata": {}
        },
        {
          "output_type": "display_data",
          "data": {
            "text/plain": [
              "<IPython.core.display.HTML object>"
            ],
            "text/html": [
              "Tracking run with wandb version 0.22.2"
            ]
          },
          "metadata": {}
        },
        {
          "output_type": "display_data",
          "data": {
            "text/plain": [
              "<IPython.core.display.HTML object>"
            ],
            "text/html": [
              "Run data is saved locally in <code>/content/wandb/run-20251026_162733-k5xufcgk</code>"
            ]
          },
          "metadata": {}
        },
        {
          "output_type": "display_data",
          "data": {
            "text/plain": [
              "<IPython.core.display.HTML object>"
            ],
            "text/html": [
              "Syncing run <strong><a href='https://wandb.ai/ee23m505-iitmaana/cifar10-vgg6-assignment/runs/k5xufcgk' target=\"_blank\">lunar-sweep-3</a></strong> to <a href='https://wandb.ai/ee23m505-iitmaana/cifar10-vgg6-assignment' target=\"_blank\">Weights & Biases</a> (<a href='https://wandb.me/developer-guide' target=\"_blank\">docs</a>)<br>Sweep page: <a href='https://wandb.ai/ee23m505-iitmaana/cifar10-vgg6-assignment/sweeps/g9ou8anb' target=\"_blank\">https://wandb.ai/ee23m505-iitmaana/cifar10-vgg6-assignment/sweeps/g9ou8anb</a>"
            ]
          },
          "metadata": {}
        },
        {
          "output_type": "display_data",
          "data": {
            "text/plain": [
              "<IPython.core.display.HTML object>"
            ],
            "text/html": [
              " View project at <a href='https://wandb.ai/ee23m505-iitmaana/cifar10-vgg6-assignment' target=\"_blank\">https://wandb.ai/ee23m505-iitmaana/cifar10-vgg6-assignment</a>"
            ]
          },
          "metadata": {}
        },
        {
          "output_type": "display_data",
          "data": {
            "text/plain": [
              "<IPython.core.display.HTML object>"
            ],
            "text/html": [
              " View sweep at <a href='https://wandb.ai/ee23m505-iitmaana/cifar10-vgg6-assignment/sweeps/g9ou8anb' target=\"_blank\">https://wandb.ai/ee23m505-iitmaana/cifar10-vgg6-assignment/sweeps/g9ou8anb</a>"
            ]
          },
          "metadata": {}
        },
        {
          "output_type": "display_data",
          "data": {
            "text/plain": [
              "<IPython.core.display.HTML object>"
            ],
            "text/html": [
              " View run at <a href='https://wandb.ai/ee23m505-iitmaana/cifar10-vgg6-assignment/runs/k5xufcgk' target=\"_blank\">https://wandb.ai/ee23m505-iitmaana/cifar10-vgg6-assignment/runs/k5xufcgk</a>"
            ]
          },
          "metadata": {}
        },
        {
          "output_type": "display_data",
          "data": {
            "text/plain": [
              "<IPython.core.display.HTML object>"
            ],
            "text/html": [
              "Ignoring project 'cifar10-vgg6-assignment' when running a sweep."
            ]
          },
          "metadata": {}
        },
        {
          "output_type": "display_data",
          "data": {
            "text/plain": [
              "<IPython.core.display.HTML object>"
            ],
            "text/html": [
              "Finishing previous runs because reinit is set to 'default'."
            ]
          },
          "metadata": {}
        },
        {
          "output_type": "display_data",
          "data": {
            "text/plain": [
              "<IPython.core.display.HTML object>"
            ],
            "text/html": []
          },
          "metadata": {}
        },
        {
          "output_type": "display_data",
          "data": {
            "text/plain": [
              "<IPython.core.display.HTML object>"
            ],
            "text/html": [
              " View run <strong style=\"color:#cdcd00\">lunar-sweep-3</strong> at: <a href='https://wandb.ai/ee23m505-iitmaana/cifar10-vgg6-assignment/runs/k5xufcgk' target=\"_blank\">https://wandb.ai/ee23m505-iitmaana/cifar10-vgg6-assignment/runs/k5xufcgk</a><br> View project at: <a href='https://wandb.ai/ee23m505-iitmaana/cifar10-vgg6-assignment' target=\"_blank\">https://wandb.ai/ee23m505-iitmaana/cifar10-vgg6-assignment</a><br>Synced 5 W&B file(s), 0 media file(s), 0 artifact file(s) and 0 other file(s)"
            ]
          },
          "metadata": {}
        },
        {
          "output_type": "display_data",
          "data": {
            "text/plain": [
              "<IPython.core.display.HTML object>"
            ],
            "text/html": [
              "Find logs at: <code>./wandb/run-20251026_162733-k5xufcgk/logs</code>"
            ]
          },
          "metadata": {}
        },
        {
          "output_type": "display_data",
          "data": {
            "text/plain": [
              "<IPython.core.display.HTML object>"
            ],
            "text/html": []
          },
          "metadata": {}
        },
        {
          "output_type": "display_data",
          "data": {
            "text/plain": [
              "<IPython.core.display.HTML object>"
            ],
            "text/html": [
              "Tracking run with wandb version 0.22.2"
            ]
          },
          "metadata": {}
        },
        {
          "output_type": "display_data",
          "data": {
            "text/plain": [
              "<IPython.core.display.HTML object>"
            ],
            "text/html": [
              "Run data is saved locally in <code>/content/wandb/run-20251026_162734-k5xufcgk</code>"
            ]
          },
          "metadata": {}
        },
        {
          "output_type": "display_data",
          "data": {
            "text/plain": [
              "<IPython.core.display.HTML object>"
            ],
            "text/html": [
              "Syncing run <strong><a href='https://wandb.ai/ee23m505-iitmaana/cifar10-vgg6-assignment/runs/k5xufcgk' target=\"_blank\">lunar-sweep-3</a></strong> to <a href='https://wandb.ai/ee23m505-iitmaana/cifar10-vgg6-assignment' target=\"_blank\">Weights & Biases</a> (<a href='https://wandb.me/developer-guide' target=\"_blank\">docs</a>)<br>Sweep page: <a href='https://wandb.ai/ee23m505-iitmaana/cifar10-vgg6-assignment/sweeps/g9ou8anb' target=\"_blank\">https://wandb.ai/ee23m505-iitmaana/cifar10-vgg6-assignment/sweeps/g9ou8anb</a>"
            ]
          },
          "metadata": {}
        },
        {
          "output_type": "display_data",
          "data": {
            "text/plain": [
              "<IPython.core.display.HTML object>"
            ],
            "text/html": [
              " View project at <a href='https://wandb.ai/ee23m505-iitmaana/cifar10-vgg6-assignment' target=\"_blank\">https://wandb.ai/ee23m505-iitmaana/cifar10-vgg6-assignment</a>"
            ]
          },
          "metadata": {}
        },
        {
          "output_type": "display_data",
          "data": {
            "text/plain": [
              "<IPython.core.display.HTML object>"
            ],
            "text/html": [
              " View sweep at <a href='https://wandb.ai/ee23m505-iitmaana/cifar10-vgg6-assignment/sweeps/g9ou8anb' target=\"_blank\">https://wandb.ai/ee23m505-iitmaana/cifar10-vgg6-assignment/sweeps/g9ou8anb</a>"
            ]
          },
          "metadata": {}
        },
        {
          "output_type": "display_data",
          "data": {
            "text/plain": [
              "<IPython.core.display.HTML object>"
            ],
            "text/html": [
              " View run at <a href='https://wandb.ai/ee23m505-iitmaana/cifar10-vgg6-assignment/runs/k5xufcgk' target=\"_blank\">https://wandb.ai/ee23m505-iitmaana/cifar10-vgg6-assignment/runs/k5xufcgk</a>"
            ]
          },
          "metadata": {}
        },
        {
          "output_type": "stream",
          "name": "stdout",
          "text": [
            "Epoch 001: train_acc=36.16 val_acc=48.30 test_acc=52.32\n",
            "Epoch 002: train_acc=53.06 val_acc=58.70 test_acc=61.76\n",
            "Epoch 003: train_acc=61.60 val_acc=64.50 test_acc=67.14\n",
            "Epoch 004: train_acc=66.58 val_acc=66.82 test_acc=70.64\n",
            "Epoch 005: train_acc=69.96 val_acc=71.12 test_acc=73.25\n",
            "Epoch 006: train_acc=72.56 val_acc=71.62 test_acc=74.92\n",
            "Epoch 007: train_acc=74.62 val_acc=73.36 test_acc=75.44\n",
            "Epoch 008: train_acc=76.04 val_acc=74.80 test_acc=75.83\n",
            "Epoch 009: train_acc=77.60 val_acc=76.32 test_acc=78.86\n",
            "Epoch 010: train_acc=78.67 val_acc=77.80 test_acc=79.30\n",
            "Epoch 011: train_acc=79.77 val_acc=77.70 test_acc=79.16\n",
            "Epoch 012: train_acc=80.72 val_acc=78.74 test_acc=79.86\n",
            "Epoch 013: train_acc=81.73 val_acc=78.42 test_acc=79.83\n",
            "Epoch 014: train_acc=82.24 val_acc=81.64 test_acc=82.11\n",
            "Epoch 015: train_acc=83.25 val_acc=80.20 test_acc=81.50\n",
            "Epoch 016: train_acc=83.78 val_acc=79.82 test_acc=81.86\n",
            "Epoch 017: train_acc=84.06 val_acc=80.94 test_acc=82.02\n",
            "Epoch 018: train_acc=84.87 val_acc=82.18 test_acc=83.17\n",
            "Epoch 019: train_acc=85.31 val_acc=82.58 test_acc=83.85\n",
            "Epoch 020: train_acc=85.78 val_acc=82.40 test_acc=83.92\n",
            "Epoch 021: train_acc=86.16 val_acc=82.72 test_acc=83.12\n",
            "Epoch 022: train_acc=86.62 val_acc=82.58 test_acc=83.08\n",
            "Epoch 023: train_acc=87.05 val_acc=83.56 test_acc=84.63\n",
            "Epoch 024: train_acc=87.28 val_acc=83.18 test_acc=83.88\n",
            "Epoch 025: train_acc=87.89 val_acc=83.96 test_acc=85.29\n",
            "Epoch 026: train_acc=87.99 val_acc=83.84 test_acc=84.97\n",
            "Epoch 027: train_acc=88.55 val_acc=84.68 test_acc=85.86\n",
            "Epoch 028: train_acc=88.82 val_acc=85.20 test_acc=85.22\n",
            "Epoch 029: train_acc=89.09 val_acc=84.40 test_acc=85.39\n",
            "Epoch 030: train_acc=89.46 val_acc=85.44 test_acc=86.01\n",
            "Epoch 031: train_acc=89.85 val_acc=85.24 test_acc=85.92\n",
            "Epoch 032: train_acc=90.06 val_acc=84.94 test_acc=86.11\n",
            "Epoch 033: train_acc=90.29 val_acc=85.66 test_acc=86.49\n",
            "Epoch 034: train_acc=90.36 val_acc=86.20 test_acc=86.23\n",
            "Epoch 035: train_acc=90.68 val_acc=85.94 test_acc=86.86\n",
            "Epoch 036: train_acc=91.07 val_acc=86.36 test_acc=87.16\n",
            "Epoch 037: train_acc=91.32 val_acc=86.34 test_acc=86.90\n",
            "Epoch 038: train_acc=91.50 val_acc=86.52 test_acc=86.53\n",
            "Epoch 039: train_acc=91.44 val_acc=86.58 test_acc=86.89\n",
            "Epoch 040: train_acc=91.77 val_acc=86.24 test_acc=86.41\n",
            "Epoch 041: train_acc=91.91 val_acc=86.46 test_acc=87.44\n",
            "Epoch 042: train_acc=91.97 val_acc=86.30 test_acc=87.02\n",
            "Epoch 043: train_acc=92.40 val_acc=86.20 test_acc=87.49\n",
            "Epoch 044: train_acc=92.38 val_acc=87.32 test_acc=87.49\n",
            "Epoch 045: train_acc=92.51 val_acc=86.62 test_acc=87.47\n",
            "Epoch 046: train_acc=92.64 val_acc=87.14 test_acc=87.67\n",
            "Epoch 047: train_acc=92.69 val_acc=87.32 test_acc=87.60\n",
            "Epoch 048: train_acc=92.92 val_acc=87.16 test_acc=87.46\n",
            "Epoch 049: train_acc=93.06 val_acc=87.36 test_acc=87.79\n",
            "Epoch 050: train_acc=93.07 val_acc=86.84 test_acc=87.83\n",
            "Epoch 051: train_acc=92.97 val_acc=87.26 test_acc=87.87\n",
            "Epoch 052: train_acc=93.11 val_acc=87.18 test_acc=87.83\n",
            "Epoch 053: train_acc=93.24 val_acc=87.20 test_acc=87.95\n",
            "Epoch 054: train_acc=93.17 val_acc=87.12 test_acc=88.05\n",
            "Epoch 055: train_acc=93.42 val_acc=87.56 test_acc=87.85\n",
            "Epoch 056: train_acc=93.45 val_acc=87.96 test_acc=87.97\n",
            "Epoch 057: train_acc=93.36 val_acc=87.46 test_acc=87.96\n",
            "Epoch 058: train_acc=93.37 val_acc=88.56 test_acc=87.99\n",
            "Epoch 059: train_acc=93.36 val_acc=87.56 test_acc=88.00\n",
            "Epoch 060: train_acc=93.45 val_acc=87.62 test_acc=87.95\n"
          ]
        },
        {
          "output_type": "display_data",
          "data": {
            "text/plain": [
              "<IPython.core.display.HTML object>"
            ],
            "text/html": []
          },
          "metadata": {}
        },
        {
          "output_type": "display_data",
          "data": {
            "text/plain": [
              "<IPython.core.display.HTML object>"
            ],
            "text/html": [
              "<br>    <style><br>        .wandb-row {<br>            display: flex;<br>            flex-direction: row;<br>            flex-wrap: wrap;<br>            justify-content: flex-start;<br>            width: 100%;<br>        }<br>        .wandb-col {<br>            display: flex;<br>            flex-direction: column;<br>            flex-basis: 100%;<br>            flex: 1;<br>            padding: 10px;<br>        }<br>    </style><br><div class=\"wandb-row\"><div class=\"wandb-col\"><h3>Run history:</h3><br/><table class=\"wandb\"><tr><td>epoch</td><td>▁▁▁▁▂▂▂▂▂▂▃▃▃▃▃▄▄▄▄▄▄▅▅▅▅▅▆▆▆▆▆▆▇▇▇▇▇▇██</td></tr><tr><td>global_step</td><td>▁▁▁▂▂▂▃▃▃▃▃▄▄▄▄▄▅▅▅▅▅▅▆▆▆▆▆▆▆▆▇▇▇▇▇▇▇▇██</td></tr><tr><td>test/acc</td><td>▁▃▄▅▅▆▆▆▆▇▇▇▇▇▇▇▇▇█▇████████████████████</td></tr><tr><td>test/loss</td><td>█▆▅▅▄▃▃▃▃▃▂▂▂▂▂▂▂▂▂▂▁▁▁▁▁▁▁▁▁▁▁▁▁▁▁▁▁▁▁▁</td></tr><tr><td>train/acc</td><td>▁▂▂▃▄▅▅▅▅▅▆▅▆▆▆▆▆▆▆▇▇▇▇▇▇▇▇▇▇▇██▇██▇▇███</td></tr><tr><td>train/epoch_acc</td><td>▁▃▄▅▅▆▆▆▆▆▇▇▇▇▇▇▇▇██████████████████████</td></tr><tr><td>train/epoch_loss</td><td>█▆▅▄▄▃▃▃▃▂▂▂▂▂▂▂▂▂▂▂▁▁▁▁▁▁▁▁▁▁▁▁▁▁▁▁▁▁▁▁</td></tr><tr><td>train/loss</td><td>█▇▆▅▄▄▅▄▄▄▄▄▄▄▃▃▃▄▃▃▃▂▃▂▂▂▂▂▁▂▁▁▂▁▂▁▁▁▁▁</td></tr><tr><td>val/acc</td><td>▁▃▄▅▅▆▆▆▆▆▇▆▇▇▇▇▇▇▇▇▇███████████████████</td></tr><tr><td>val/loss</td><td>█▇▅▅▄▄▃▃▃▃▂▂▂▂▂▂▂▂▂▂▁▁▁▁▁▁▁▁▁▁▁▁▁▁▁▁▁▁▁▁</td></tr></table><br/></div><div class=\"wandb-col\"><h3>Run summary:</h3><br/><table class=\"wandb\"><tr><td>best_test_acc</td><td>0.8805</td></tr><tr><td>epoch</td><td>60</td></tr><tr><td>global_step</td><td>5280</td></tr><tr><td>test/acc</td><td>0.8795</td></tr><tr><td>test/loss</td><td>0.82365</td></tr><tr><td>train/acc</td><td>0.9386</td></tr><tr><td>train/epoch_acc</td><td>0.93451</td></tr><tr><td>train/epoch_loss</td><td>0.72828</td></tr><tr><td>train/loss</td><td>0.71256</td></tr><tr><td>val/acc</td><td>0.8762</td></tr><tr><td>+1</td><td>...</td></tr></table><br/></div></div>"
            ]
          },
          "metadata": {}
        },
        {
          "output_type": "display_data",
          "data": {
            "text/plain": [
              "<IPython.core.display.HTML object>"
            ],
            "text/html": [
              " View run <strong style=\"color:#cdcd00\">lunar-sweep-3</strong> at: <a href='https://wandb.ai/ee23m505-iitmaana/cifar10-vgg6-assignment/runs/k5xufcgk' target=\"_blank\">https://wandb.ai/ee23m505-iitmaana/cifar10-vgg6-assignment/runs/k5xufcgk</a><br> View project at: <a href='https://wandb.ai/ee23m505-iitmaana/cifar10-vgg6-assignment' target=\"_blank\">https://wandb.ai/ee23m505-iitmaana/cifar10-vgg6-assignment</a><br>Synced 5 W&B file(s), 0 media file(s), 0 artifact file(s) and 0 other file(s)"
            ]
          },
          "metadata": {}
        },
        {
          "output_type": "display_data",
          "data": {
            "text/plain": [
              "<IPython.core.display.HTML object>"
            ],
            "text/html": [
              "Find logs at: <code>./wandb/run-20251026_162734-k5xufcgk/logs</code>"
            ]
          },
          "metadata": {}
        },
        {
          "output_type": "stream",
          "name": "stderr",
          "text": [
            "\u001b[34m\u001b[1mwandb\u001b[0m: Agent Starting Run: 7ikw94x8 with config:\n",
            "\u001b[34m\u001b[1mwandb\u001b[0m: \tact: selu\n",
            "\u001b[34m\u001b[1mwandb\u001b[0m: \tbatch_size: 128\n",
            "\u001b[34m\u001b[1mwandb\u001b[0m: \tepochs: 20\n",
            "\u001b[34m\u001b[1mwandb\u001b[0m: \tlr: 0.005\n",
            "\u001b[34m\u001b[1mwandb\u001b[0m: \toptimizer: rmsprop\n",
            "\u001b[34m\u001b[1mwandb\u001b[0m: \tstrong_aug: False\n"
          ]
        },
        {
          "output_type": "display_data",
          "data": {
            "text/plain": [
              "<IPython.core.display.HTML object>"
            ],
            "text/html": [
              "Ignoring project 'cifar10-vgg6-assignment' when running a sweep."
            ]
          },
          "metadata": {}
        },
        {
          "output_type": "display_data",
          "data": {
            "text/plain": [
              "<IPython.core.display.HTML object>"
            ],
            "text/html": []
          },
          "metadata": {}
        },
        {
          "output_type": "display_data",
          "data": {
            "text/plain": [
              "<IPython.core.display.HTML object>"
            ],
            "text/html": [
              "Tracking run with wandb version 0.22.2"
            ]
          },
          "metadata": {}
        },
        {
          "output_type": "display_data",
          "data": {
            "text/plain": [
              "<IPython.core.display.HTML object>"
            ],
            "text/html": [
              "Run data is saved locally in <code>/content/wandb/run-20251026_163859-7ikw94x8</code>"
            ]
          },
          "metadata": {}
        },
        {
          "output_type": "display_data",
          "data": {
            "text/plain": [
              "<IPython.core.display.HTML object>"
            ],
            "text/html": [
              "Syncing run <strong><a href='https://wandb.ai/ee23m505-iitmaana/cifar10-vgg6-assignment/runs/7ikw94x8' target=\"_blank\">scarlet-sweep-4</a></strong> to <a href='https://wandb.ai/ee23m505-iitmaana/cifar10-vgg6-assignment' target=\"_blank\">Weights & Biases</a> (<a href='https://wandb.me/developer-guide' target=\"_blank\">docs</a>)<br>Sweep page: <a href='https://wandb.ai/ee23m505-iitmaana/cifar10-vgg6-assignment/sweeps/g9ou8anb' target=\"_blank\">https://wandb.ai/ee23m505-iitmaana/cifar10-vgg6-assignment/sweeps/g9ou8anb</a>"
            ]
          },
          "metadata": {}
        },
        {
          "output_type": "display_data",
          "data": {
            "text/plain": [
              "<IPython.core.display.HTML object>"
            ],
            "text/html": [
              " View project at <a href='https://wandb.ai/ee23m505-iitmaana/cifar10-vgg6-assignment' target=\"_blank\">https://wandb.ai/ee23m505-iitmaana/cifar10-vgg6-assignment</a>"
            ]
          },
          "metadata": {}
        },
        {
          "output_type": "display_data",
          "data": {
            "text/plain": [
              "<IPython.core.display.HTML object>"
            ],
            "text/html": [
              " View sweep at <a href='https://wandb.ai/ee23m505-iitmaana/cifar10-vgg6-assignment/sweeps/g9ou8anb' target=\"_blank\">https://wandb.ai/ee23m505-iitmaana/cifar10-vgg6-assignment/sweeps/g9ou8anb</a>"
            ]
          },
          "metadata": {}
        },
        {
          "output_type": "display_data",
          "data": {
            "text/plain": [
              "<IPython.core.display.HTML object>"
            ],
            "text/html": [
              " View run at <a href='https://wandb.ai/ee23m505-iitmaana/cifar10-vgg6-assignment/runs/7ikw94x8' target=\"_blank\">https://wandb.ai/ee23m505-iitmaana/cifar10-vgg6-assignment/runs/7ikw94x8</a>"
            ]
          },
          "metadata": {}
        },
        {
          "output_type": "display_data",
          "data": {
            "text/plain": [
              "<IPython.core.display.HTML object>"
            ],
            "text/html": [
              "Ignoring project 'cifar10-vgg6-assignment' when running a sweep."
            ]
          },
          "metadata": {}
        },
        {
          "output_type": "display_data",
          "data": {
            "text/plain": [
              "<IPython.core.display.HTML object>"
            ],
            "text/html": [
              "Finishing previous runs because reinit is set to 'default'."
            ]
          },
          "metadata": {}
        },
        {
          "output_type": "display_data",
          "data": {
            "text/plain": [
              "<IPython.core.display.HTML object>"
            ],
            "text/html": []
          },
          "metadata": {}
        },
        {
          "output_type": "display_data",
          "data": {
            "text/plain": [
              "<IPython.core.display.HTML object>"
            ],
            "text/html": [
              " View run <strong style=\"color:#cdcd00\">scarlet-sweep-4</strong> at: <a href='https://wandb.ai/ee23m505-iitmaana/cifar10-vgg6-assignment/runs/7ikw94x8' target=\"_blank\">https://wandb.ai/ee23m505-iitmaana/cifar10-vgg6-assignment/runs/7ikw94x8</a><br> View project at: <a href='https://wandb.ai/ee23m505-iitmaana/cifar10-vgg6-assignment' target=\"_blank\">https://wandb.ai/ee23m505-iitmaana/cifar10-vgg6-assignment</a><br>Synced 5 W&B file(s), 0 media file(s), 0 artifact file(s) and 0 other file(s)"
            ]
          },
          "metadata": {}
        },
        {
          "output_type": "display_data",
          "data": {
            "text/plain": [
              "<IPython.core.display.HTML object>"
            ],
            "text/html": [
              "Find logs at: <code>./wandb/run-20251026_163859-7ikw94x8/logs</code>"
            ]
          },
          "metadata": {}
        },
        {
          "output_type": "display_data",
          "data": {
            "text/plain": [
              "<IPython.core.display.HTML object>"
            ],
            "text/html": []
          },
          "metadata": {}
        },
        {
          "output_type": "display_data",
          "data": {
            "text/plain": [
              "<IPython.core.display.HTML object>"
            ],
            "text/html": [
              "Tracking run with wandb version 0.22.2"
            ]
          },
          "metadata": {}
        },
        {
          "output_type": "display_data",
          "data": {
            "text/plain": [
              "<IPython.core.display.HTML object>"
            ],
            "text/html": [
              "Run data is saved locally in <code>/content/wandb/run-20251026_163900-7ikw94x8</code>"
            ]
          },
          "metadata": {}
        },
        {
          "output_type": "display_data",
          "data": {
            "text/plain": [
              "<IPython.core.display.HTML object>"
            ],
            "text/html": [
              "Syncing run <strong><a href='https://wandb.ai/ee23m505-iitmaana/cifar10-vgg6-assignment/runs/7ikw94x8' target=\"_blank\">scarlet-sweep-4</a></strong> to <a href='https://wandb.ai/ee23m505-iitmaana/cifar10-vgg6-assignment' target=\"_blank\">Weights & Biases</a> (<a href='https://wandb.me/developer-guide' target=\"_blank\">docs</a>)<br>Sweep page: <a href='https://wandb.ai/ee23m505-iitmaana/cifar10-vgg6-assignment/sweeps/g9ou8anb' target=\"_blank\">https://wandb.ai/ee23m505-iitmaana/cifar10-vgg6-assignment/sweeps/g9ou8anb</a>"
            ]
          },
          "metadata": {}
        },
        {
          "output_type": "display_data",
          "data": {
            "text/plain": [
              "<IPython.core.display.HTML object>"
            ],
            "text/html": [
              " View project at <a href='https://wandb.ai/ee23m505-iitmaana/cifar10-vgg6-assignment' target=\"_blank\">https://wandb.ai/ee23m505-iitmaana/cifar10-vgg6-assignment</a>"
            ]
          },
          "metadata": {}
        },
        {
          "output_type": "display_data",
          "data": {
            "text/plain": [
              "<IPython.core.display.HTML object>"
            ],
            "text/html": [
              " View sweep at <a href='https://wandb.ai/ee23m505-iitmaana/cifar10-vgg6-assignment/sweeps/g9ou8anb' target=\"_blank\">https://wandb.ai/ee23m505-iitmaana/cifar10-vgg6-assignment/sweeps/g9ou8anb</a>"
            ]
          },
          "metadata": {}
        },
        {
          "output_type": "display_data",
          "data": {
            "text/plain": [
              "<IPython.core.display.HTML object>"
            ],
            "text/html": [
              " View run at <a href='https://wandb.ai/ee23m505-iitmaana/cifar10-vgg6-assignment/runs/7ikw94x8' target=\"_blank\">https://wandb.ai/ee23m505-iitmaana/cifar10-vgg6-assignment/runs/7ikw94x8</a>"
            ]
          },
          "metadata": {}
        },
        {
          "output_type": "stream",
          "name": "stdout",
          "text": [
            "Epoch 001: train_acc=44.71 val_acc=55.86 test_acc=58.81\n",
            "Epoch 002: train_acc=61.82 val_acc=66.72 test_acc=69.30\n",
            "Epoch 003: train_acc=68.56 val_acc=68.78 test_acc=70.68\n",
            "Epoch 004: train_acc=72.72 val_acc=73.68 test_acc=74.67\n",
            "Epoch 005: train_acc=75.73 val_acc=77.14 test_acc=77.87\n",
            "Epoch 006: train_acc=77.82 val_acc=77.72 test_acc=79.05\n",
            "Epoch 007: train_acc=79.52 val_acc=78.90 test_acc=80.76\n",
            "Epoch 008: train_acc=81.20 val_acc=78.48 test_acc=79.58\n",
            "Epoch 009: train_acc=82.46 val_acc=80.06 test_acc=80.16\n",
            "Epoch 010: train_acc=83.59 val_acc=81.10 test_acc=81.73\n",
            "Epoch 011: train_acc=84.66 val_acc=82.74 test_acc=83.98\n",
            "Epoch 012: train_acc=85.89 val_acc=83.78 test_acc=84.08\n",
            "Epoch 013: train_acc=86.64 val_acc=84.56 test_acc=84.76\n",
            "Epoch 014: train_acc=87.50 val_acc=85.40 test_acc=86.20\n",
            "Epoch 015: train_acc=88.13 val_acc=85.98 test_acc=86.45\n",
            "Epoch 016: train_acc=88.78 val_acc=85.84 test_acc=86.79\n",
            "Epoch 017: train_acc=89.26 val_acc=86.18 test_acc=86.45\n",
            "Epoch 018: train_acc=89.54 val_acc=86.76 test_acc=87.49\n",
            "Epoch 019: train_acc=90.03 val_acc=87.12 test_acc=87.71\n",
            "Epoch 020: train_acc=90.16 val_acc=87.20 test_acc=87.52\n"
          ]
        },
        {
          "output_type": "display_data",
          "data": {
            "text/plain": [
              "<IPython.core.display.HTML object>"
            ],
            "text/html": []
          },
          "metadata": {}
        },
        {
          "output_type": "display_data",
          "data": {
            "text/plain": [
              "<IPython.core.display.HTML object>"
            ],
            "text/html": [
              "<br>    <style><br>        .wandb-row {<br>            display: flex;<br>            flex-direction: row;<br>            flex-wrap: wrap;<br>            justify-content: flex-start;<br>            width: 100%;<br>        }<br>        .wandb-col {<br>            display: flex;<br>            flex-direction: column;<br>            flex-basis: 100%;<br>            flex: 1;<br>            padding: 10px;<br>        }<br>    </style><br><div class=\"wandb-row\"><div class=\"wandb-col\"><h3>Run history:</h3><br/><table class=\"wandb\"><tr><td>epoch</td><td>▁▁▂▂▂▃▃▄▄▄▅▅▅▆▆▇▇▇██</td></tr><tr><td>global_step</td><td>▁▁▁▂▂▂▂▂▂▂▃▃▄▄▄▄▅▅▅▅▅▅▅▅▅▆▆▆▆▆▆▆▇▇▇▇▇▇██</td></tr><tr><td>test/acc</td><td>▁▄▄▅▆▆▆▆▆▇▇▇▇███████</td></tr><tr><td>test/loss</td><td>█▆▅▄▄▃▃▃▃▂▂▂▂▁▁▁▁▁▁▁</td></tr><tr><td>train/acc</td><td>▁▂▃▃▃▄▄▄▄▄▅▅▇▅▆▆▆▆▆▆▇▆▆▇▆▆▇▇▇▇▆▆▇▇█▆▇▇▇▇</td></tr><tr><td>train/epoch_acc</td><td>▁▄▅▅▆▆▆▇▇▇▇▇▇███████</td></tr><tr><td>train/epoch_loss</td><td>█▅▄▄▃▃▃▂▂▂▂▂▂▁▁▁▁▁▁▁</td></tr><tr><td>train/loss</td><td>█▇▆▅▄▃▃▃▃▂▃▃▂▃▂▂▂▃▂▃▂▁▂▁▂▂▁▂▂▂▂▂▁▁▁▁▁▁▁▁</td></tr><tr><td>val/acc</td><td>▁▃▄▅▆▆▆▆▆▇▇▇▇███████</td></tr><tr><td>val/loss</td><td>█▆▅▄▄▃▃▃▃▂▂▂▂▁▁▁▁▁▁▁</td></tr></table><br/></div><div class=\"wandb-col\"><h3>Run summary:</h3><br/><table class=\"wandb\"><tr><td>best_test_acc</td><td>0.8771</td></tr><tr><td>epoch</td><td>20</td></tr><tr><td>global_step</td><td>7040</td></tr><tr><td>test/acc</td><td>0.8752</td></tr><tr><td>test/loss</td><td>0.82391</td></tr><tr><td>train/acc</td><td>0.86111</td></tr><tr><td>train/epoch_acc</td><td>0.9016</td></tr><tr><td>train/epoch_loss</td><td>0.78583</td></tr><tr><td>train/loss</td><td>0.84514</td></tr><tr><td>val/acc</td><td>0.872</td></tr><tr><td>+1</td><td>...</td></tr></table><br/></div></div>"
            ]
          },
          "metadata": {}
        },
        {
          "output_type": "display_data",
          "data": {
            "text/plain": [
              "<IPython.core.display.HTML object>"
            ],
            "text/html": [
              " View run <strong style=\"color:#cdcd00\">scarlet-sweep-4</strong> at: <a href='https://wandb.ai/ee23m505-iitmaana/cifar10-vgg6-assignment/runs/7ikw94x8' target=\"_blank\">https://wandb.ai/ee23m505-iitmaana/cifar10-vgg6-assignment/runs/7ikw94x8</a><br> View project at: <a href='https://wandb.ai/ee23m505-iitmaana/cifar10-vgg6-assignment' target=\"_blank\">https://wandb.ai/ee23m505-iitmaana/cifar10-vgg6-assignment</a><br>Synced 5 W&B file(s), 0 media file(s), 0 artifact file(s) and 0 other file(s)"
            ]
          },
          "metadata": {}
        },
        {
          "output_type": "display_data",
          "data": {
            "text/plain": [
              "<IPython.core.display.HTML object>"
            ],
            "text/html": [
              "Find logs at: <code>./wandb/run-20251026_163900-7ikw94x8/logs</code>"
            ]
          },
          "metadata": {}
        },
        {
          "output_type": "stream",
          "name": "stderr",
          "text": [
            "\u001b[34m\u001b[1mwandb\u001b[0m: Agent Starting Run: dk2zyb22 with config:\n",
            "\u001b[34m\u001b[1mwandb\u001b[0m: \tact: softplus\n",
            "\u001b[34m\u001b[1mwandb\u001b[0m: \tbatch_size: 512\n",
            "\u001b[34m\u001b[1mwandb\u001b[0m: \tepochs: 20\n",
            "\u001b[34m\u001b[1mwandb\u001b[0m: \tlr: 0.05\n",
            "\u001b[34m\u001b[1mwandb\u001b[0m: \toptimizer: lbfgs\n",
            "\u001b[34m\u001b[1mwandb\u001b[0m: \tstrong_aug: False\n"
          ]
        },
        {
          "output_type": "display_data",
          "data": {
            "text/plain": [
              "<IPython.core.display.HTML object>"
            ],
            "text/html": [
              "Ignoring project 'cifar10-vgg6-assignment' when running a sweep."
            ]
          },
          "metadata": {}
        },
        {
          "output_type": "display_data",
          "data": {
            "text/plain": [
              "<IPython.core.display.HTML object>"
            ],
            "text/html": []
          },
          "metadata": {}
        },
        {
          "output_type": "display_data",
          "data": {
            "text/plain": [
              "<IPython.core.display.HTML object>"
            ],
            "text/html": [
              "Tracking run with wandb version 0.22.2"
            ]
          },
          "metadata": {}
        },
        {
          "output_type": "display_data",
          "data": {
            "text/plain": [
              "<IPython.core.display.HTML object>"
            ],
            "text/html": [
              "Run data is saved locally in <code>/content/wandb/run-20251026_164259-dk2zyb22</code>"
            ]
          },
          "metadata": {}
        },
        {
          "output_type": "display_data",
          "data": {
            "text/plain": [
              "<IPython.core.display.HTML object>"
            ],
            "text/html": [
              "Syncing run <strong><a href='https://wandb.ai/ee23m505-iitmaana/cifar10-vgg6-assignment/runs/dk2zyb22' target=\"_blank\">dauntless-sweep-5</a></strong> to <a href='https://wandb.ai/ee23m505-iitmaana/cifar10-vgg6-assignment' target=\"_blank\">Weights & Biases</a> (<a href='https://wandb.me/developer-guide' target=\"_blank\">docs</a>)<br>Sweep page: <a href='https://wandb.ai/ee23m505-iitmaana/cifar10-vgg6-assignment/sweeps/g9ou8anb' target=\"_blank\">https://wandb.ai/ee23m505-iitmaana/cifar10-vgg6-assignment/sweeps/g9ou8anb</a>"
            ]
          },
          "metadata": {}
        },
        {
          "output_type": "display_data",
          "data": {
            "text/plain": [
              "<IPython.core.display.HTML object>"
            ],
            "text/html": [
              " View project at <a href='https://wandb.ai/ee23m505-iitmaana/cifar10-vgg6-assignment' target=\"_blank\">https://wandb.ai/ee23m505-iitmaana/cifar10-vgg6-assignment</a>"
            ]
          },
          "metadata": {}
        },
        {
          "output_type": "display_data",
          "data": {
            "text/plain": [
              "<IPython.core.display.HTML object>"
            ],
            "text/html": [
              " View sweep at <a href='https://wandb.ai/ee23m505-iitmaana/cifar10-vgg6-assignment/sweeps/g9ou8anb' target=\"_blank\">https://wandb.ai/ee23m505-iitmaana/cifar10-vgg6-assignment/sweeps/g9ou8anb</a>"
            ]
          },
          "metadata": {}
        },
        {
          "output_type": "display_data",
          "data": {
            "text/plain": [
              "<IPython.core.display.HTML object>"
            ],
            "text/html": [
              " View run at <a href='https://wandb.ai/ee23m505-iitmaana/cifar10-vgg6-assignment/runs/dk2zyb22' target=\"_blank\">https://wandb.ai/ee23m505-iitmaana/cifar10-vgg6-assignment/runs/dk2zyb22</a>"
            ]
          },
          "metadata": {}
        },
        {
          "output_type": "display_data",
          "data": {
            "text/plain": [
              "<IPython.core.display.HTML object>"
            ],
            "text/html": [
              "Ignoring project 'cifar10-vgg6-assignment' when running a sweep."
            ]
          },
          "metadata": {}
        },
        {
          "output_type": "display_data",
          "data": {
            "text/plain": [
              "<IPython.core.display.HTML object>"
            ],
            "text/html": [
              "Finishing previous runs because reinit is set to 'default'."
            ]
          },
          "metadata": {}
        },
        {
          "output_type": "display_data",
          "data": {
            "text/plain": [
              "<IPython.core.display.HTML object>"
            ],
            "text/html": []
          },
          "metadata": {}
        },
        {
          "output_type": "display_data",
          "data": {
            "text/plain": [
              "<IPython.core.display.HTML object>"
            ],
            "text/html": [
              " View run <strong style=\"color:#cdcd00\">dauntless-sweep-5</strong> at: <a href='https://wandb.ai/ee23m505-iitmaana/cifar10-vgg6-assignment/runs/dk2zyb22' target=\"_blank\">https://wandb.ai/ee23m505-iitmaana/cifar10-vgg6-assignment/runs/dk2zyb22</a><br> View project at: <a href='https://wandb.ai/ee23m505-iitmaana/cifar10-vgg6-assignment' target=\"_blank\">https://wandb.ai/ee23m505-iitmaana/cifar10-vgg6-assignment</a><br>Synced 5 W&B file(s), 0 media file(s), 0 artifact file(s) and 0 other file(s)"
            ]
          },
          "metadata": {}
        },
        {
          "output_type": "display_data",
          "data": {
            "text/plain": [
              "<IPython.core.display.HTML object>"
            ],
            "text/html": [
              "Find logs at: <code>./wandb/run-20251026_164259-dk2zyb22/logs</code>"
            ]
          },
          "metadata": {}
        },
        {
          "output_type": "display_data",
          "data": {
            "text/plain": [
              "<IPython.core.display.HTML object>"
            ],
            "text/html": []
          },
          "metadata": {}
        },
        {
          "output_type": "display_data",
          "data": {
            "text/plain": [
              "<IPython.core.display.HTML object>"
            ],
            "text/html": [
              "Tracking run with wandb version 0.22.2"
            ]
          },
          "metadata": {}
        },
        {
          "output_type": "display_data",
          "data": {
            "text/plain": [
              "<IPython.core.display.HTML object>"
            ],
            "text/html": [
              "Run data is saved locally in <code>/content/wandb/run-20251026_164300-dk2zyb22</code>"
            ]
          },
          "metadata": {}
        },
        {
          "output_type": "display_data",
          "data": {
            "text/plain": [
              "<IPython.core.display.HTML object>"
            ],
            "text/html": [
              "Syncing run <strong><a href='https://wandb.ai/ee23m505-iitmaana/cifar10-vgg6-assignment/runs/dk2zyb22' target=\"_blank\">dauntless-sweep-5</a></strong> to <a href='https://wandb.ai/ee23m505-iitmaana/cifar10-vgg6-assignment' target=\"_blank\">Weights & Biases</a> (<a href='https://wandb.me/developer-guide' target=\"_blank\">docs</a>)<br>Sweep page: <a href='https://wandb.ai/ee23m505-iitmaana/cifar10-vgg6-assignment/sweeps/g9ou8anb' target=\"_blank\">https://wandb.ai/ee23m505-iitmaana/cifar10-vgg6-assignment/sweeps/g9ou8anb</a>"
            ]
          },
          "metadata": {}
        },
        {
          "output_type": "display_data",
          "data": {
            "text/plain": [
              "<IPython.core.display.HTML object>"
            ],
            "text/html": [
              " View project at <a href='https://wandb.ai/ee23m505-iitmaana/cifar10-vgg6-assignment' target=\"_blank\">https://wandb.ai/ee23m505-iitmaana/cifar10-vgg6-assignment</a>"
            ]
          },
          "metadata": {}
        },
        {
          "output_type": "display_data",
          "data": {
            "text/plain": [
              "<IPython.core.display.HTML object>"
            ],
            "text/html": [
              " View sweep at <a href='https://wandb.ai/ee23m505-iitmaana/cifar10-vgg6-assignment/sweeps/g9ou8anb' target=\"_blank\">https://wandb.ai/ee23m505-iitmaana/cifar10-vgg6-assignment/sweeps/g9ou8anb</a>"
            ]
          },
          "metadata": {}
        },
        {
          "output_type": "display_data",
          "data": {
            "text/plain": [
              "<IPython.core.display.HTML object>"
            ],
            "text/html": [
              " View run at <a href='https://wandb.ai/ee23m505-iitmaana/cifar10-vgg6-assignment/runs/dk2zyb22' target=\"_blank\">https://wandb.ai/ee23m505-iitmaana/cifar10-vgg6-assignment/runs/dk2zyb22</a>"
            ]
          },
          "metadata": {}
        },
        {
          "output_type": "stream",
          "name": "stdout",
          "text": [
            "Epoch 001: train_acc=39.55 val_acc=49.68 test_acc=52.12\n",
            "Epoch 002: train_acc=55.88 val_acc=50.52 test_acc=54.60\n",
            "Epoch 003: train_acc=63.65 val_acc=67.02 test_acc=69.44\n",
            "Epoch 004: train_acc=68.97 val_acc=70.62 test_acc=73.01\n",
            "Epoch 005: train_acc=73.18 val_acc=67.30 test_acc=69.63\n",
            "Epoch 006: train_acc=75.85 val_acc=75.22 test_acc=76.69\n",
            "Epoch 007: train_acc=77.90 val_acc=75.70 test_acc=76.47\n",
            "Epoch 008: train_acc=79.97 val_acc=79.10 test_acc=79.67\n",
            "Epoch 009: train_acc=81.84 val_acc=80.28 test_acc=80.76\n",
            "Epoch 010: train_acc=83.19 val_acc=80.84 test_acc=82.51\n",
            "Epoch 011: train_acc=84.69 val_acc=81.90 test_acc=82.18\n",
            "Epoch 012: train_acc=85.47 val_acc=79.36 test_acc=80.18\n",
            "Epoch 013: train_acc=86.62 val_acc=83.14 test_acc=84.05\n",
            "Epoch 014: train_acc=87.58 val_acc=85.66 test_acc=85.90\n",
            "Epoch 015: train_acc=88.54 val_acc=86.20 test_acc=85.66\n",
            "Epoch 016: train_acc=89.34 val_acc=86.68 test_acc=85.72\n",
            "Epoch 017: train_acc=90.11 val_acc=88.16 test_acc=87.23\n",
            "Epoch 018: train_acc=90.40 val_acc=87.68 test_acc=87.28\n",
            "Epoch 019: train_acc=90.70 val_acc=88.14 test_acc=87.57\n",
            "Epoch 020: train_acc=91.12 val_acc=88.02 test_acc=87.82\n"
          ]
        },
        {
          "output_type": "display_data",
          "data": {
            "text/plain": [
              "<IPython.core.display.HTML object>"
            ],
            "text/html": []
          },
          "metadata": {}
        },
        {
          "output_type": "display_data",
          "data": {
            "text/plain": [
              "<IPython.core.display.HTML object>"
            ],
            "text/html": [
              "<br>    <style><br>        .wandb-row {<br>            display: flex;<br>            flex-direction: row;<br>            flex-wrap: wrap;<br>            justify-content: flex-start;<br>            width: 100%;<br>        }<br>        .wandb-col {<br>            display: flex;<br>            flex-direction: column;<br>            flex-basis: 100%;<br>            flex: 1;<br>            padding: 10px;<br>        }<br>    </style><br><div class=\"wandb-row\"><div class=\"wandb-col\"><h3>Run history:</h3><br/><table class=\"wandb\"><tr><td>epoch</td><td>▁▁▂▂▂▃▃▄▄▄▅▅▅▆▆▇▇▇██</td></tr><tr><td>global_step</td><td>▁▁▁▂▂▂▂▂▃▃▃▄▄▄▄▄▄▄▅▅▅▅▅▅▅▆▆▆▆▆▇▇▇▇▇█████</td></tr><tr><td>test/acc</td><td>▁▁▄▅▄▆▆▆▇▇▇▇▇███████</td></tr><tr><td>test/loss</td><td>██▅▄▅▃▃▃▃▂▂▃▂▁▁▁▁▁▁▁</td></tr><tr><td>train/acc</td><td>▁▂▃▃▃▄▅▅▆▆▆▆▆▆▆▆▆▇▇▇▇▇▇▇█▇▇█▇███████████</td></tr><tr><td>train/epoch_acc</td><td>▁▃▄▅▆▆▆▆▇▇▇▇▇███████</td></tr><tr><td>train/epoch_loss</td><td>█▆▅▄▄▃▃▃▂▂▂▂▂▂▁▁▁▁▁▁</td></tr><tr><td>train/loss</td><td>██▇▇▇▇▆▅▅▅▅▅▅▅▄▃▂▃▃▂▂▃▂▂▂▂▂▂▁▁▁▁▁▁▁▁▁▁▁▁</td></tr><tr><td>val/acc</td><td>▁▁▄▅▄▆▆▆▇▇▇▆▇███████</td></tr><tr><td>val/loss</td><td>██▅▄▅▃▃▃▂▂▂▂▂▁▁▁▁▁▁▁</td></tr></table><br/></div><div class=\"wandb-col\"><h3>Run summary:</h3><br/><table class=\"wandb\"><tr><td>best_test_acc</td><td>0.8782</td></tr><tr><td>epoch</td><td>20</td></tr><tr><td>global_step</td><td>1760</td></tr><tr><td>test/acc</td><td>0.8782</td></tr><tr><td>test/loss</td><td>0.80828</td></tr><tr><td>train/acc</td><td>0.89912</td></tr><tr><td>train/epoch_acc</td><td>0.91118</td></tr><tr><td>train/epoch_loss</td><td>0.77884</td></tr><tr><td>train/loss</td><td>0.78834</td></tr><tr><td>val/acc</td><td>0.8802</td></tr><tr><td>+1</td><td>...</td></tr></table><br/></div></div>"
            ]
          },
          "metadata": {}
        },
        {
          "output_type": "display_data",
          "data": {
            "text/plain": [
              "<IPython.core.display.HTML object>"
            ],
            "text/html": [
              " View run <strong style=\"color:#cdcd00\">dauntless-sweep-5</strong> at: <a href='https://wandb.ai/ee23m505-iitmaana/cifar10-vgg6-assignment/runs/dk2zyb22' target=\"_blank\">https://wandb.ai/ee23m505-iitmaana/cifar10-vgg6-assignment/runs/dk2zyb22</a><br> View project at: <a href='https://wandb.ai/ee23m505-iitmaana/cifar10-vgg6-assignment' target=\"_blank\">https://wandb.ai/ee23m505-iitmaana/cifar10-vgg6-assignment</a><br>Synced 5 W&B file(s), 0 media file(s), 0 artifact file(s) and 0 other file(s)"
            ]
          },
          "metadata": {}
        },
        {
          "output_type": "display_data",
          "data": {
            "text/plain": [
              "<IPython.core.display.HTML object>"
            ],
            "text/html": [
              "Find logs at: <code>./wandb/run-20251026_164300-dk2zyb22/logs</code>"
            ]
          },
          "metadata": {}
        },
        {
          "output_type": "stream",
          "name": "stderr",
          "text": [
            "\u001b[34m\u001b[1mwandb\u001b[0m: Agent Starting Run: 2m9frs43 with config:\n",
            "\u001b[34m\u001b[1mwandb\u001b[0m: \tact: gelu\n",
            "\u001b[34m\u001b[1mwandb\u001b[0m: \tbatch_size: 512\n",
            "\u001b[34m\u001b[1mwandb\u001b[0m: \tepochs: 40\n",
            "\u001b[34m\u001b[1mwandb\u001b[0m: \tlr: 0.05\n",
            "\u001b[34m\u001b[1mwandb\u001b[0m: \toptimizer: adamax\n",
            "\u001b[34m\u001b[1mwandb\u001b[0m: \tstrong_aug: False\n"
          ]
        },
        {
          "output_type": "display_data",
          "data": {
            "text/plain": [
              "<IPython.core.display.HTML object>"
            ],
            "text/html": [
              "Ignoring project 'cifar10-vgg6-assignment' when running a sweep."
            ]
          },
          "metadata": {}
        },
        {
          "output_type": "display_data",
          "data": {
            "text/plain": [
              "<IPython.core.display.HTML object>"
            ],
            "text/html": []
          },
          "metadata": {}
        },
        {
          "output_type": "display_data",
          "data": {
            "text/plain": [
              "<IPython.core.display.HTML object>"
            ],
            "text/html": [
              "Tracking run with wandb version 0.22.2"
            ]
          },
          "metadata": {}
        },
        {
          "output_type": "display_data",
          "data": {
            "text/plain": [
              "<IPython.core.display.HTML object>"
            ],
            "text/html": [
              "Run data is saved locally in <code>/content/wandb/run-20251026_164655-2m9frs43</code>"
            ]
          },
          "metadata": {}
        },
        {
          "output_type": "display_data",
          "data": {
            "text/plain": [
              "<IPython.core.display.HTML object>"
            ],
            "text/html": [
              "Syncing run <strong><a href='https://wandb.ai/ee23m505-iitmaana/cifar10-vgg6-assignment/runs/2m9frs43' target=\"_blank\">swift-sweep-6</a></strong> to <a href='https://wandb.ai/ee23m505-iitmaana/cifar10-vgg6-assignment' target=\"_blank\">Weights & Biases</a> (<a href='https://wandb.me/developer-guide' target=\"_blank\">docs</a>)<br>Sweep page: <a href='https://wandb.ai/ee23m505-iitmaana/cifar10-vgg6-assignment/sweeps/g9ou8anb' target=\"_blank\">https://wandb.ai/ee23m505-iitmaana/cifar10-vgg6-assignment/sweeps/g9ou8anb</a>"
            ]
          },
          "metadata": {}
        },
        {
          "output_type": "display_data",
          "data": {
            "text/plain": [
              "<IPython.core.display.HTML object>"
            ],
            "text/html": [
              " View project at <a href='https://wandb.ai/ee23m505-iitmaana/cifar10-vgg6-assignment' target=\"_blank\">https://wandb.ai/ee23m505-iitmaana/cifar10-vgg6-assignment</a>"
            ]
          },
          "metadata": {}
        },
        {
          "output_type": "display_data",
          "data": {
            "text/plain": [
              "<IPython.core.display.HTML object>"
            ],
            "text/html": [
              " View sweep at <a href='https://wandb.ai/ee23m505-iitmaana/cifar10-vgg6-assignment/sweeps/g9ou8anb' target=\"_blank\">https://wandb.ai/ee23m505-iitmaana/cifar10-vgg6-assignment/sweeps/g9ou8anb</a>"
            ]
          },
          "metadata": {}
        },
        {
          "output_type": "display_data",
          "data": {
            "text/plain": [
              "<IPython.core.display.HTML object>"
            ],
            "text/html": [
              " View run at <a href='https://wandb.ai/ee23m505-iitmaana/cifar10-vgg6-assignment/runs/2m9frs43' target=\"_blank\">https://wandb.ai/ee23m505-iitmaana/cifar10-vgg6-assignment/runs/2m9frs43</a>"
            ]
          },
          "metadata": {}
        },
        {
          "output_type": "display_data",
          "data": {
            "text/plain": [
              "<IPython.core.display.HTML object>"
            ],
            "text/html": [
              "Ignoring project 'cifar10-vgg6-assignment' when running a sweep."
            ]
          },
          "metadata": {}
        },
        {
          "output_type": "display_data",
          "data": {
            "text/plain": [
              "<IPython.core.display.HTML object>"
            ],
            "text/html": [
              "Finishing previous runs because reinit is set to 'default'."
            ]
          },
          "metadata": {}
        },
        {
          "output_type": "display_data",
          "data": {
            "text/plain": [
              "<IPython.core.display.HTML object>"
            ],
            "text/html": []
          },
          "metadata": {}
        },
        {
          "output_type": "display_data",
          "data": {
            "text/plain": [
              "<IPython.core.display.HTML object>"
            ],
            "text/html": [
              " View run <strong style=\"color:#cdcd00\">swift-sweep-6</strong> at: <a href='https://wandb.ai/ee23m505-iitmaana/cifar10-vgg6-assignment/runs/2m9frs43' target=\"_blank\">https://wandb.ai/ee23m505-iitmaana/cifar10-vgg6-assignment/runs/2m9frs43</a><br> View project at: <a href='https://wandb.ai/ee23m505-iitmaana/cifar10-vgg6-assignment' target=\"_blank\">https://wandb.ai/ee23m505-iitmaana/cifar10-vgg6-assignment</a><br>Synced 5 W&B file(s), 0 media file(s), 0 artifact file(s) and 0 other file(s)"
            ]
          },
          "metadata": {}
        },
        {
          "output_type": "display_data",
          "data": {
            "text/plain": [
              "<IPython.core.display.HTML object>"
            ],
            "text/html": [
              "Find logs at: <code>./wandb/run-20251026_164655-2m9frs43/logs</code>"
            ]
          },
          "metadata": {}
        },
        {
          "output_type": "display_data",
          "data": {
            "text/plain": [
              "<IPython.core.display.HTML object>"
            ],
            "text/html": []
          },
          "metadata": {}
        },
        {
          "output_type": "display_data",
          "data": {
            "text/plain": [
              "<IPython.core.display.HTML object>"
            ],
            "text/html": [
              "Tracking run with wandb version 0.22.2"
            ]
          },
          "metadata": {}
        },
        {
          "output_type": "display_data",
          "data": {
            "text/plain": [
              "<IPython.core.display.HTML object>"
            ],
            "text/html": [
              "Run data is saved locally in <code>/content/wandb/run-20251026_164656-2m9frs43</code>"
            ]
          },
          "metadata": {}
        },
        {
          "output_type": "display_data",
          "data": {
            "text/plain": [
              "<IPython.core.display.HTML object>"
            ],
            "text/html": [
              "Syncing run <strong><a href='https://wandb.ai/ee23m505-iitmaana/cifar10-vgg6-assignment/runs/2m9frs43' target=\"_blank\">swift-sweep-6</a></strong> to <a href='https://wandb.ai/ee23m505-iitmaana/cifar10-vgg6-assignment' target=\"_blank\">Weights & Biases</a> (<a href='https://wandb.me/developer-guide' target=\"_blank\">docs</a>)<br>Sweep page: <a href='https://wandb.ai/ee23m505-iitmaana/cifar10-vgg6-assignment/sweeps/g9ou8anb' target=\"_blank\">https://wandb.ai/ee23m505-iitmaana/cifar10-vgg6-assignment/sweeps/g9ou8anb</a>"
            ]
          },
          "metadata": {}
        },
        {
          "output_type": "display_data",
          "data": {
            "text/plain": [
              "<IPython.core.display.HTML object>"
            ],
            "text/html": [
              " View project at <a href='https://wandb.ai/ee23m505-iitmaana/cifar10-vgg6-assignment' target=\"_blank\">https://wandb.ai/ee23m505-iitmaana/cifar10-vgg6-assignment</a>"
            ]
          },
          "metadata": {}
        },
        {
          "output_type": "display_data",
          "data": {
            "text/plain": [
              "<IPython.core.display.HTML object>"
            ],
            "text/html": [
              " View sweep at <a href='https://wandb.ai/ee23m505-iitmaana/cifar10-vgg6-assignment/sweeps/g9ou8anb' target=\"_blank\">https://wandb.ai/ee23m505-iitmaana/cifar10-vgg6-assignment/sweeps/g9ou8anb</a>"
            ]
          },
          "metadata": {}
        },
        {
          "output_type": "display_data",
          "data": {
            "text/plain": [
              "<IPython.core.display.HTML object>"
            ],
            "text/html": [
              " View run at <a href='https://wandb.ai/ee23m505-iitmaana/cifar10-vgg6-assignment/runs/2m9frs43' target=\"_blank\">https://wandb.ai/ee23m505-iitmaana/cifar10-vgg6-assignment/runs/2m9frs43</a>"
            ]
          },
          "metadata": {}
        },
        {
          "output_type": "stream",
          "name": "stdout",
          "text": [
            "Epoch 001: train_acc=42.67 val_acc=55.26 test_acc=57.00\n",
            "Epoch 002: train_acc=60.79 val_acc=64.58 test_acc=67.52\n",
            "Epoch 003: train_acc=69.26 val_acc=69.58 test_acc=70.48\n",
            "Epoch 004: train_acc=73.62 val_acc=71.98 test_acc=74.09\n",
            "Epoch 005: train_acc=76.92 val_acc=76.34 test_acc=77.77\n",
            "Epoch 006: train_acc=79.23 val_acc=78.74 test_acc=80.64\n",
            "Epoch 007: train_acc=81.33 val_acc=77.22 test_acc=77.22\n",
            "Epoch 008: train_acc=83.02 val_acc=78.68 test_acc=80.86\n",
            "Epoch 009: train_acc=84.45 val_acc=81.94 test_acc=83.06\n",
            "Epoch 010: train_acc=85.32 val_acc=81.64 test_acc=82.01\n",
            "Epoch 011: train_acc=86.44 val_acc=78.46 test_acc=78.75\n",
            "Epoch 012: train_acc=87.40 val_acc=80.76 test_acc=81.44\n",
            "Epoch 013: train_acc=88.22 val_acc=82.48 test_acc=84.00\n",
            "Epoch 014: train_acc=89.15 val_acc=84.12 test_acc=84.54\n",
            "Epoch 015: train_acc=89.87 val_acc=86.80 test_acc=87.39\n",
            "Epoch 016: train_acc=90.37 val_acc=86.44 test_acc=86.73\n",
            "Epoch 017: train_acc=90.98 val_acc=86.42 test_acc=86.72\n",
            "Epoch 018: train_acc=91.45 val_acc=86.48 test_acc=87.36\n",
            "Epoch 019: train_acc=92.25 val_acc=87.22 test_acc=87.37\n",
            "Epoch 020: train_acc=92.64 val_acc=86.38 test_acc=87.22\n",
            "Epoch 021: train_acc=93.20 val_acc=88.42 test_acc=88.76\n",
            "Epoch 022: train_acc=93.71 val_acc=88.54 test_acc=88.44\n",
            "Epoch 023: train_acc=94.19 val_acc=89.16 test_acc=89.73\n",
            "Epoch 024: train_acc=94.41 val_acc=88.40 test_acc=89.17\n",
            "Epoch 025: train_acc=95.09 val_acc=89.36 test_acc=89.76\n",
            "Epoch 026: train_acc=95.41 val_acc=88.56 test_acc=89.49\n",
            "Epoch 027: train_acc=95.82 val_acc=89.08 test_acc=89.73\n",
            "Epoch 028: train_acc=96.19 val_acc=89.32 test_acc=89.70\n",
            "Epoch 029: train_acc=96.49 val_acc=89.56 test_acc=89.81\n",
            "Epoch 030: train_acc=96.82 val_acc=90.20 test_acc=90.74\n",
            "Epoch 031: train_acc=97.14 val_acc=90.14 test_acc=90.08\n",
            "Epoch 032: train_acc=97.33 val_acc=90.60 test_acc=90.96\n",
            "Epoch 033: train_acc=97.43 val_acc=90.68 test_acc=90.68\n",
            "Epoch 034: train_acc=97.63 val_acc=90.54 test_acc=90.99\n",
            "Epoch 035: train_acc=97.83 val_acc=90.76 test_acc=90.81\n",
            "Epoch 036: train_acc=97.94 val_acc=90.94 test_acc=91.10\n",
            "Epoch 037: train_acc=98.00 val_acc=90.72 test_acc=91.10\n",
            "Epoch 038: train_acc=98.16 val_acc=90.82 test_acc=91.27\n",
            "Epoch 039: train_acc=98.18 val_acc=91.16 test_acc=91.25\n",
            "Epoch 040: train_acc=98.13 val_acc=91.26 test_acc=91.15\n"
          ]
        },
        {
          "output_type": "display_data",
          "data": {
            "text/plain": [
              "<IPython.core.display.HTML object>"
            ],
            "text/html": []
          },
          "metadata": {}
        },
        {
          "output_type": "display_data",
          "data": {
            "text/plain": [
              "<IPython.core.display.HTML object>"
            ],
            "text/html": [
              "<br>    <style><br>        .wandb-row {<br>            display: flex;<br>            flex-direction: row;<br>            flex-wrap: wrap;<br>            justify-content: flex-start;<br>            width: 100%;<br>        }<br>        .wandb-col {<br>            display: flex;<br>            flex-direction: column;<br>            flex-basis: 100%;<br>            flex: 1;<br>            padding: 10px;<br>        }<br>    </style><br><div class=\"wandb-row\"><div class=\"wandb-col\"><h3>Run history:</h3><br/><table class=\"wandb\"><tr><td>epoch</td><td>▁▁▁▂▂▂▂▂▂▃▃▃▃▃▄▄▄▄▄▄▅▅▅▅▅▅▆▆▆▆▆▇▇▇▇▇▇███</td></tr><tr><td>global_step</td><td>▁▁▁▁▂▃▃▃▃▃▃▃▃▄▄▄▄▄▄▄▄▄▅▅▅▅▅▅▅▆▆▆▆▆▆▇████</td></tr><tr><td>test/acc</td><td>▁▃▄▄▅▆▅▆▆▆▅▆▇▇▇▇▇▇▇▇▇▇██████████████████</td></tr><tr><td>test/loss</td><td>█▆▅▅▄▃▄▃▃▃▄▃▃▂▂▂▂▂▂▂▁▂▁▁▁▁▁▁▁▁▁▁▁▁▁▁▁▁▁▁</td></tr><tr><td>train/acc</td><td>▁▂▄▄▅▆▆▆▆▆▇▇▇▇▇▇▇▇▇▇▇██▇▇█▇█▇███████████</td></tr><tr><td>train/epoch_acc</td><td>▁▃▄▅▅▆▆▆▆▆▇▇▇▇▇▇▇▇▇▇▇▇▇█████████████████</td></tr><tr><td>train/epoch_loss</td><td>█▆▅▄▄▄▃▃▃▃▃▂▂▂▂▂▂▂▂▂▂▂▂▁▁▁▁▁▁▁▁▁▁▁▁▁▁▁▁▁</td></tr><tr><td>train/loss</td><td>█▅▅▄▃▃▃▃▃▃▂▂▂▂▂▂▂▂▁▁▁▁▁▁▁▁▁▁▁▁▁▁▁▁▁▁▁▁▁▁</td></tr><tr><td>val/acc</td><td>▁▃▄▄▅▆▅▆▆▆▆▆▆▇▇▇▇▇▇▇▇▇█▇█▇██████████████</td></tr><tr><td>val/loss</td><td>█▆▅▅▄▃▄▃▃▃▃▃▃▂▂▂▂▂▂▂▂▂▁▂▁▁▁▁▁▁▁▁▁▁▁▁▁▁▁▁</td></tr></table><br/></div><div class=\"wandb-col\"><h3>Run summary:</h3><br/><table class=\"wandb\"><tr><td>best_test_acc</td><td>0.9127</td></tr><tr><td>epoch</td><td>40</td></tr><tr><td>global_step</td><td>3520</td></tr><tr><td>test/acc</td><td>0.9115</td></tr><tr><td>test/loss</td><td>0.72993</td></tr><tr><td>train/acc</td><td>0.97149</td></tr><tr><td>train/epoch_acc</td><td>0.98129</td></tr><tr><td>train/epoch_loss</td><td>0.61155</td></tr><tr><td>train/loss</td><td>0.61846</td></tr><tr><td>val/acc</td><td>0.9126</td></tr><tr><td>+1</td><td>...</td></tr></table><br/></div></div>"
            ]
          },
          "metadata": {}
        },
        {
          "output_type": "display_data",
          "data": {
            "text/plain": [
              "<IPython.core.display.HTML object>"
            ],
            "text/html": [
              " View run <strong style=\"color:#cdcd00\">swift-sweep-6</strong> at: <a href='https://wandb.ai/ee23m505-iitmaana/cifar10-vgg6-assignment/runs/2m9frs43' target=\"_blank\">https://wandb.ai/ee23m505-iitmaana/cifar10-vgg6-assignment/runs/2m9frs43</a><br> View project at: <a href='https://wandb.ai/ee23m505-iitmaana/cifar10-vgg6-assignment' target=\"_blank\">https://wandb.ai/ee23m505-iitmaana/cifar10-vgg6-assignment</a><br>Synced 5 W&B file(s), 0 media file(s), 0 artifact file(s) and 0 other file(s)"
            ]
          },
          "metadata": {}
        },
        {
          "output_type": "display_data",
          "data": {
            "text/plain": [
              "<IPython.core.display.HTML object>"
            ],
            "text/html": [
              "Find logs at: <code>./wandb/run-20251026_164656-2m9frs43/logs</code>"
            ]
          },
          "metadata": {}
        }
      ]
    }
  ],
  "metadata": {
    "accelerator": "GPU",
    "colab": {
      "gpuType": "L4",
      "provenance": [],
      "authorship_tag": "ABX9TyPl5jFi4plc8CVNXREPk5ho",
      "include_colab_link": true
    },
    "kernelspec": {
      "display_name": "Python 3",
      "name": "python3"
    },
    "language_info": {
      "name": "python"
    }
  },
  "nbformat": 4,
  "nbformat_minor": 0
}