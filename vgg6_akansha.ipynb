{
  "cells": [
    {
      "cell_type": "markdown",
      "metadata": {
        "id": "view-in-github",
        "colab_type": "text"
      },
      "source": [
        "<a href=\"https://colab.research.google.com/github/akanshasun/cnn-vgg6-config-assignment/blob/main/vgg6_akansha.ipynb\" target=\"_parent\"><img src=\"https://colab.research.google.com/assets/colab-badge.svg\" alt=\"Open In Colab\"/></a>"
      ]
    },
    {
      "cell_type": "code",
      "execution_count": 1,
      "metadata": {
        "id": "h4zVJuvxbApY",
        "colab": {
          "base_uri": "https://localhost:8080/"
        },
        "outputId": "5472ca43-72b3-403d-dfcb-2ac43646652c"
      },
      "outputs": [
        {
          "output_type": "stream",
          "name": "stdout",
          "text": [
            "Device: cuda\n"
          ]
        }
      ],
      "source": [
        "\n",
        "import os, math, time, random\n",
        "import torch\n",
        "import torch.nn as nn\n",
        "import torch.optim as optim\n",
        "from torch.utils.data import DataLoader, random_split\n",
        "from torchvision import datasets, transforms\n",
        "import matplotlib.pyplot as plt\n",
        "import torch.nn.functional as F\n",
        "import torch.nn.init as init\n",
        "import pandas as pd\n",
        "import argparse\n",
        "import wandb\n",
        "\n",
        "SEED = 42\n",
        "random.seed(SEED); torch.manual_seed(SEED); torch.cuda.manual_seed_all(SEED)\n",
        "torch.backends.cudnn.benchmark = True  # OK for CNNs\n",
        "device = torch.device(\"cuda\" if torch.cuda.is_available() else \"cpu\")\n",
        "print(\"Device:\", device)\n"
      ]
    },
    {
      "cell_type": "code",
      "execution_count": 2,
      "metadata": {
        "id": "0m4DG18mQVuz"
      },
      "outputs": [],
      "source": [
        "from PIL import Image, ImageEnhance, ImageOps\n",
        "import random\n",
        "import numpy as np\n",
        "import torch\n",
        "\n",
        "\n",
        "class Cutout(object):\n",
        "    \"\"\"Randomly mask out one or more patches from an image.\n",
        "    Args:\n",
        "        n_holes (int): Number of patches to cut out of each image.\n",
        "        length (int): The length (in pixels) of each square patch.\n",
        "    \"\"\"\n",
        "    def __init__(self, n_holes, length):\n",
        "        self.n_holes = n_holes\n",
        "        self.length = length\n",
        "\n",
        "    def __call__(self, img):\n",
        "        \"\"\"\n",
        "        Args:\n",
        "            img (Tensor): Tensor image of size (C, H, W).\n",
        "        Returns:\n",
        "            Tensor: Image with n_holes of dimension length x length cut out of it.\n",
        "        \"\"\"\n",
        "        h = img.size(1)\n",
        "        w = img.size(2)\n",
        "\n",
        "        mask = np.ones((h, w), np.float32)\n",
        "\n",
        "        for n in range(self.n_holes):\n",
        "            y = np.random.randint(h)\n",
        "            x = np.random.randint(w)\n",
        "\n",
        "            y1 = np.clip(y - self.length // 2, 0, h)\n",
        "            y2 = np.clip(y + self.length // 2, 0, h)\n",
        "            x1 = np.clip(x - self.length // 2, 0, w)\n",
        "            x2 = np.clip(x + self.length // 2, 0, w)\n",
        "\n",
        "            mask[y1: y2, x1: x2] = 0.\n",
        "\n",
        "        mask = torch.from_numpy(mask)\n",
        "        mask = mask.expand_as(img)\n",
        "        img = img * mask\n",
        "        return img\n",
        "\n",
        "class SubPolicy(object):\n",
        "    def __init__(self, p1, operation1, magnitude_idx1, p2, operation2, magnitude_idx2, fillcolor=(128, 128, 128)):\n",
        "        self.p1 = p1\n",
        "        self.op1=operation1\n",
        "        self.magnitude_idx1=magnitude_idx1\n",
        "        self.p2 = p2\n",
        "        self.op2=operation2\n",
        "        self.magnitude_idx2=magnitude_idx2\n",
        "        self.fillcolor=fillcolor\n",
        "        self.init = 0\n",
        "\n",
        "    def gen(self, operation1, magnitude_idx1, operation2, magnitude_idx2, fillcolor):\n",
        "        ranges = {\n",
        "            \"shearX\": np.linspace(0, 0.3, 10),\n",
        "            \"shearY\": np.linspace(0, 0.3, 10),\n",
        "            \"translateX\": np.linspace(0, 150 / 331, 10),\n",
        "            \"translateY\": np.linspace(0, 150 / 331, 10),\n",
        "            \"rotate\": np.linspace(0, 30, 10),\n",
        "            \"color\": np.linspace(0.0, 0.9, 10),\n",
        "            \"posterize\": np.round(np.linspace(8, 4, 10), 0).astype(int),\n",
        "            \"solarize\": np.linspace(256, 0, 10),\n",
        "            \"contrast\": np.linspace(0.0, 0.9, 10),\n",
        "            \"sharpness\": np.linspace(0.0, 0.9, 10),\n",
        "            \"brightness\": np.linspace(0.0, 0.9, 10),\n",
        "            \"autocontrast\": [0] * 10,\n",
        "            \"equalize\": [0] * 10,\n",
        "            \"invert\": [0] * 10\n",
        "        }\n",
        "        def rotate_with_fill(img, magnitude):\n",
        "            rot = img.convert(\"RGBA\").rotate(magnitude)\n",
        "            return Image.composite(rot, Image.new(\"RGBA\", rot.size, (128,) * 4), rot).convert(img.mode)\n",
        "\n",
        "        func = {\n",
        "            \"shearX\": lambda img, magnitude: img.transform(\n",
        "                img.size, Image.AFFINE, (1, magnitude *\n",
        "                                         random.choice([-1, 1]), 0, 0, 1, 0),\n",
        "                Image.BICUBIC, fillcolor=fillcolor),\n",
        "            \"shearY\": lambda img, magnitude: img.transform(\n",
        "                img.size, Image.AFFINE, (1, 0, 0, magnitude *\n",
        "                                         random.choice([-1, 1]), 1, 0),\n",
        "                Image.BICUBIC, fillcolor=fillcolor),\n",
        "            \"translateX\": lambda img, magnitude: img.transform(\n",
        "                img.size, Image.AFFINE, (1, 0, magnitude *\n",
        "                                         img.size[0] * random.choice([-1, 1]), 0, 1, 0),\n",
        "                fillcolor=fillcolor),\n",
        "            \"translateY\": lambda img, magnitude: img.transform(\n",
        "                img.size, Image.AFFINE, (1, 0, 0, 0, 1, magnitude *\n",
        "                                         img.size[1] * random.choice([-1, 1])),\n",
        "                fillcolor=fillcolor),\n",
        "            \"rotate\": lambda img, magnitude: rotate_with_fill(img, magnitude),\n",
        "            # \"rotate\": lambda img, magnitude: img.rotate(magnitude * random.choice([-1, 1])),\n",
        "            \"color\": lambda img, magnitude: ImageEnhance.Color(img).enhance(1 + magnitude * random.choice([-1, 1])),\n",
        "            \"posterize\": lambda img, magnitude: ImageOps.posterize(img, magnitude),\n",
        "            \"solarize\": lambda img, magnitude: ImageOps.solarize(img, magnitude),\n",
        "            \"contrast\": lambda img, magnitude: ImageEnhance.Contrast(img).enhance(\n",
        "                1 + magnitude * random.choice([-1, 1])),\n",
        "            \"sharpness\": lambda img, magnitude: ImageEnhance.Sharpness(img).enhance(\n",
        "                1 + magnitude * random.choice([-1, 1])),\n",
        "            \"brightness\": lambda img, magnitude: ImageEnhance.Brightness(img).enhance(\n",
        "                1 + magnitude * random.choice([-1, 1])),\n",
        "            \"autocontrast\": lambda img, magnitude: ImageOps.autocontrast(img),\n",
        "            \"equalize\": lambda img, magnitude: ImageOps.equalize(img),\n",
        "            \"invert\": lambda img, magnitude: ImageOps.invert(img)\n",
        "        }\n",
        "\n",
        "        self.operation1 = func[operation1]\n",
        "        self.magnitude1 = ranges[operation1][magnitude_idx1]\n",
        "        self.operation2 = func[operation2]\n",
        "        self.magnitude2 = ranges[operation2][magnitude_idx2]\n",
        "\n",
        "    def __call__(self, img):\n",
        "        if self.init == 0:\n",
        "            self.gen(self.op1, self.magnitude_idx1, self.op2, self.magnitude_idx2, self.fillcolor)\n",
        "            self.init = 1\n",
        "        if random.random() < self.p1:\n",
        "            img = self.operation1(img, self.magnitude1)\n",
        "        if random.random() < self.p2:\n",
        "            img = self.operation2(img, self.magnitude2)\n",
        "        return img\n",
        "\n",
        "class ImageNetPolicy(object):\n",
        "    \"\"\" Randomly choose one of the best 24 Sub-policies on ImageNet.\n",
        "        Example:\n",
        "        >>> policy = ImageNetPolicy()\n",
        "        >>> transformed = policy(image)\n",
        "        Example as a PyTorch Transform:\n",
        "        >>> transform=transforms.Compose([\n",
        "        >>>     transforms.Resize(256),\n",
        "        >>>     ImageNetPolicy(),\n",
        "        >>>     transforms.ToTensor()])\n",
        "    \"\"\"\n",
        "\n",
        "    def __init__(self, fillcolor=(128, 128, 128)):\n",
        "        self.policies = [\n",
        "            SubPolicy(0.4, \"posterize\", 8, 0.6, \"rotate\", 9, fillcolor),\n",
        "            SubPolicy(0.6, \"solarize\", 5, 0.6, \"autocontrast\", 5, fillcolor),\n",
        "            SubPolicy(0.8, \"equalize\", 8, 0.6, \"equalize\", 3, fillcolor),\n",
        "            SubPolicy(0.6, \"posterize\", 7, 0.6, \"posterize\", 6, fillcolor),\n",
        "            SubPolicy(0.4, \"equalize\", 7, 0.2, \"solarize\", 4, fillcolor),\n",
        "\n",
        "            SubPolicy(0.4, \"equalize\", 4, 0.8, \"rotate\", 8, fillcolor),\n",
        "            SubPolicy(0.6, \"solarize\", 3, 0.6, \"equalize\", 7, fillcolor),\n",
        "            SubPolicy(0.8, \"posterize\", 5, 1.0, \"equalize\", 2, fillcolor),\n",
        "            SubPolicy(0.2, \"rotate\", 3, 0.6, \"solarize\", 8, fillcolor),\n",
        "            SubPolicy(0.6, \"equalize\", 8, 0.4, \"posterize\", 6, fillcolor),\n",
        "\n",
        "            SubPolicy(0.8, \"rotate\", 8, 0.4, \"color\", 0, fillcolor),\n",
        "            SubPolicy(0.4, \"rotate\", 9, 0.6, \"equalize\", 2, fillcolor),\n",
        "            SubPolicy(0.0, \"equalize\", 7, 0.8, \"equalize\", 8, fillcolor),\n",
        "            SubPolicy(0.6, \"invert\", 4, 1.0, \"equalize\", 8, fillcolor),\n",
        "            SubPolicy(0.6, \"color\", 4, 1.0, \"contrast\", 8, fillcolor),\n",
        "\n",
        "            SubPolicy(0.8, \"rotate\", 8, 1.0, \"color\", 2, fillcolor),\n",
        "            SubPolicy(0.8, \"color\", 8, 0.8, \"solarize\", 7, fillcolor),\n",
        "            SubPolicy(0.4, \"sharpness\", 7, 0.6, \"invert\", 8, fillcolor),\n",
        "            SubPolicy(0.6, \"shearX\", 5, 1.0, \"equalize\", 9, fillcolor),\n",
        "            SubPolicy(0.4, \"color\", 0, 0.6, \"equalize\", 3, fillcolor),\n",
        "\n",
        "            SubPolicy(0.4, \"equalize\", 7, 0.2, \"solarize\", 4, fillcolor),\n",
        "            SubPolicy(0.6, \"solarize\", 5, 0.6, \"autocontrast\", 5, fillcolor),\n",
        "            SubPolicy(0.6, \"invert\", 4, 1.0, \"equalize\", 8, fillcolor),\n",
        "            SubPolicy(0.6, \"color\", 4, 1.0, \"contrast\", 8, fillcolor)\n",
        "        ]\n",
        "\n",
        "    def __call__(self, img):\n",
        "        policy_idx = random.randint(0, len(self.policies) - 1)\n",
        "        return self.policies[policy_idx](img)\n",
        "\n",
        "    def __repr__(self):\n",
        "        return \"AutoAugment ImageNet Policy\"\n",
        "\n",
        "class CIFAR10Policy(object):\n",
        "    \"\"\" Randomly choose one of the best 25 Sub-policies on CIFAR10.\n",
        "\n",
        "        Example:\n",
        "        >>> policy = CIFAR10Policy()\n",
        "        >>> transformed = policy(image)\n",
        "\n",
        "        Example as a PyTorch Transform:\n",
        "        >>> transform=transforms.Compose([\n",
        "        >>>     transforms.Resize(256),\n",
        "        >>>     CIFAR10Policy(),\n",
        "        >>>     transforms.ToTensor()])\n",
        "    \"\"\"\n",
        "\n",
        "    def __init__(self, fillcolor=(128, 128, 128)):\n",
        "        self.policies = [\n",
        "            SubPolicy(0.1, \"invert\", 7, 0.2, \"contrast\", 6, fillcolor),\n",
        "            SubPolicy(0.7, \"rotate\", 2, 0.3, \"translateX\", 9, fillcolor),\n",
        "            SubPolicy(0.8, \"sharpness\", 1, 0.9, \"sharpness\", 3, fillcolor),\n",
        "            SubPolicy(0.5, \"shearY\", 8, 0.7, \"translateY\", 9, fillcolor),\n",
        "            SubPolicy(0.5, \"autocontrast\", 8, 0.9, \"equalize\", 2, fillcolor),\n",
        "\n",
        "            SubPolicy(0.2, \"shearY\", 7, 0.3, \"posterize\", 7, fillcolor),\n",
        "            SubPolicy(0.4, \"color\", 3, 0.6, \"brightness\", 7, fillcolor),\n",
        "            SubPolicy(0.3, \"sharpness\", 9, 0.7, \"brightness\", 9, fillcolor),\n",
        "            SubPolicy(0.6, \"equalize\", 5, 0.5, \"equalize\", 1, fillcolor),\n",
        "            SubPolicy(0.6, \"contrast\", 7, 0.6, \"sharpness\", 5, fillcolor),\n",
        "\n",
        "            SubPolicy(0.7, \"color\", 7, 0.5, \"translateX\", 8, fillcolor),\n",
        "            SubPolicy(0.3, \"equalize\", 7, 0.4, \"autocontrast\", 8, fillcolor),\n",
        "            SubPolicy(0.4, \"translateY\", 3, 0.2, \"sharpness\", 6, fillcolor),\n",
        "            SubPolicy(0.9, \"brightness\", 6, 0.2, \"color\", 8, fillcolor),\n",
        "            SubPolicy(0.5, \"solarize\", 2, 0.0, \"invert\", 3, fillcolor),\n",
        "\n",
        "            SubPolicy(0.2, \"equalize\", 0, 0.6, \"autocontrast\", 0, fillcolor),\n",
        "            SubPolicy(0.2, \"equalize\", 8, 0.8, \"equalize\", 4, fillcolor),\n",
        "            SubPolicy(0.9, \"color\", 9, 0.6, \"equalize\", 6, fillcolor),\n",
        "            SubPolicy(0.8, \"autocontrast\", 4, 0.2, \"solarize\", 8, fillcolor),\n",
        "            SubPolicy(0.1, \"brightness\", 3, 0.7, \"color\", 0, fillcolor),\n",
        "\n",
        "            SubPolicy(0.4, \"solarize\", 5, 0.9, \"autocontrast\", 3, fillcolor),\n",
        "            SubPolicy(0.9, \"translateY\", 9, 0.7, \"translateY\", 9, fillcolor),\n",
        "            SubPolicy(0.9, \"autocontrast\", 2, 0.8, \"solarize\", 3, fillcolor),\n",
        "            SubPolicy(0.8, \"equalize\", 8, 0.1, \"invert\", 3, fillcolor),\n",
        "            SubPolicy(0.7, \"translateY\", 9, 0.9, \"autocontrast\", 1, fillcolor)\n",
        "        ]\n",
        "\n",
        "    def __call__(self, img):\n",
        "        policy_idx = random.randint(0, len(self.policies) - 1)\n",
        "        return self.policies[policy_idx](img)\n",
        "\n",
        "    def __repr__(self):\n",
        "        return \"AutoAugment CIFAR10 Policy\"\n"
      ]
    },
    {
      "cell_type": "code",
      "source": [
        "# -----------------------------\n",
        "# CIFAR-10 Normalization\n",
        "# -----------------------------\n",
        "CIFAR10_MEAN = (0.4914, 0.4822, 0.4465)\n",
        "CIFAR10_STD  = (0.2023, 0.1994, 0.2010)"
      ],
      "metadata": {
        "id": "jZDCbvHmRSA2"
      },
      "execution_count": 3,
      "outputs": []
    },
    {
      "cell_type": "code",
      "source": [
        "def get_transforms(strong_aug=False):\n",
        "    train_list = [\n",
        "        transforms.RandomCrop(32, padding=4),\n",
        "        transforms.RandomHorizontalFlip(p=0.5),\n",
        "    ]\n",
        "    if strong_aug:\n",
        "        from torchvision.transforms import AutoAugment, AutoAugmentPolicy\n",
        "        train_list.append(AutoAugment(AutoAugmentPolicy.CIFAR10))\n",
        "\n",
        "    train_list += [\n",
        "        transforms.ToTensor(),\n",
        "        transforms.Normalize(CIFAR10_MEAN, CIFAR10_STD),\n",
        "    ]\n",
        "    if strong_aug:\n",
        "        train_list.append(transforms.RandomErasing(p=0.25, scale=(0.02,0.1), ratio=(0.3,3.3)))\n",
        "\n",
        "    train_tfms = transforms.Compose(train_list)\n",
        "    test_tfms  = transforms.Compose([\n",
        "        transforms.ToTensor(),\n",
        "        transforms.Normalize(CIFAR10_MEAN, CIFAR10_STD)\n",
        "    ])\n",
        "    return train_tfms, test_tfms\n",
        "\n",
        "def make_loaders(batch_size=128, val_ratio=0.1, strong_aug=False):\n",
        "    train_tfms, test_tfms = get_transforms(strong_aug)\n",
        "    train_full = datasets.CIFAR10(\"./data\", train=True,  transform=train_tfms, download=True)\n",
        "    test_set   = datasets.CIFAR10(\"./data\", train=False, transform=test_tfms, download=True)\n",
        "\n",
        "    val_size = int(len(train_full)*val_ratio)\n",
        "    train_size = len(train_full)-val_size\n",
        "    train_set, val_set = random_split(train_full, [train_size,val_size],\n",
        "                                      generator=torch.Generator().manual_seed(SEED))\n",
        "    train_loader = DataLoader(train_set, batch_size=batch_size, shuffle=True,  num_workers=2, pin_memory=True)\n",
        "    val_loader   = DataLoader(val_set,   batch_size=256,      shuffle=False, num_workers=2)\n",
        "    test_loader  = DataLoader(test_set,  batch_size=256,      shuffle=False, num_workers=2)\n",
        "    return train_loader, val_loader, test_loader\n"
      ],
      "metadata": {
        "id": "P6diQsWNTVUb"
      },
      "execution_count": 4,
      "outputs": []
    },
    {
      "cell_type": "code",
      "source": [
        "def get_activation(name):\n",
        "    n = name.lower()\n",
        "    if n==\"relu\": return nn.ReLU(inplace=True)\n",
        "    if n==\"silu\": return nn.SiLU(inplace=True)\n",
        "    if n==\"gelu\": return nn.GELU()\n",
        "    if n==\"tanh\": return nn.Tanh()\n",
        "    if n==\"sigmoid\": return nn.Sigmoid()\n",
        "    return nn.ReLU(inplace=True)\n",
        "\n",
        "class VGG6(nn.Module):\n",
        "    def __init__(self, num_classes=10, act=\"relu\", use_bn=True, p_drop=0.5):\n",
        "        super().__init__()\n",
        "        Act=lambda: get_activation(act)\n",
        "        def conv_block(i,o):\n",
        "            layers=[nn.Conv2d(i,o,3,padding=1)]\n",
        "            if use_bn: layers.append(nn.BatchNorm2d(o))\n",
        "            layers.append(Act())\n",
        "            return nn.Sequential(*layers)\n",
        "\n",
        "        self.features=nn.Sequential(\n",
        "            conv_block(3,64), conv_block(64,64), nn.MaxPool2d(2),\n",
        "            conv_block(64,128), conv_block(128,128), nn.MaxPool2d(2),\n",
        "            conv_block(128,256), conv_block(256,256), nn.MaxPool2d(2)\n",
        "        )\n",
        "        self.classifier=nn.Sequential(\n",
        "            nn.Flatten(),\n",
        "            nn.Linear(256*4*4,512), Act(), nn.Dropout(p_drop),\n",
        "            nn.Linear(512,num_classes)\n",
        "        )\n",
        "\n",
        "    def forward(self,x):\n",
        "        return self.classifier(self.features(x))\n"
      ],
      "metadata": {
        "id": "P039tqsDTbqK"
      },
      "execution_count": 5,
      "outputs": []
    },
    {
      "cell_type": "code",
      "source": [
        "def accuracy(logits, y):\n",
        "    return (logits.argmax(1)==y).float().mean().item()\n",
        "\n",
        "@torch.no_grad()\n",
        "def evaluate(model, loader, crit):\n",
        "    model.eval(); tot_loss=tot_acc=tot=0\n",
        "    for x,y in loader:\n",
        "        x,y=x.to(device),y.to(device)\n",
        "        out=model(x)\n",
        "        loss=crit(out,y)\n",
        "        tot_loss+=loss.item()*x.size(0)\n",
        "        tot_acc+=(out.argmax(1)==y).sum().item()\n",
        "        tot+=x.size(0)\n",
        "    return tot_loss/tot, tot_acc/tot\n"
      ],
      "metadata": {
        "id": "ji4inXdITbhh"
      },
      "execution_count": 6,
      "outputs": []
    },
    {
      "cell_type": "code",
      "source": [
        "def train_vgg6(config):\n",
        "    wandb.init(project=\"cifar10-vgg6-assignment\", config=config)\n",
        "    cfg=wandb.config\n",
        "\n",
        "    train_loader,val_loader,test_loader=make_loaders(cfg.batch_size,0.1,cfg.strong_aug)\n",
        "    model=VGG6(act=cfg.act).to(device)\n",
        "    crit=nn.CrossEntropyLoss(label_smoothing=0.1)\n",
        "    opt=optim.SGD(model.parameters(), lr=cfg.lr, momentum=0.9, weight_decay=5e-4)\n",
        "    sch=optim.lr_scheduler.CosineAnnealingLR(opt,T_max=cfg.epochs)\n",
        "\n",
        "    wandb.define_metric(\"global_step\")\n",
        "    wandb.define_metric(\"epoch\")\n",
        "    wandb.define_metric(\"train/*\", step_metric=\"global_step\")\n",
        "    wandb.define_metric(\"val/*\", step_metric=\"epoch\")\n",
        "\n",
        "    global_step=0\n",
        "    best_acc=0\n",
        "\n",
        "    for epoch in range(1,cfg.epochs+1):\n",
        "        model.train()\n",
        "        ep_loss=ep_acc=seen=0\n",
        "        for x,y in train_loader:\n",
        "            x,y=x.to(device),y.to(device)\n",
        "            opt.zero_grad(set_to_none=True)\n",
        "            out=model(x)\n",
        "            loss=crit(out,y)\n",
        "            loss.backward(); opt.step()\n",
        "            acc=accuracy(out,y)\n",
        "            ep_loss+=loss.item()*x.size(0); ep_acc+=acc*x.size(0); seen+=x.size(0)\n",
        "            global_step+=1\n",
        "            wandb.log({\"global_step\":global_step,\"train/loss\":loss.item(),\"train/acc\":acc})\n",
        "        sch.step()\n",
        "        train_loss,train_acc=ep_loss/seen,ep_acc/seen\n",
        "        val_loss,val_acc=evaluate(model,val_loader,crit)\n",
        "        test_loss,test_acc=evaluate(model,test_loader,crit)\n",
        "        wandb.log({\"epoch\":epoch,\n",
        "                   \"train/epoch_loss\":train_loss,\"train/epoch_acc\":train_acc,\n",
        "                   \"val/loss\":val_loss,\"val/acc\":val_acc,\n",
        "                   \"test/loss\":test_loss,\"test/acc\":test_acc})\n",
        "        if test_acc>best_acc: best_acc=test_acc\n",
        "        print(f\"Epoch {epoch:03d}: train_acc={train_acc*100:.2f} val_acc={val_acc*100:.2f} test_acc={test_acc*100:.2f}\")\n",
        "    wandb.summary[\"best_test_acc\"]=best_acc\n",
        "    wandb.finish()\n"
      ],
      "metadata": {
        "id": "QKZowGqpThfb"
      },
      "execution_count": 7,
      "outputs": []
    },
    {
      "cell_type": "code",
      "source": [
        "config={\n",
        "    \"act\":\"relu\",          # try: relu, silu, gelu, tanh, sigmoid\n",
        "    \"optimizer\":\"sgd\",\n",
        "    \"lr\":0.1,\n",
        "    \"batch_size\":128,\n",
        "    \"epochs\":20,           # increase to 60 for better acc\n",
        "    \"strong_aug\":False\n",
        "}\n",
        "train_vgg6(config)\n"
      ],
      "metadata": {
        "colab": {
          "base_uri": "https://localhost:8080/",
          "height": 1000
        },
        "id": "D4pD1Sb6TmPr",
        "outputId": "a59820f2-6a61-42d9-f0bd-1b40573f24b7"
      },
      "execution_count": 8,
      "outputs": [
        {
          "output_type": "stream",
          "name": "stderr",
          "text": [
            "/usr/local/lib/python3.12/dist-packages/notebook/notebookapp.py:191: SyntaxWarning: invalid escape sequence '\\/'\n",
            "  | |_| | '_ \\/ _` / _` |  _/ -_)\n"
          ]
        },
        {
          "output_type": "display_data",
          "data": {
            "text/plain": [
              "<IPython.core.display.Javascript object>"
            ],
            "application/javascript": [
              "\n",
              "        window._wandbApiKey = new Promise((resolve, reject) => {\n",
              "            function loadScript(url) {\n",
              "            return new Promise(function(resolve, reject) {\n",
              "                let newScript = document.createElement(\"script\");\n",
              "                newScript.onerror = reject;\n",
              "                newScript.onload = resolve;\n",
              "                document.body.appendChild(newScript);\n",
              "                newScript.src = url;\n",
              "            });\n",
              "            }\n",
              "            loadScript(\"https://cdn.jsdelivr.net/npm/postmate/build/postmate.min.js\").then(() => {\n",
              "            const iframe = document.createElement('iframe')\n",
              "            iframe.style.cssText = \"width:0;height:0;border:none\"\n",
              "            document.body.appendChild(iframe)\n",
              "            const handshake = new Postmate({\n",
              "                container: iframe,\n",
              "                url: 'https://wandb.ai/authorize'\n",
              "            });\n",
              "            const timeout = setTimeout(() => reject(\"Couldn't auto authenticate\"), 5000)\n",
              "            handshake.then(function(child) {\n",
              "                child.on('authorize', data => {\n",
              "                    clearTimeout(timeout)\n",
              "                    resolve(data)\n",
              "                });\n",
              "            });\n",
              "            })\n",
              "        });\n",
              "    "
            ]
          },
          "metadata": {}
        },
        {
          "output_type": "stream",
          "name": "stderr",
          "text": [
            "\u001b[34m\u001b[1mwandb\u001b[0m: Logging into wandb.ai. (Learn how to deploy a W&B server locally: https://wandb.me/wandb-server)\n",
            "\u001b[34m\u001b[1mwandb\u001b[0m: You can find your API key in your browser here: https://wandb.ai/authorize?ref=models\n",
            "wandb: Paste an API key from your profile and hit enter:"
          ]
        },
        {
          "name": "stdout",
          "output_type": "stream",
          "text": [
            " ··········\n"
          ]
        },
        {
          "output_type": "stream",
          "name": "stderr",
          "text": [
            "\u001b[34m\u001b[1mwandb\u001b[0m: \u001b[33mWARNING\u001b[0m If you're specifying your api key in code, ensure this code is not shared publicly.\n",
            "\u001b[34m\u001b[1mwandb\u001b[0m: \u001b[33mWARNING\u001b[0m Consider setting the WANDB_API_KEY environment variable, or running `wandb login` from the command line.\n",
            "\u001b[34m\u001b[1mwandb\u001b[0m: No netrc file found, creating one.\n",
            "\u001b[34m\u001b[1mwandb\u001b[0m: Appending key for api.wandb.ai to your netrc file: /root/.netrc\n",
            "\u001b[34m\u001b[1mwandb\u001b[0m: Currently logged in as: \u001b[33mee23m505\u001b[0m (\u001b[33mee23m505-iitmaana\u001b[0m) to \u001b[32mhttps://api.wandb.ai\u001b[0m. Use \u001b[1m`wandb login --relogin`\u001b[0m to force relogin\n"
          ]
        },
        {
          "output_type": "display_data",
          "data": {
            "text/plain": [
              "<IPython.core.display.HTML object>"
            ],
            "text/html": []
          },
          "metadata": {}
        },
        {
          "output_type": "display_data",
          "data": {
            "text/plain": [
              "<IPython.core.display.HTML object>"
            ],
            "text/html": [
              "Tracking run with wandb version 0.22.2"
            ]
          },
          "metadata": {}
        },
        {
          "output_type": "display_data",
          "data": {
            "text/plain": [
              "<IPython.core.display.HTML object>"
            ],
            "text/html": [
              "Run data is saved locally in <code>/content/wandb/run-20251026_155337-bhlpmb69</code>"
            ]
          },
          "metadata": {}
        },
        {
          "output_type": "display_data",
          "data": {
            "text/plain": [
              "<IPython.core.display.HTML object>"
            ],
            "text/html": [
              "Syncing run <strong><a href='https://wandb.ai/ee23m505-iitmaana/cifar10-vgg6-assignment/runs/bhlpmb69' target=\"_blank\">denim-vortex-2</a></strong> to <a href='https://wandb.ai/ee23m505-iitmaana/cifar10-vgg6-assignment' target=\"_blank\">Weights & Biases</a> (<a href='https://wandb.me/developer-guide' target=\"_blank\">docs</a>)<br>"
            ]
          },
          "metadata": {}
        },
        {
          "output_type": "display_data",
          "data": {
            "text/plain": [
              "<IPython.core.display.HTML object>"
            ],
            "text/html": [
              " View project at <a href='https://wandb.ai/ee23m505-iitmaana/cifar10-vgg6-assignment' target=\"_blank\">https://wandb.ai/ee23m505-iitmaana/cifar10-vgg6-assignment</a>"
            ]
          },
          "metadata": {}
        },
        {
          "output_type": "display_data",
          "data": {
            "text/plain": [
              "<IPython.core.display.HTML object>"
            ],
            "text/html": [
              " View run at <a href='https://wandb.ai/ee23m505-iitmaana/cifar10-vgg6-assignment/runs/bhlpmb69' target=\"_blank\">https://wandb.ai/ee23m505-iitmaana/cifar10-vgg6-assignment/runs/bhlpmb69</a>"
            ]
          },
          "metadata": {}
        },
        {
          "output_type": "stream",
          "name": "stderr",
          "text": [
            "100%|██████████| 170M/170M [00:03<00:00, 48.8MB/s]\n"
          ]
        },
        {
          "output_type": "stream",
          "name": "stdout",
          "text": [
            "Epoch 001: train_acc=15.59 val_acc=19.80 test_acc=20.22\n",
            "Epoch 002: train_acc=23.06 val_acc=31.94 test_acc=32.37\n",
            "Epoch 003: train_acc=34.34 val_acc=45.24 test_acc=46.64\n",
            "Epoch 004: train_acc=47.88 val_acc=51.32 test_acc=52.31\n",
            "Epoch 005: train_acc=58.91 val_acc=60.80 test_acc=62.34\n",
            "Epoch 006: train_acc=66.06 val_acc=64.10 test_acc=65.76\n",
            "Epoch 007: train_acc=71.49 val_acc=61.26 test_acc=62.36\n",
            "Epoch 008: train_acc=74.76 val_acc=72.62 test_acc=74.42\n",
            "Epoch 009: train_acc=77.49 val_acc=77.54 test_acc=78.86\n",
            "Epoch 010: train_acc=79.59 val_acc=69.20 test_acc=69.73\n",
            "Epoch 011: train_acc=81.78 val_acc=77.18 test_acc=76.38\n",
            "Epoch 012: train_acc=83.41 val_acc=80.30 test_acc=81.67\n",
            "Epoch 013: train_acc=85.13 val_acc=83.10 test_acc=83.71\n",
            "Epoch 014: train_acc=86.50 val_acc=83.06 test_acc=83.37\n",
            "Epoch 015: train_acc=87.98 val_acc=83.50 test_acc=84.19\n",
            "Epoch 016: train_acc=89.40 val_acc=87.02 test_acc=87.26\n",
            "Epoch 017: train_acc=91.05 val_acc=86.44 test_acc=87.32\n",
            "Epoch 018: train_acc=91.98 val_acc=88.76 test_acc=88.98\n",
            "Epoch 019: train_acc=92.90 val_acc=89.44 test_acc=89.44\n",
            "Epoch 020: train_acc=93.29 val_acc=89.20 test_acc=89.87\n"
          ]
        },
        {
          "output_type": "display_data",
          "data": {
            "text/plain": [
              "<IPython.core.display.HTML object>"
            ],
            "text/html": []
          },
          "metadata": {}
        },
        {
          "output_type": "display_data",
          "data": {
            "text/plain": [
              "<IPython.core.display.HTML object>"
            ],
            "text/html": [
              "<br>    <style><br>        .wandb-row {<br>            display: flex;<br>            flex-direction: row;<br>            flex-wrap: wrap;<br>            justify-content: flex-start;<br>            width: 100%;<br>        }<br>        .wandb-col {<br>            display: flex;<br>            flex-direction: column;<br>            flex-basis: 100%;<br>            flex: 1;<br>            padding: 10px;<br>        }<br>    </style><br><div class=\"wandb-row\"><div class=\"wandb-col\"><h3>Run history:</h3><br/><table class=\"wandb\"><tr><td>epoch</td><td>▁▁▂▂▂▃▃▄▄▄▅▅▅▆▆▇▇▇██</td></tr><tr><td>global_step</td><td>▁▁▁▂▂▂▂▃▃▃▃▄▄▄▄▄▄▅▅▅▅▅▅▅▅▆▆▆▇▇▇▇▇▇▇█████</td></tr><tr><td>test/acc</td><td>▁▂▄▄▅▆▅▆▇▆▇▇▇▇▇█████</td></tr><tr><td>test/loss</td><td>█▇▆▅▄▄▅▃▂▄▃▂▂▂▂▁▁▁▁▁</td></tr><tr><td>train/acc</td><td>▁▂▂▂▂▃▃▄▅▄▅▆▅▅▆▇▆▆▇▇▇▇▇▇▇▇▇▇▇▇██▇███████</td></tr><tr><td>train/epoch_acc</td><td>▁▂▃▄▅▆▆▆▇▇▇▇▇▇██████</td></tr><tr><td>train/epoch_loss</td><td>█▇▆▅▄▄▃▃▃▂▂▂▂▂▂▁▁▁▁▁</td></tr><tr><td>train/loss</td><td>██▇▇▆▆▆▅▄▄▃▂▃▄▃▃▃▃▃▂▂▂▃▂▂▂▂▂▂▁▂▁▁▁▁▁▁▁▁▁</td></tr><tr><td>val/acc</td><td>▁▂▄▄▅▅▅▆▇▆▇▇▇▇▇█████</td></tr><tr><td>val/loss</td><td>█▇▆▅▄▄▅▃▂▃▂▂▂▂▂▁▁▁▁▁</td></tr></table><br/></div><div class=\"wandb-col\"><h3>Run summary:</h3><br/><table class=\"wandb\"><tr><td>best_test_acc</td><td>0.8987</td></tr><tr><td>epoch</td><td>20</td></tr><tr><td>global_step</td><td>7040</td></tr><tr><td>test/acc</td><td>0.8987</td></tr><tr><td>test/loss</td><td>0.75898</td></tr><tr><td>train/acc</td><td>0.93056</td></tr><tr><td>train/epoch_acc</td><td>0.93289</td></tr><tr><td>train/epoch_loss</td><td>0.72622</td></tr><tr><td>train/loss</td><td>0.71898</td></tr><tr><td>val/acc</td><td>0.892</td></tr><tr><td>+1</td><td>...</td></tr></table><br/></div></div>"
            ]
          },
          "metadata": {}
        },
        {
          "output_type": "display_data",
          "data": {
            "text/plain": [
              "<IPython.core.display.HTML object>"
            ],
            "text/html": [
              " View run <strong style=\"color:#cdcd00\">denim-vortex-2</strong> at: <a href='https://wandb.ai/ee23m505-iitmaana/cifar10-vgg6-assignment/runs/bhlpmb69' target=\"_blank\">https://wandb.ai/ee23m505-iitmaana/cifar10-vgg6-assignment/runs/bhlpmb69</a><br> View project at: <a href='https://wandb.ai/ee23m505-iitmaana/cifar10-vgg6-assignment' target=\"_blank\">https://wandb.ai/ee23m505-iitmaana/cifar10-vgg6-assignment</a><br>Synced 5 W&B file(s), 0 media file(s), 0 artifact file(s) and 0 other file(s)"
            ]
          },
          "metadata": {}
        },
        {
          "output_type": "display_data",
          "data": {
            "text/plain": [
              "<IPython.core.display.HTML object>"
            ],
            "text/html": [
              "Find logs at: <code>./wandb/run-20251026_155337-bhlpmb69/logs</code>"
            ]
          },
          "metadata": {}
        }
      ]
    },
    {
      "cell_type": "code",
      "source": [
        "import wandb\n",
        "\n",
        "# Wrapper so W&B can call your trainer without args\n",
        "def sweep_train_vgg6():\n",
        "    with wandb.init(project=\"cifar10-vgg6-assignment\") as run:\n",
        "        cfg = dict(wandb.config)\n",
        "        # hand off to your existing trainer that expects a dict-like config\n",
        "        train_vgg6(cfg)\n",
        "\n",
        "# Safer ranges: work across SGD-like & Adam-like optimizers\n",
        "sweep_config = {\n",
        "    \"method\": \"random\",  # or \"bayes\" / \"grid\"\n",
        "    \"metric\": {\"name\": \"val/acc\", \"goal\": \"maximize\"},\n",
        "    \"parameters\": {\n",
        "        # 10 activations\n",
        "        \"act\": {\n",
        "            \"values\": [\n",
        "                \"relu\", \"silu\", \"gelu\", \"tanh\", \"sigmoid\",\n",
        "                \"leakyrelu\", \"elu\", \"selu\", \"softplus\", \"hardtanh\"\n",
        "            ]\n",
        "        },\n",
        "        # 10 optimizers\n",
        "        \"optimizer\": {\n",
        "            \"values\": [\n",
        "                \"sgd\", \"nesterov-sgd\", \"adam\", \"adamw\", \"nadam\",\n",
        "                \"rmsprop\", \"adagrad\", \"adamax\", \"asgd\", \"lbfgs\"\n",
        "            ]\n",
        "        },\n",
        "        \"lr\": {\"values\": [0.1, 0.05, 0.01, 0.005, 0.001]},\n",
        "        \"batch_size\": {\"values\": [64, 128, 256, 512]},\n",
        "        \"epochs\": {\"values\": [10, 20, 40, 60]},\n",
        "        \"strong_aug\": {\"values\": [False]}\n",
        "    }\n",
        "}\n",
        "\n",
        "sweep_id = wandb.sweep(sweep_config, project=\"cifar10-vgg6-assignment\")\n",
        "print(\"Sweep ID:\", sweep_id)\n",
        "\n",
        "# Launch N trials (each will call sweep_train_vgg6 -> train_vgg6(config))\n",
        "wandb.agent(sweep_id, function=sweep_train_vgg6, count=6)\n"
      ],
      "metadata": {
        "colab": {
          "base_uri": "https://localhost:8080/",
          "height": 607
        },
        "id": "o7vgM_BwcyIV",
        "outputId": "333b4e74-a6ac-4b43-ac53-492b5e5bda7b"
      },
      "execution_count": null,
      "outputs": [
        {
          "output_type": "stream",
          "name": "stdout",
          "text": [
            "Create sweep with ID: 501k1fc2\n",
            "Sweep URL: https://wandb.ai/ee23m505-iitmaana/cifar10-vgg6-assignment/sweeps/501k1fc2\n",
            "Sweep ID: 501k1fc2\n"
          ]
        },
        {
          "output_type": "stream",
          "name": "stderr",
          "text": [
            "\u001b[34m\u001b[1mwandb\u001b[0m: Agent Starting Run: xbf505b3 with config:\n",
            "\u001b[34m\u001b[1mwandb\u001b[0m: \tact: selu\n",
            "\u001b[34m\u001b[1mwandb\u001b[0m: \tbatch_size: 128\n",
            "\u001b[34m\u001b[1mwandb\u001b[0m: \tepochs: 60\n",
            "\u001b[34m\u001b[1mwandb\u001b[0m: \tlr: 0.001\n",
            "\u001b[34m\u001b[1mwandb\u001b[0m: \toptimizer: lbfgs\n",
            "\u001b[34m\u001b[1mwandb\u001b[0m: \tstrong_aug: False\n"
          ]
        },
        {
          "output_type": "display_data",
          "data": {
            "text/plain": [
              "<IPython.core.display.HTML object>"
            ],
            "text/html": [
              "Ignoring project 'cifar10-vgg6-assignment' when running a sweep."
            ]
          },
          "metadata": {}
        },
        {
          "output_type": "display_data",
          "data": {
            "text/plain": [
              "<IPython.core.display.HTML object>"
            ],
            "text/html": []
          },
          "metadata": {}
        },
        {
          "output_type": "display_data",
          "data": {
            "text/plain": [
              "<IPython.core.display.HTML object>"
            ],
            "text/html": [
              "Tracking run with wandb version 0.22.2"
            ]
          },
          "metadata": {}
        },
        {
          "output_type": "display_data",
          "data": {
            "text/plain": [
              "<IPython.core.display.HTML object>"
            ],
            "text/html": [
              "Run data is saved locally in <code>/content/wandb/run-20251026_160047-xbf505b3</code>"
            ]
          },
          "metadata": {}
        },
        {
          "output_type": "display_data",
          "data": {
            "text/plain": [
              "<IPython.core.display.HTML object>"
            ],
            "text/html": [
              "Syncing run <strong><a href='https://wandb.ai/ee23m505-iitmaana/cifar10-vgg6-assignment/runs/xbf505b3' target=\"_blank\">earthy-sweep-1</a></strong> to <a href='https://wandb.ai/ee23m505-iitmaana/cifar10-vgg6-assignment' target=\"_blank\">Weights & Biases</a> (<a href='https://wandb.me/developer-guide' target=\"_blank\">docs</a>)<br>Sweep page: <a href='https://wandb.ai/ee23m505-iitmaana/cifar10-vgg6-assignment/sweeps/501k1fc2' target=\"_blank\">https://wandb.ai/ee23m505-iitmaana/cifar10-vgg6-assignment/sweeps/501k1fc2</a>"
            ]
          },
          "metadata": {}
        },
        {
          "output_type": "display_data",
          "data": {
            "text/plain": [
              "<IPython.core.display.HTML object>"
            ],
            "text/html": [
              " View project at <a href='https://wandb.ai/ee23m505-iitmaana/cifar10-vgg6-assignment' target=\"_blank\">https://wandb.ai/ee23m505-iitmaana/cifar10-vgg6-assignment</a>"
            ]
          },
          "metadata": {}
        },
        {
          "output_type": "display_data",
          "data": {
            "text/plain": [
              "<IPython.core.display.HTML object>"
            ],
            "text/html": [
              " View sweep at <a href='https://wandb.ai/ee23m505-iitmaana/cifar10-vgg6-assignment/sweeps/501k1fc2' target=\"_blank\">https://wandb.ai/ee23m505-iitmaana/cifar10-vgg6-assignment/sweeps/501k1fc2</a>"
            ]
          },
          "metadata": {}
        },
        {
          "output_type": "display_data",
          "data": {
            "text/plain": [
              "<IPython.core.display.HTML object>"
            ],
            "text/html": [
              " View run at <a href='https://wandb.ai/ee23m505-iitmaana/cifar10-vgg6-assignment/runs/xbf505b3' target=\"_blank\">https://wandb.ai/ee23m505-iitmaana/cifar10-vgg6-assignment/runs/xbf505b3</a>"
            ]
          },
          "metadata": {}
        },
        {
          "output_type": "display_data",
          "data": {
            "text/plain": [
              "<IPython.core.display.HTML object>"
            ],
            "text/html": [
              "Ignoring project 'cifar10-vgg6-assignment' when running a sweep."
            ]
          },
          "metadata": {}
        },
        {
          "output_type": "display_data",
          "data": {
            "text/plain": [
              "<IPython.core.display.HTML object>"
            ],
            "text/html": [
              "Finishing previous runs because reinit is set to 'default'."
            ]
          },
          "metadata": {}
        },
        {
          "output_type": "display_data",
          "data": {
            "text/plain": [
              "<IPython.core.display.HTML object>"
            ],
            "text/html": []
          },
          "metadata": {}
        },
        {
          "output_type": "display_data",
          "data": {
            "text/plain": [
              "<IPython.core.display.HTML object>"
            ],
            "text/html": [
              " View run <strong style=\"color:#cdcd00\">earthy-sweep-1</strong> at: <a href='https://wandb.ai/ee23m505-iitmaana/cifar10-vgg6-assignment/runs/xbf505b3' target=\"_blank\">https://wandb.ai/ee23m505-iitmaana/cifar10-vgg6-assignment/runs/xbf505b3</a><br> View project at: <a href='https://wandb.ai/ee23m505-iitmaana/cifar10-vgg6-assignment' target=\"_blank\">https://wandb.ai/ee23m505-iitmaana/cifar10-vgg6-assignment</a><br>Synced 5 W&B file(s), 0 media file(s), 0 artifact file(s) and 0 other file(s)"
            ]
          },
          "metadata": {}
        },
        {
          "output_type": "display_data",
          "data": {
            "text/plain": [
              "<IPython.core.display.HTML object>"
            ],
            "text/html": [
              "Find logs at: <code>./wandb/run-20251026_160047-xbf505b3/logs</code>"
            ]
          },
          "metadata": {}
        },
        {
          "output_type": "display_data",
          "data": {
            "text/plain": [
              "<IPython.core.display.HTML object>"
            ],
            "text/html": []
          },
          "metadata": {}
        },
        {
          "output_type": "display_data",
          "data": {
            "text/plain": [
              "<IPython.core.display.HTML object>"
            ],
            "text/html": [
              "Tracking run with wandb version 0.22.2"
            ]
          },
          "metadata": {}
        },
        {
          "output_type": "display_data",
          "data": {
            "text/plain": [
              "<IPython.core.display.HTML object>"
            ],
            "text/html": [
              "Run data is saved locally in <code>/content/wandb/run-20251026_160049-xbf505b3</code>"
            ]
          },
          "metadata": {}
        },
        {
          "output_type": "display_data",
          "data": {
            "text/plain": [
              "<IPython.core.display.HTML object>"
            ],
            "text/html": [
              "Syncing run <strong><a href='https://wandb.ai/ee23m505-iitmaana/cifar10-vgg6-assignment/runs/xbf505b3' target=\"_blank\">earthy-sweep-1</a></strong> to <a href='https://wandb.ai/ee23m505-iitmaana/cifar10-vgg6-assignment' target=\"_blank\">Weights & Biases</a> (<a href='https://wandb.me/developer-guide' target=\"_blank\">docs</a>)<br>Sweep page: <a href='https://wandb.ai/ee23m505-iitmaana/cifar10-vgg6-assignment/sweeps/501k1fc2' target=\"_blank\">https://wandb.ai/ee23m505-iitmaana/cifar10-vgg6-assignment/sweeps/501k1fc2</a>"
            ]
          },
          "metadata": {}
        },
        {
          "output_type": "display_data",
          "data": {
            "text/plain": [
              "<IPython.core.display.HTML object>"
            ],
            "text/html": [
              " View project at <a href='https://wandb.ai/ee23m505-iitmaana/cifar10-vgg6-assignment' target=\"_blank\">https://wandb.ai/ee23m505-iitmaana/cifar10-vgg6-assignment</a>"
            ]
          },
          "metadata": {}
        },
        {
          "output_type": "display_data",
          "data": {
            "text/plain": [
              "<IPython.core.display.HTML object>"
            ],
            "text/html": [
              " View sweep at <a href='https://wandb.ai/ee23m505-iitmaana/cifar10-vgg6-assignment/sweeps/501k1fc2' target=\"_blank\">https://wandb.ai/ee23m505-iitmaana/cifar10-vgg6-assignment/sweeps/501k1fc2</a>"
            ]
          },
          "metadata": {}
        },
        {
          "output_type": "display_data",
          "data": {
            "text/plain": [
              "<IPython.core.display.HTML object>"
            ],
            "text/html": [
              " View run at <a href='https://wandb.ai/ee23m505-iitmaana/cifar10-vgg6-assignment/runs/xbf505b3' target=\"_blank\">https://wandb.ai/ee23m505-iitmaana/cifar10-vgg6-assignment/runs/xbf505b3</a>"
            ]
          },
          "metadata": {}
        },
        {
          "output_type": "stream",
          "name": "stdout",
          "text": [
            "Epoch 001: train_acc=38.16 val_acc=49.88 test_acc=52.16\n",
            "Epoch 002: train_acc=52.77 val_acc=58.40 test_acc=61.39\n",
            "Epoch 003: train_acc=60.18 val_acc=63.48 test_acc=65.96\n"
          ]
        }
      ]
    }
  ],
  "metadata": {
    "accelerator": "GPU",
    "colab": {
      "gpuType": "T4",
      "provenance": [],
      "authorship_tag": "ABX9TyNiA1DLb9q4QdHkme1/eE7z",
      "include_colab_link": true
    },
    "kernelspec": {
      "display_name": "Python 3",
      "name": "python3"
    },
    "language_info": {
      "name": "python"
    }
  },
  "nbformat": 4,
  "nbformat_minor": 0
}